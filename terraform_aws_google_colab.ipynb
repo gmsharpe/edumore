{
  "nbformat": 4,
  "nbformat_minor": 0,
  "metadata": {
    "colab": {
      "name": "terraform_aws_google_colab.ipynb",
      "provenance": [],
      "authorship_tag": "ABX9TyPhmEBxhdN1c03JkFdxcSE8",
      "include_colab_link": true
    },
    "kernelspec": {
      "name": "python3",
      "display_name": "Python 3"
    },
    "language_info": {
      "name": "python"
    }
  },
  "cells": [
    {
      "cell_type": "markdown",
      "metadata": {
        "id": "view-in-github",
        "colab_type": "text"
      },
      "source": [
        "<a href=\"https://colab.research.google.com/github/gmsharpe/edumore/blob/master/terraform_aws_google_colab.ipynb\" target=\"_parent\"><img src=\"https://colab.research.google.com/assets/colab-badge.svg\" alt=\"Open In Colab\"/></a>"
      ]
    },
    {
      "cell_type": "markdown",
      "source": [
        "# Terraform, AWS Athena & Google Colab\n",
        "\n",
        "## Download and Install Terraform"
      ],
      "metadata": {
        "id": "I7Fm8yNYa4XZ"
      }
    },
    {
      "cell_type": "code",
      "execution_count": 1,
      "metadata": {
        "colab": {
          "base_uri": "https://localhost:8080/"
        },
        "id": "O_LFdsKDuh0n",
        "outputId": "a057fea2-8d00-45bc-99fc-2f81e17691eb"
      },
      "outputs": [
        {
          "output_type": "stream",
          "name": "stdout",
          "text": [
            "Get:1 http://ppa.launchpad.net/c2d4u.team/c2d4u4.0+/ubuntu bionic InRelease [15.9 kB]\n",
            "Get:2 https://cloud.r-project.org/bin/linux/ubuntu bionic-cran40/ InRelease [3,626 B]\n",
            "Ign:3 https://developer.download.nvidia.com/compute/cuda/repos/ubuntu1804/x86_64  InRelease\n",
            "Get:4 http://security.ubuntu.com/ubuntu bionic-security InRelease [88.7 kB]\n",
            "Hit:5 http://archive.ubuntu.com/ubuntu bionic InRelease\n",
            "Ign:6 https://developer.download.nvidia.com/compute/machine-learning/repos/ubuntu1804/x86_64  InRelease\n",
            "Hit:7 https://developer.download.nvidia.com/compute/cuda/repos/ubuntu1804/x86_64  Release\n",
            "Hit:8 https://developer.download.nvidia.com/compute/machine-learning/repos/ubuntu1804/x86_64  Release\n",
            "Get:9 http://archive.ubuntu.com/ubuntu bionic-updates InRelease [88.7 kB]\n",
            "Hit:10 http://ppa.launchpad.net/cran/libgit2/ubuntu bionic InRelease\n",
            "Get:12 http://ppa.launchpad.net/deadsnakes/ppa/ubuntu bionic InRelease [15.9 kB]\n",
            "Hit:13 http://archive.ubuntu.com/ubuntu bionic-backports InRelease\n",
            "Get:15 http://ppa.launchpad.net/graphics-drivers/ppa/ubuntu bionic InRelease [21.3 kB]\n",
            "Get:16 http://security.ubuntu.com/ubuntu bionic-security/universe amd64 Packages [1,459 kB]\n",
            "Get:17 http://ppa.launchpad.net/c2d4u.team/c2d4u4.0+/ubuntu bionic/main Sources [1,822 kB]\n",
            "Get:18 http://archive.ubuntu.com/ubuntu bionic-updates/universe amd64 Packages [2,238 kB]\n",
            "Get:19 http://security.ubuntu.com/ubuntu bionic-security/restricted amd64 Packages [716 kB]\n",
            "Get:20 http://security.ubuntu.com/ubuntu bionic-security/main amd64 Packages [2,489 kB]\n",
            "Get:21 http://security.ubuntu.com/ubuntu bionic-security/multiverse amd64 Packages [26.8 kB]\n",
            "Get:22 http://archive.ubuntu.com/ubuntu bionic-updates/multiverse amd64 Packages [34.5 kB]\n",
            "Get:23 http://archive.ubuntu.com/ubuntu bionic-updates/restricted amd64 Packages [749 kB]\n",
            "Get:24 http://ppa.launchpad.net/c2d4u.team/c2d4u4.0+/ubuntu bionic/main amd64 Packages [934 kB]\n",
            "Get:25 http://archive.ubuntu.com/ubuntu bionic-updates/main amd64 Packages [2,929 kB]\n",
            "Get:26 http://ppa.launchpad.net/deadsnakes/ppa/ubuntu bionic/main amd64 Packages [45.3 kB]\n",
            "Get:27 http://ppa.launchpad.net/graphics-drivers/ppa/ubuntu bionic/main amd64 Packages [44.7 kB]\n",
            "Fetched 13.7 MB in 4s (3,834 kB/s)\n",
            "Reading package lists...\n",
            "Reading package lists...\n",
            "Building dependency tree...\n",
            "Reading state information...\n",
            "curl is already the newest version (7.58.0-2ubuntu3.16).\n",
            "gnupg is already the newest version (2.2.4-1ubuntu1.4).\n",
            "gnupg set to manually installed.\n",
            "software-properties-common is already the newest version (0.96.24.32.18).\n",
            "0 upgraded, 0 newly installed, 0 to remove and 59 not upgraded.\n",
            "OK\n",
            "Get:1 https://apt.releases.hashicorp.com bionic InRelease [9,497 B]\n",
            "Hit:2 https://cloud.r-project.org/bin/linux/ubuntu bionic-cran40/ InRelease\n",
            "Ign:3 https://developer.download.nvidia.com/compute/cuda/repos/ubuntu1804/x86_64  InRelease\n",
            "Get:4 https://apt.releases.hashicorp.com bionic/main amd64 Packages [50.3 kB]\n",
            "Hit:5 http://security.ubuntu.com/ubuntu bionic-security InRelease\n",
            "Hit:6 http://ppa.launchpad.net/c2d4u.team/c2d4u4.0+/ubuntu bionic InRelease\n",
            "Ign:7 https://developer.download.nvidia.com/compute/machine-learning/repos/ubuntu1804/x86_64  InRelease\n",
            "Hit:8 https://developer.download.nvidia.com/compute/cuda/repos/ubuntu1804/x86_64  Release\n",
            "Hit:9 https://developer.download.nvidia.com/compute/machine-learning/repos/ubuntu1804/x86_64  Release\n",
            "Hit:10 http://archive.ubuntu.com/ubuntu bionic InRelease\n",
            "Hit:11 http://archive.ubuntu.com/ubuntu bionic-updates InRelease\n",
            "Hit:12 http://ppa.launchpad.net/cran/libgit2/ubuntu bionic InRelease\n",
            "Hit:13 http://archive.ubuntu.com/ubuntu bionic-backports InRelease\n",
            "Hit:15 http://ppa.launchpad.net/deadsnakes/ppa/ubuntu bionic InRelease\n",
            "Hit:17 http://ppa.launchpad.net/graphics-drivers/ppa/ubuntu bionic InRelease\n",
            "Fetched 59.8 kB in 1s (50.9 kB/s)\n",
            "Reading package lists...\n",
            "Hit:1 https://apt.releases.hashicorp.com bionic InRelease\n",
            "Hit:2 http://security.ubuntu.com/ubuntu bionic-security InRelease\n",
            "Hit:3 https://cloud.r-project.org/bin/linux/ubuntu bionic-cran40/ InRelease\n",
            "Ign:4 https://developer.download.nvidia.com/compute/cuda/repos/ubuntu1804/x86_64  InRelease\n",
            "Hit:5 http://ppa.launchpad.net/c2d4u.team/c2d4u4.0+/ubuntu bionic InRelease\n",
            "Ign:6 https://developer.download.nvidia.com/compute/machine-learning/repos/ubuntu1804/x86_64  InRelease\n",
            "Hit:7 https://developer.download.nvidia.com/compute/cuda/repos/ubuntu1804/x86_64  Release\n",
            "Hit:8 http://archive.ubuntu.com/ubuntu bionic InRelease\n",
            "Hit:9 https://developer.download.nvidia.com/compute/machine-learning/repos/ubuntu1804/x86_64  Release\n",
            "Hit:10 http://archive.ubuntu.com/ubuntu bionic-updates InRelease\n",
            "Hit:11 http://ppa.launchpad.net/cran/libgit2/ubuntu bionic InRelease\n",
            "Hit:12 http://archive.ubuntu.com/ubuntu bionic-backports InRelease\n",
            "Hit:14 http://ppa.launchpad.net/deadsnakes/ppa/ubuntu bionic InRelease\n",
            "Hit:16 http://ppa.launchpad.net/graphics-drivers/ppa/ubuntu bionic InRelease\n",
            "Reading package lists...\n",
            "Reading package lists...\n",
            "Building dependency tree...\n",
            "Reading state information...\n",
            "The following NEW packages will be installed:\n",
            "  terraform\n",
            "0 upgraded, 1 newly installed, 0 to remove and 59 not upgraded.\n",
            "Need to get 18.7 MB of archives.\n",
            "After this operation, 62.0 MB of additional disk space will be used.\n",
            "Get:1 https://apt.releases.hashicorp.com bionic/main amd64 terraform amd64 1.1.3 [18.7 MB]\n",
            "Fetched 18.7 MB in 0s (50.7 MB/s)\n",
            "Selecting previously unselected package terraform.\r\n",
            "(Reading database ... \r(Reading database ... 5%\r(Reading database ... 10%\r(Reading database ... 15%\r(Reading database ... 20%\r(Reading database ... 25%\r(Reading database ... 30%\r(Reading database ... 35%\r(Reading database ... 40%\r(Reading database ... 45%\r(Reading database ... 50%\r(Reading database ... 55%\r(Reading database ... 60%\r(Reading database ... 65%\r(Reading database ... 70%\r(Reading database ... 75%\r(Reading database ... 80%\r(Reading database ... 85%\r(Reading database ... 90%\r(Reading database ... 95%\r(Reading database ... 100%\r(Reading database ... 155225 files and directories currently installed.)\r\n",
            "Preparing to unpack .../terraform_1.1.3_amd64.deb ...\r\n",
            "Unpacking terraform (1.1.3) ...\r\n",
            "Setting up terraform (1.1.3) ...\r\n"
          ]
        },
        {
          "output_type": "stream",
          "name": "stderr",
          "text": [
            "Warning: apt-key output should not be parsed (stdout is not a terminal)\n",
            "debconf: unable to initialize frontend: Dialog\n",
            "debconf: (No usable dialog-like program is installed, so the dialog based frontend cannot be used. at /usr/share/perl5/Debconf/FrontEnd/Dialog.pm line 76, <> line 1.)\n",
            "debconf: falling back to frontend: Readline\n",
            "debconf: unable to initialize frontend: Readline\n",
            "debconf: (This frontend requires a controlling tty.)\n",
            "debconf: falling back to frontend: Teletype\n",
            "dpkg-preconfigure: unable to re-open stdin: \n"
          ]
        }
      ],
      "source": [
        "%%bash\n",
        "# instructions from https://learn.hashicorp.com/tutorials/terraform/install-cli?in=terraform/aws-get-started\n",
        "sudo apt-get update && sudo apt-get install -y gnupg software-properties-common curl\n",
        "curl -fsSL https://apt.releases.hashicorp.com/gpg | sudo apt-key add -\n",
        "sudo apt-add-repository \"deb [arch=amd64] https://apt.releases.hashicorp.com $(lsb_release -cs) main\"\n",
        "sudo apt-get update && sudo apt-get install terraform"
      ]
    },
    {
      "cell_type": "markdown",
      "source": [
        "## Download and Install the AWS CLI"
      ],
      "metadata": {
        "id": "Ws80iCC3Q5Ek"
      }
    },
    {
      "cell_type": "code",
      "source": [
        "%%bash\n",
        "\n",
        "# download the installation file\n",
        "curl \"https://awscli.amazonaws.com/awscli-exe-linux-x86_64.zip\" -o \"awscliv2.zip\"\n",
        "\n",
        "unzip -q awscliv2.zip\n",
        "\n",
        "sudo ./aws/install\n"
      ],
      "metadata": {
        "colab": {
          "base_uri": "https://localhost:8080/"
        },
        "id": "Rfd1GgRGwY1C",
        "outputId": "866a3642-4cee-4329-8601-0de9c92f3cc5"
      },
      "execution_count": 2,
      "outputs": [
        {
          "output_type": "stream",
          "name": "stdout",
          "text": [
            "You can now run: /usr/local/bin/aws --version\n"
          ]
        },
        {
          "output_type": "stream",
          "name": "stderr",
          "text": [
            "  % Total    % Received % Xferd  Average Speed   Time    Time     Time  Current\n",
            "                                 Dload  Upload   Total   Spent    Left  Speed\n",
            "\r  0     0    0     0    0     0      0      0 --:--:-- --:--:-- --:--:--     0\r 17 43.4M   17 7951k    0     0  18.8M      0  0:00:02 --:--:--  0:00:02 18.7M\r 50 43.4M   50 22.0M    0     0  15.5M      0  0:00:02  0:00:01  0:00:01 15.5M\r100 43.4M  100 43.4M    0     0  18.6M      0  0:00:02  0:00:02 --:--:-- 18.6M\n"
          ]
        }
      ]
    },
    {
      "cell_type": "markdown",
      "source": [
        "\n",
        "## Verify the Installation of the AWS CLI"
      ],
      "metadata": {
        "id": "TUGgCi1Yxvfm"
      }
    },
    {
      "cell_type": "code",
      "source": [
        "%%bash\n",
        "aws -version"
      ],
      "metadata": {
        "colab": {
          "base_uri": "https://localhost:8080/"
        },
        "id": "gC7LDeCVxUYu",
        "outputId": "304b07c9-26ef-4e7f-b7d8-2b53b33d319f"
      },
      "execution_count": 3,
      "outputs": [
        {
          "output_type": "stream",
          "name": "stderr",
          "text": [
            "\n",
            "usage: aws [options] <command> <subcommand> [<subcommand> ...] [parameters]\n",
            "To see help text, you can run:\n",
            "\n",
            "  aws help\n",
            "  aws <command> help\n",
            "  aws <command> <subcommand> help\n",
            "\n",
            "aws: error: the following arguments are required: command\n",
            "\n"
          ]
        }
      ]
    },
    {
      "cell_type": "code",
      "source": [
        "# importing os module\n",
        "import os\n",
        "  \n",
        "path = \"/content/terraform_tutorial\"\n",
        "  \n",
        "if not os.path.exists(path):\n",
        "  os.mkdir(path)\n",
        "\n",
        "os.chdir(path)\n",
        "main_tf = open(\"main.tf\",\"w\")\n",
        "variables_tf = open(\"variables.tf\",\"w\")\n",
        "\n",
        "variables = \"\"\"\n",
        "locals {\n",
        "  database_s3_bucket_name = \"yellow-taxi-ny-983794\"\n",
        "  query_results_s3_bucket_name = \"yellow-taxi-ny-983794-workgroup-query-results\"\n",
        "}\n",
        "\"\"\"\n",
        "\n",
        "main_body = \"\"\"\n",
        "terraform {\n",
        "  required_providers {\n",
        "    aws = {\n",
        "      source  = \"hashicorp/aws\"\n",
        "      version = \"~> 3.27\"\n",
        "    }\n",
        "  }\n",
        "  required_version = \">= 0.14.9\"\n",
        "}\n",
        "\n",
        "provider \"aws\" {\n",
        "  profile = \"default\"\n",
        "  region  = \"us-west-1\"\n",
        "}\n",
        "\n",
        "resource \"aws_s3_bucket\" \"bucket\" {\n",
        "  bucket = \"${local.database_s3_bucket_name}\"\n",
        "}\n",
        "\n",
        "# Ensure no public access is possible\n",
        "resource \"aws_s3_bucket_public_access_block\" \"bucket\" {\n",
        "  bucket = aws_s3_bucket.bucket.id\n",
        "\n",
        "  block_public_acls       = true\n",
        "  block_public_policy     = true\n",
        "  ignore_public_acls      = true\n",
        "  restrict_public_buckets = true\n",
        "}\n",
        "\"\"\"\n",
        "\n",
        "main_tf.write(main_body)\n",
        "main_tf.close()\n",
        "variables_tf.write(variables)\n",
        "variables_tf.close()\n",
        "\n",
        "# uncomment if you want to read and print 'main_tf'\n",
        "#main_tf = open(\"main.tf\")\n",
        "#print(main_tf.read())\n",
        "#main_tf.close()"
      ],
      "metadata": {
        "id": "DlP6dumGzP9k"
      },
      "execution_count": 4,
      "outputs": []
    },
    {
      "cell_type": "code",
      "source": [
        "%%bash\n",
        "terraform init "
      ],
      "metadata": {
        "colab": {
          "base_uri": "https://localhost:8080/"
        },
        "id": "RWNjNEp8273j",
        "outputId": "7079f253-9d6e-46b0-aa08-c3211905c6d7"
      },
      "execution_count": 9,
      "outputs": [
        {
          "output_type": "stream",
          "name": "stdout",
          "text": [
            "/content/terraform_tutorial\n",
            "\n",
            "\u001b[0m\u001b[1mInitializing the backend...\u001b[0m\n",
            "\n",
            "\u001b[0m\u001b[1mInitializing provider plugins...\u001b[0m\n",
            "- Reusing previous version of hashicorp/aws from the dependency lock file\n",
            "- Using previously-installed hashicorp/aws v3.71.0\n",
            "\n",
            "\u001b[0m\u001b[1m\u001b[32mTerraform has been successfully initialized!\u001b[0m\u001b[32m\u001b[0m\n",
            "\u001b[0m\u001b[32m\n",
            "You may now begin working with Terraform. Try running \"terraform plan\" to see\n",
            "any changes that are required for your infrastructure. All Terraform commands\n",
            "should now work.\n",
            "\n",
            "If you ever set or change modules or backend configuration for Terraform,\n",
            "rerun this command to reinitialize your working directory. If you forget, other\n",
            "commands will detect it and remind you to do so if necessary.\u001b[0m\n"
          ]
        }
      ]
    },
    {
      "cell_type": "code",
      "source": [
        "%%bash\n",
        "cd terraform_tutorial\n",
        "terraform plan"
      ],
      "metadata": {
        "colab": {
          "base_uri": "https://localhost:8080/"
        },
        "id": "6d2RotBY5VyP",
        "outputId": "130a3e05-30a4-4753-96a6-11eb73cac574"
      },
      "execution_count": 10,
      "outputs": [
        {
          "output_type": "stream",
          "name": "stdout",
          "text": [
            "\n",
            "Terraform used the selected providers to generate the following execution\n",
            "plan. Resource actions are indicated with the following symbols:\n",
            "  \u001b[32m+\u001b[0m create\n",
            "\u001b[0m\n",
            "Terraform will perform the following actions:\n",
            "\n",
            "\u001b[1m  # aws_s3_bucket.bucket\u001b[0m will be created\u001b[0m\u001b[0m\n",
            "\u001b[0m  \u001b[32m+\u001b[0m\u001b[0m resource \"aws_s3_bucket\" \"bucket\" {\n",
            "      \u001b[32m+\u001b[0m \u001b[0m\u001b[1m\u001b[0macceleration_status\u001b[0m\u001b[0m         = (known after apply)\n",
            "      \u001b[32m+\u001b[0m \u001b[0m\u001b[1m\u001b[0macl\u001b[0m\u001b[0m                         = \"private\"\n",
            "      \u001b[32m+\u001b[0m \u001b[0m\u001b[1m\u001b[0marn\u001b[0m\u001b[0m                         = (known after apply)\n",
            "      \u001b[32m+\u001b[0m \u001b[0m\u001b[1m\u001b[0mbucket\u001b[0m\u001b[0m                      = \"yellow-taxi-ny-983794\"\n",
            "      \u001b[32m+\u001b[0m \u001b[0m\u001b[1m\u001b[0mbucket_domain_name\u001b[0m\u001b[0m          = (known after apply)\n",
            "      \u001b[32m+\u001b[0m \u001b[0m\u001b[1m\u001b[0mbucket_regional_domain_name\u001b[0m\u001b[0m = (known after apply)\n",
            "      \u001b[32m+\u001b[0m \u001b[0m\u001b[1m\u001b[0mforce_destroy\u001b[0m\u001b[0m               = false\n",
            "      \u001b[32m+\u001b[0m \u001b[0m\u001b[1m\u001b[0mhosted_zone_id\u001b[0m\u001b[0m              = (known after apply)\n",
            "      \u001b[32m+\u001b[0m \u001b[0m\u001b[1m\u001b[0mid\u001b[0m\u001b[0m                          = (known after apply)\n",
            "      \u001b[32m+\u001b[0m \u001b[0m\u001b[1m\u001b[0mregion\u001b[0m\u001b[0m                      = (known after apply)\n",
            "      \u001b[32m+\u001b[0m \u001b[0m\u001b[1m\u001b[0mrequest_payer\u001b[0m\u001b[0m               = (known after apply)\n",
            "      \u001b[32m+\u001b[0m \u001b[0m\u001b[1m\u001b[0mtags_all\u001b[0m\u001b[0m                    = (known after apply)\n",
            "      \u001b[32m+\u001b[0m \u001b[0m\u001b[1m\u001b[0mwebsite_domain\u001b[0m\u001b[0m              = (known after apply)\n",
            "      \u001b[32m+\u001b[0m \u001b[0m\u001b[1m\u001b[0mwebsite_endpoint\u001b[0m\u001b[0m            = (known after apply)\n",
            "\n",
            "      \u001b[32m+\u001b[0m \u001b[0mversioning {\n",
            "          \u001b[32m+\u001b[0m \u001b[0m\u001b[1m\u001b[0menabled\u001b[0m\u001b[0m    = (known after apply)\n",
            "          \u001b[32m+\u001b[0m \u001b[0m\u001b[1m\u001b[0mmfa_delete\u001b[0m\u001b[0m = (known after apply)\n",
            "        }\n",
            "    }\n",
            "\n",
            "\u001b[1m  # aws_s3_bucket_public_access_block.bucket\u001b[0m will be created\u001b[0m\u001b[0m\n",
            "\u001b[0m  \u001b[32m+\u001b[0m\u001b[0m resource \"aws_s3_bucket_public_access_block\" \"bucket\" {\n",
            "      \u001b[32m+\u001b[0m \u001b[0m\u001b[1m\u001b[0mblock_public_acls\u001b[0m\u001b[0m       = true\n",
            "      \u001b[32m+\u001b[0m \u001b[0m\u001b[1m\u001b[0mblock_public_policy\u001b[0m\u001b[0m     = true\n",
            "      \u001b[32m+\u001b[0m \u001b[0m\u001b[1m\u001b[0mbucket\u001b[0m\u001b[0m                  = (known after apply)\n",
            "      \u001b[32m+\u001b[0m \u001b[0m\u001b[1m\u001b[0mid\u001b[0m\u001b[0m                      = (known after apply)\n",
            "      \u001b[32m+\u001b[0m \u001b[0m\u001b[1m\u001b[0mignore_public_acls\u001b[0m\u001b[0m      = true\n",
            "      \u001b[32m+\u001b[0m \u001b[0m\u001b[1m\u001b[0mrestrict_public_buckets\u001b[0m\u001b[0m = true\n",
            "    }\n",
            "\n",
            "\u001b[0m\u001b[1mPlan:\u001b[0m 2 to add, 0 to change, 0 to destroy.\n",
            "\u001b[0m\u001b[90m\n",
            "─────────────────────────────────────────────────────────────────────────────\u001b[0m\n",
            "\n",
            "Note: You didn't use the -out option to save this plan, so Terraform can't\n",
            "guarantee to take exactly these actions if you run \"terraform apply\" now.\n"
          ]
        },
        {
          "output_type": "stream",
          "name": "stderr",
          "text": [
            "bash: line 1: cd: terraform_tutorial: No such file or directory\n"
          ]
        }
      ]
    },
    {
      "cell_type": "code",
      "source": [
        "%%bash\n",
        "terraform apply -auto-approve"
      ],
      "metadata": {
        "colab": {
          "base_uri": "https://localhost:8080/"
        },
        "id": "vyL5WbYQURw5",
        "outputId": "9a103547-f240-47d8-ebae-8794c689b3b2"
      },
      "execution_count": 11,
      "outputs": [
        {
          "output_type": "stream",
          "name": "stdout",
          "text": [
            "\n",
            "Terraform used the selected providers to generate the following execution\n",
            "plan. Resource actions are indicated with the following symbols:\n",
            "  \u001b[32m+\u001b[0m create\n",
            "\u001b[0m\n",
            "Terraform will perform the following actions:\n",
            "\n",
            "\u001b[1m  # aws_s3_bucket.bucket\u001b[0m will be created\u001b[0m\u001b[0m\n",
            "\u001b[0m  \u001b[32m+\u001b[0m\u001b[0m resource \"aws_s3_bucket\" \"bucket\" {\n",
            "      \u001b[32m+\u001b[0m \u001b[0m\u001b[1m\u001b[0macceleration_status\u001b[0m\u001b[0m         = (known after apply)\n",
            "      \u001b[32m+\u001b[0m \u001b[0m\u001b[1m\u001b[0macl\u001b[0m\u001b[0m                         = \"private\"\n",
            "      \u001b[32m+\u001b[0m \u001b[0m\u001b[1m\u001b[0marn\u001b[0m\u001b[0m                         = (known after apply)\n",
            "      \u001b[32m+\u001b[0m \u001b[0m\u001b[1m\u001b[0mbucket\u001b[0m\u001b[0m                      = \"yellow-taxi-ny-983794\"\n",
            "      \u001b[32m+\u001b[0m \u001b[0m\u001b[1m\u001b[0mbucket_domain_name\u001b[0m\u001b[0m          = (known after apply)\n",
            "      \u001b[32m+\u001b[0m \u001b[0m\u001b[1m\u001b[0mbucket_regional_domain_name\u001b[0m\u001b[0m = (known after apply)\n",
            "      \u001b[32m+\u001b[0m \u001b[0m\u001b[1m\u001b[0mforce_destroy\u001b[0m\u001b[0m               = false\n",
            "      \u001b[32m+\u001b[0m \u001b[0m\u001b[1m\u001b[0mhosted_zone_id\u001b[0m\u001b[0m              = (known after apply)\n",
            "      \u001b[32m+\u001b[0m \u001b[0m\u001b[1m\u001b[0mid\u001b[0m\u001b[0m                          = (known after apply)\n",
            "      \u001b[32m+\u001b[0m \u001b[0m\u001b[1m\u001b[0mregion\u001b[0m\u001b[0m                      = (known after apply)\n",
            "      \u001b[32m+\u001b[0m \u001b[0m\u001b[1m\u001b[0mrequest_payer\u001b[0m\u001b[0m               = (known after apply)\n",
            "      \u001b[32m+\u001b[0m \u001b[0m\u001b[1m\u001b[0mtags_all\u001b[0m\u001b[0m                    = (known after apply)\n",
            "      \u001b[32m+\u001b[0m \u001b[0m\u001b[1m\u001b[0mwebsite_domain\u001b[0m\u001b[0m              = (known after apply)\n",
            "      \u001b[32m+\u001b[0m \u001b[0m\u001b[1m\u001b[0mwebsite_endpoint\u001b[0m\u001b[0m            = (known after apply)\n",
            "\n",
            "      \u001b[32m+\u001b[0m \u001b[0mversioning {\n",
            "          \u001b[32m+\u001b[0m \u001b[0m\u001b[1m\u001b[0menabled\u001b[0m\u001b[0m    = (known after apply)\n",
            "          \u001b[32m+\u001b[0m \u001b[0m\u001b[1m\u001b[0mmfa_delete\u001b[0m\u001b[0m = (known after apply)\n",
            "        }\n",
            "    }\n",
            "\n",
            "\u001b[1m  # aws_s3_bucket_public_access_block.bucket\u001b[0m will be created\u001b[0m\u001b[0m\n",
            "\u001b[0m  \u001b[32m+\u001b[0m\u001b[0m resource \"aws_s3_bucket_public_access_block\" \"bucket\" {\n",
            "      \u001b[32m+\u001b[0m \u001b[0m\u001b[1m\u001b[0mblock_public_acls\u001b[0m\u001b[0m       = true\n",
            "      \u001b[32m+\u001b[0m \u001b[0m\u001b[1m\u001b[0mblock_public_policy\u001b[0m\u001b[0m     = true\n",
            "      \u001b[32m+\u001b[0m \u001b[0m\u001b[1m\u001b[0mbucket\u001b[0m\u001b[0m                  = (known after apply)\n",
            "      \u001b[32m+\u001b[0m \u001b[0m\u001b[1m\u001b[0mid\u001b[0m\u001b[0m                      = (known after apply)\n",
            "      \u001b[32m+\u001b[0m \u001b[0m\u001b[1m\u001b[0mignore_public_acls\u001b[0m\u001b[0m      = true\n",
            "      \u001b[32m+\u001b[0m \u001b[0m\u001b[1m\u001b[0mrestrict_public_buckets\u001b[0m\u001b[0m = true\n",
            "    }\n",
            "\n",
            "\u001b[0m\u001b[1mPlan:\u001b[0m 2 to add, 0 to change, 0 to destroy.\n",
            "\u001b[0m\u001b[0m\u001b[1maws_s3_bucket.bucket: Creating...\u001b[0m\u001b[0m\n",
            "\u001b[0m\u001b[1maws_s3_bucket.bucket: Creation complete after 4s [id=yellow-taxi-ny-983794]\u001b[0m\n",
            "\u001b[0m\u001b[1maws_s3_bucket_public_access_block.bucket: Creating...\u001b[0m\u001b[0m\n",
            "\u001b[0m\u001b[1maws_s3_bucket_public_access_block.bucket: Creation complete after 1s [id=yellow-taxi-ny-983794]\u001b[0m\n",
            "\u001b[0m\u001b[1m\u001b[32m\n",
            "Apply complete! Resources: 2 added, 0 changed, 0 destroyed.\n",
            "\u001b[0m"
          ]
        }
      ]
    },
    {
      "cell_type": "code",
      "source": [
        "%%bash\n",
        "wget https://s3.amazonaws.com/nyc-tlc/trip+data/yellow_tripdata_2021-01.csv -o /dev/null"
      ],
      "metadata": {
        "id": "7RiB1d0J5a7w"
      },
      "execution_count": 12,
      "outputs": []
    },
    {
      "cell_type": "code",
      "source": [
        "%%bash\n",
        "pwd\n",
        "# because we changed the working directory above, actions taken are still from the perspective of the /content/terraform_tutorial directory.  \n",
        "# TODO - confirm\n",
        "aws s3 cp /content/terraform_tutorial/yellow_tripdata_2021-01.csv s3://yellow-taxi-ny-983794\n",
        "aws s3 ls s3://yellow-taxi-ny-983794/"
      ],
      "metadata": {
        "colab": {
          "base_uri": "https://localhost:8080/"
        },
        "id": "dbAWJwg49FoZ",
        "outputId": "acadbd54-6512-4dda-9a95-8cc84e2f4c15"
      },
      "execution_count": 13,
      "outputs": [
        {
          "output_type": "stream",
          "name": "stdout",
          "text": [
            "/content/terraform_tutorial\n",
            "Completed 256.0 KiB/120.1 MiB (380.0 KiB/s) with 1 file(s) remaining\rCompleted 512.0 KiB/120.1 MiB (706.7 KiB/s) with 1 file(s) remaining\rCompleted 768.0 KiB/120.1 MiB (992.1 KiB/s) with 1 file(s) remaining\rCompleted 1.0 MiB/120.1 MiB (1.3 MiB/s) with 1 file(s) remaining    \rCompleted 1.2 MiB/120.1 MiB (1.6 MiB/s) with 1 file(s) remaining    \rCompleted 1.5 MiB/120.1 MiB (1.8 MiB/s) with 1 file(s) remaining    \rCompleted 1.8 MiB/120.1 MiB (2.1 MiB/s) with 1 file(s) remaining    \rCompleted 2.0 MiB/120.1 MiB (2.4 MiB/s) with 1 file(s) remaining    \rCompleted 2.2 MiB/120.1 MiB (2.7 MiB/s) with 1 file(s) remaining    \rCompleted 2.5 MiB/120.1 MiB (2.9 MiB/s) with 1 file(s) remaining    \rCompleted 2.8 MiB/120.1 MiB (3.1 MiB/s) with 1 file(s) remaining    \rCompleted 3.0 MiB/120.1 MiB (3.4 MiB/s) with 1 file(s) remaining    \rCompleted 3.2 MiB/120.1 MiB (3.7 MiB/s) with 1 file(s) remaining    \rCompleted 3.5 MiB/120.1 MiB (3.9 MiB/s) with 1 file(s) remaining    \rCompleted 3.8 MiB/120.1 MiB (4.2 MiB/s) with 1 file(s) remaining    \rCompleted 4.0 MiB/120.1 MiB (4.5 MiB/s) with 1 file(s) remaining    \rCompleted 4.2 MiB/120.1 MiB (4.8 MiB/s) with 1 file(s) remaining    \rCompleted 4.5 MiB/120.1 MiB (5.0 MiB/s) with 1 file(s) remaining    \rCompleted 4.8 MiB/120.1 MiB (5.2 MiB/s) with 1 file(s) remaining    \rCompleted 5.0 MiB/120.1 MiB (5.5 MiB/s) with 1 file(s) remaining    \rCompleted 5.2 MiB/120.1 MiB (5.7 MiB/s) with 1 file(s) remaining    \rCompleted 5.5 MiB/120.1 MiB (6.0 MiB/s) with 1 file(s) remaining    \rCompleted 5.8 MiB/120.1 MiB (6.2 MiB/s) with 1 file(s) remaining    \rCompleted 6.0 MiB/120.1 MiB (6.5 MiB/s) with 1 file(s) remaining    \rCompleted 6.2 MiB/120.1 MiB (6.7 MiB/s) with 1 file(s) remaining    \rCompleted 6.5 MiB/120.1 MiB (6.9 MiB/s) with 1 file(s) remaining    \rCompleted 6.8 MiB/120.1 MiB (7.2 MiB/s) with 1 file(s) remaining    \rCompleted 7.0 MiB/120.1 MiB (7.4 MiB/s) with 1 file(s) remaining    \rCompleted 7.2 MiB/120.1 MiB (7.7 MiB/s) with 1 file(s) remaining    \rCompleted 7.5 MiB/120.1 MiB (7.9 MiB/s) with 1 file(s) remaining    \rCompleted 7.8 MiB/120.1 MiB (8.2 MiB/s) with 1 file(s) remaining    \rCompleted 8.0 MiB/120.1 MiB (8.4 MiB/s) with 1 file(s) remaining    \rCompleted 8.2 MiB/120.1 MiB (8.7 MiB/s) with 1 file(s) remaining    \rCompleted 8.5 MiB/120.1 MiB (8.9 MiB/s) with 1 file(s) remaining    \rCompleted 8.8 MiB/120.1 MiB (9.2 MiB/s) with 1 file(s) remaining    \rCompleted 9.0 MiB/120.1 MiB (9.4 MiB/s) with 1 file(s) remaining    \rCompleted 9.2 MiB/120.1 MiB (9.6 MiB/s) with 1 file(s) remaining    \rCompleted 9.5 MiB/120.1 MiB (9.9 MiB/s) with 1 file(s) remaining    \rCompleted 9.8 MiB/120.1 MiB (10.1 MiB/s) with 1 file(s) remaining   \rCompleted 10.0 MiB/120.1 MiB (10.3 MiB/s) with 1 file(s) remaining  \rCompleted 10.2 MiB/120.1 MiB (10.5 MiB/s) with 1 file(s) remaining  \rCompleted 10.5 MiB/120.1 MiB (10.7 MiB/s) with 1 file(s) remaining  \rCompleted 10.8 MiB/120.1 MiB (11.0 MiB/s) with 1 file(s) remaining  \rCompleted 11.0 MiB/120.1 MiB (11.2 MiB/s) with 1 file(s) remaining  \rCompleted 11.2 MiB/120.1 MiB (11.4 MiB/s) with 1 file(s) remaining  \rCompleted 11.5 MiB/120.1 MiB (11.6 MiB/s) with 1 file(s) remaining  \rCompleted 11.8 MiB/120.1 MiB (11.9 MiB/s) with 1 file(s) remaining  \rCompleted 12.0 MiB/120.1 MiB (12.1 MiB/s) with 1 file(s) remaining  \rCompleted 12.2 MiB/120.1 MiB (12.3 MiB/s) with 1 file(s) remaining  \rCompleted 12.5 MiB/120.1 MiB (12.5 MiB/s) with 1 file(s) remaining  \rCompleted 12.8 MiB/120.1 MiB (12.7 MiB/s) with 1 file(s) remaining  \rCompleted 13.0 MiB/120.1 MiB (12.9 MiB/s) with 1 file(s) remaining  \rCompleted 13.2 MiB/120.1 MiB (13.0 MiB/s) with 1 file(s) remaining  \rCompleted 13.5 MiB/120.1 MiB (13.3 MiB/s) with 1 file(s) remaining  \rCompleted 13.8 MiB/120.1 MiB (13.4 MiB/s) with 1 file(s) remaining  \rCompleted 14.0 MiB/120.1 MiB (13.6 MiB/s) with 1 file(s) remaining  \rCompleted 14.2 MiB/120.1 MiB (13.8 MiB/s) with 1 file(s) remaining  \rCompleted 14.5 MiB/120.1 MiB (14.0 MiB/s) with 1 file(s) remaining  \rCompleted 14.8 MiB/120.1 MiB (14.2 MiB/s) with 1 file(s) remaining  \rCompleted 15.0 MiB/120.1 MiB (14.4 MiB/s) with 1 file(s) remaining  \rCompleted 15.2 MiB/120.1 MiB (14.6 MiB/s) with 1 file(s) remaining  \rCompleted 15.5 MiB/120.1 MiB (14.7 MiB/s) with 1 file(s) remaining  \rCompleted 15.8 MiB/120.1 MiB (14.9 MiB/s) with 1 file(s) remaining  \rCompleted 16.0 MiB/120.1 MiB (15.1 MiB/s) with 1 file(s) remaining  \rCompleted 16.2 MiB/120.1 MiB (15.2 MiB/s) with 1 file(s) remaining  \rCompleted 16.5 MiB/120.1 MiB (15.4 MiB/s) with 1 file(s) remaining  \rCompleted 16.8 MiB/120.1 MiB (15.6 MiB/s) with 1 file(s) remaining  \rCompleted 17.0 MiB/120.1 MiB (15.8 MiB/s) with 1 file(s) remaining  \rCompleted 17.2 MiB/120.1 MiB (16.1 MiB/s) with 1 file(s) remaining  \rCompleted 17.5 MiB/120.1 MiB (16.2 MiB/s) with 1 file(s) remaining  \rCompleted 17.8 MiB/120.1 MiB (16.5 MiB/s) with 1 file(s) remaining  \rCompleted 18.0 MiB/120.1 MiB (16.5 MiB/s) with 1 file(s) remaining  \rCompleted 18.2 MiB/120.1 MiB (16.7 MiB/s) with 1 file(s) remaining  \rCompleted 18.5 MiB/120.1 MiB (16.9 MiB/s) with 1 file(s) remaining  \rCompleted 18.8 MiB/120.1 MiB (17.1 MiB/s) with 1 file(s) remaining  \rCompleted 19.0 MiB/120.1 MiB (17.2 MiB/s) with 1 file(s) remaining  \rCompleted 19.2 MiB/120.1 MiB (17.4 MiB/s) with 1 file(s) remaining  \rCompleted 19.5 MiB/120.1 MiB (17.7 MiB/s) with 1 file(s) remaining  \rCompleted 19.8 MiB/120.1 MiB (17.9 MiB/s) with 1 file(s) remaining  \rCompleted 20.0 MiB/120.1 MiB (18.1 MiB/s) with 1 file(s) remaining  \rCompleted 20.2 MiB/120.1 MiB (18.2 MiB/s) with 1 file(s) remaining  \rCompleted 20.5 MiB/120.1 MiB (18.3 MiB/s) with 1 file(s) remaining  \rCompleted 20.8 MiB/120.1 MiB (18.4 MiB/s) with 1 file(s) remaining  \rCompleted 21.0 MiB/120.1 MiB (18.6 MiB/s) with 1 file(s) remaining  \rCompleted 21.2 MiB/120.1 MiB (18.8 MiB/s) with 1 file(s) remaining  \rCompleted 21.5 MiB/120.1 MiB (19.0 MiB/s) with 1 file(s) remaining  \rCompleted 21.8 MiB/120.1 MiB (19.1 MiB/s) with 1 file(s) remaining  \rCompleted 22.0 MiB/120.1 MiB (19.3 MiB/s) with 1 file(s) remaining  \rCompleted 22.2 MiB/120.1 MiB (19.5 MiB/s) with 1 file(s) remaining  \rCompleted 22.5 MiB/120.1 MiB (19.7 MiB/s) with 1 file(s) remaining  \rCompleted 22.8 MiB/120.1 MiB (19.9 MiB/s) with 1 file(s) remaining  \rCompleted 23.0 MiB/120.1 MiB (19.9 MiB/s) with 1 file(s) remaining  \rCompleted 23.2 MiB/120.1 MiB (20.1 MiB/s) with 1 file(s) remaining  \rCompleted 23.5 MiB/120.1 MiB (20.3 MiB/s) with 1 file(s) remaining  \rCompleted 23.8 MiB/120.1 MiB (20.4 MiB/s) with 1 file(s) remaining  \rCompleted 24.0 MiB/120.1 MiB (20.6 MiB/s) with 1 file(s) remaining  \rCompleted 24.2 MiB/120.1 MiB (20.8 MiB/s) with 1 file(s) remaining  \rCompleted 24.5 MiB/120.1 MiB (20.9 MiB/s) with 1 file(s) remaining  \rCompleted 24.8 MiB/120.1 MiB (21.1 MiB/s) with 1 file(s) remaining  \rCompleted 25.0 MiB/120.1 MiB (21.2 MiB/s) with 1 file(s) remaining  \rCompleted 25.2 MiB/120.1 MiB (21.4 MiB/s) with 1 file(s) remaining  \rCompleted 25.5 MiB/120.1 MiB (21.6 MiB/s) with 1 file(s) remaining  \rCompleted 25.8 MiB/120.1 MiB (21.7 MiB/s) with 1 file(s) remaining  \rCompleted 26.0 MiB/120.1 MiB (21.8 MiB/s) with 1 file(s) remaining  \rCompleted 26.2 MiB/120.1 MiB (22.0 MiB/s) with 1 file(s) remaining  \rCompleted 26.5 MiB/120.1 MiB (22.1 MiB/s) with 1 file(s) remaining  \rCompleted 26.8 MiB/120.1 MiB (22.3 MiB/s) with 1 file(s) remaining  \rCompleted 27.0 MiB/120.1 MiB (22.4 MiB/s) with 1 file(s) remaining  \rCompleted 27.2 MiB/120.1 MiB (22.6 MiB/s) with 1 file(s) remaining  \rCompleted 27.5 MiB/120.1 MiB (22.8 MiB/s) with 1 file(s) remaining  \rCompleted 27.8 MiB/120.1 MiB (22.9 MiB/s) with 1 file(s) remaining  \rCompleted 28.0 MiB/120.1 MiB (23.1 MiB/s) with 1 file(s) remaining  \rCompleted 28.2 MiB/120.1 MiB (23.2 MiB/s) with 1 file(s) remaining  \rCompleted 28.5 MiB/120.1 MiB (23.3 MiB/s) with 1 file(s) remaining  \rCompleted 28.8 MiB/120.1 MiB (23.4 MiB/s) with 1 file(s) remaining  \rCompleted 29.0 MiB/120.1 MiB (23.6 MiB/s) with 1 file(s) remaining  \rCompleted 29.2 MiB/120.1 MiB (23.8 MiB/s) with 1 file(s) remaining  \rCompleted 29.5 MiB/120.1 MiB (23.9 MiB/s) with 1 file(s) remaining  \rCompleted 29.8 MiB/120.1 MiB (24.1 MiB/s) with 1 file(s) remaining  \rCompleted 30.0 MiB/120.1 MiB (24.2 MiB/s) with 1 file(s) remaining  \rCompleted 30.2 MiB/120.1 MiB (24.3 MiB/s) with 1 file(s) remaining  \rCompleted 30.5 MiB/120.1 MiB (24.4 MiB/s) with 1 file(s) remaining  \rCompleted 30.8 MiB/120.1 MiB (24.5 MiB/s) with 1 file(s) remaining  \rCompleted 31.0 MiB/120.1 MiB (24.7 MiB/s) with 1 file(s) remaining  \rCompleted 31.2 MiB/120.1 MiB (24.9 MiB/s) with 1 file(s) remaining  \rCompleted 31.5 MiB/120.1 MiB (25.0 MiB/s) with 1 file(s) remaining  \rCompleted 31.8 MiB/120.1 MiB (25.2 MiB/s) with 1 file(s) remaining  \rCompleted 32.0 MiB/120.1 MiB (25.3 MiB/s) with 1 file(s) remaining  \rCompleted 32.2 MiB/120.1 MiB (25.5 MiB/s) with 1 file(s) remaining  \rCompleted 32.5 MiB/120.1 MiB (25.6 MiB/s) with 1 file(s) remaining  \rCompleted 32.8 MiB/120.1 MiB (25.6 MiB/s) with 1 file(s) remaining  \rCompleted 33.0 MiB/120.1 MiB (25.7 MiB/s) with 1 file(s) remaining  \rCompleted 33.2 MiB/120.1 MiB (25.9 MiB/s) with 1 file(s) remaining  \rCompleted 33.5 MiB/120.1 MiB (26.1 MiB/s) with 1 file(s) remaining  \rCompleted 33.8 MiB/120.1 MiB (26.2 MiB/s) with 1 file(s) remaining  \rCompleted 34.0 MiB/120.1 MiB (26.4 MiB/s) with 1 file(s) remaining  \rCompleted 34.2 MiB/120.1 MiB (26.5 MiB/s) with 1 file(s) remaining  \rCompleted 34.5 MiB/120.1 MiB (26.6 MiB/s) with 1 file(s) remaining  \rCompleted 34.8 MiB/120.1 MiB (26.8 MiB/s) with 1 file(s) remaining  \rCompleted 35.0 MiB/120.1 MiB (26.8 MiB/s) with 1 file(s) remaining  \rCompleted 35.2 MiB/120.1 MiB (26.9 MiB/s) with 1 file(s) remaining  \rCompleted 35.5 MiB/120.1 MiB (27.0 MiB/s) with 1 file(s) remaining  \rCompleted 35.8 MiB/120.1 MiB (27.2 MiB/s) with 1 file(s) remaining  \rCompleted 36.0 MiB/120.1 MiB (27.3 MiB/s) with 1 file(s) remaining  \rCompleted 36.2 MiB/120.1 MiB (27.5 MiB/s) with 1 file(s) remaining  \rCompleted 36.5 MiB/120.1 MiB (27.7 MiB/s) with 1 file(s) remaining  \rCompleted 36.8 MiB/120.1 MiB (27.8 MiB/s) with 1 file(s) remaining  \rCompleted 37.0 MiB/120.1 MiB (27.9 MiB/s) with 1 file(s) remaining  \rCompleted 37.2 MiB/120.1 MiB (28.0 MiB/s) with 1 file(s) remaining  \rCompleted 37.5 MiB/120.1 MiB (28.0 MiB/s) with 1 file(s) remaining  \rCompleted 37.8 MiB/120.1 MiB (28.1 MiB/s) with 1 file(s) remaining  \rCompleted 38.0 MiB/120.1 MiB (28.3 MiB/s) with 1 file(s) remaining  \rCompleted 38.2 MiB/120.1 MiB (28.5 MiB/s) with 1 file(s) remaining  \rCompleted 38.5 MiB/120.1 MiB (28.5 MiB/s) with 1 file(s) remaining  \rCompleted 38.8 MiB/120.1 MiB (28.7 MiB/s) with 1 file(s) remaining  \rCompleted 39.0 MiB/120.1 MiB (28.8 MiB/s) with 1 file(s) remaining  \rCompleted 39.2 MiB/120.1 MiB (29.0 MiB/s) with 1 file(s) remaining  \rCompleted 39.5 MiB/120.1 MiB (28.9 MiB/s) with 1 file(s) remaining  \rCompleted 39.8 MiB/120.1 MiB (29.1 MiB/s) with 1 file(s) remaining  \rCompleted 40.0 MiB/120.1 MiB (29.2 MiB/s) with 1 file(s) remaining  \rCompleted 40.2 MiB/120.1 MiB (29.3 MiB/s) with 1 file(s) remaining  \rCompleted 40.5 MiB/120.1 MiB (29.3 MiB/s) with 1 file(s) remaining  \rCompleted 40.8 MiB/120.1 MiB (29.5 MiB/s) with 1 file(s) remaining  \rCompleted 41.0 MiB/120.1 MiB (29.5 MiB/s) with 1 file(s) remaining  \rCompleted 41.2 MiB/120.1 MiB (29.6 MiB/s) with 1 file(s) remaining  \rCompleted 41.5 MiB/120.1 MiB (29.7 MiB/s) with 1 file(s) remaining  \rCompleted 41.8 MiB/120.1 MiB (29.9 MiB/s) with 1 file(s) remaining  \rCompleted 42.0 MiB/120.1 MiB (29.9 MiB/s) with 1 file(s) remaining  \rCompleted 42.2 MiB/120.1 MiB (30.0 MiB/s) with 1 file(s) remaining  \rCompleted 42.5 MiB/120.1 MiB (30.1 MiB/s) with 1 file(s) remaining  \rCompleted 42.8 MiB/120.1 MiB (30.2 MiB/s) with 1 file(s) remaining  \rCompleted 43.0 MiB/120.1 MiB (30.3 MiB/s) with 1 file(s) remaining  \rCompleted 43.2 MiB/120.1 MiB (30.4 MiB/s) with 1 file(s) remaining  \rCompleted 43.5 MiB/120.1 MiB (30.6 MiB/s) with 1 file(s) remaining  \rCompleted 43.8 MiB/120.1 MiB (30.7 MiB/s) with 1 file(s) remaining  \rCompleted 44.0 MiB/120.1 MiB (30.8 MiB/s) with 1 file(s) remaining  \rCompleted 44.2 MiB/120.1 MiB (30.9 MiB/s) with 1 file(s) remaining  \rCompleted 44.5 MiB/120.1 MiB (31.1 MiB/s) with 1 file(s) remaining  \rCompleted 44.8 MiB/120.1 MiB (31.0 MiB/s) with 1 file(s) remaining  \rCompleted 45.0 MiB/120.1 MiB (31.2 MiB/s) with 1 file(s) remaining  \rCompleted 45.2 MiB/120.1 MiB (31.3 MiB/s) with 1 file(s) remaining  \rCompleted 45.5 MiB/120.1 MiB (31.3 MiB/s) with 1 file(s) remaining  \rCompleted 45.8 MiB/120.1 MiB (31.5 MiB/s) with 1 file(s) remaining  \rCompleted 46.0 MiB/120.1 MiB (31.7 MiB/s) with 1 file(s) remaining  \rCompleted 46.2 MiB/120.1 MiB (31.7 MiB/s) with 1 file(s) remaining  \rCompleted 46.5 MiB/120.1 MiB (31.9 MiB/s) with 1 file(s) remaining  \rCompleted 46.8 MiB/120.1 MiB (31.9 MiB/s) with 1 file(s) remaining  \rCompleted 47.0 MiB/120.1 MiB (32.0 MiB/s) with 1 file(s) remaining  \rCompleted 47.2 MiB/120.1 MiB (32.1 MiB/s) with 1 file(s) remaining  \rCompleted 47.5 MiB/120.1 MiB (32.2 MiB/s) with 1 file(s) remaining  \rCompleted 47.8 MiB/120.1 MiB (32.3 MiB/s) with 1 file(s) remaining  \rCompleted 48.0 MiB/120.1 MiB (32.4 MiB/s) with 1 file(s) remaining  \rCompleted 48.2 MiB/120.1 MiB (32.5 MiB/s) with 1 file(s) remaining  \rCompleted 48.5 MiB/120.1 MiB (32.6 MiB/s) with 1 file(s) remaining  \rCompleted 48.8 MiB/120.1 MiB (32.7 MiB/s) with 1 file(s) remaining  \rCompleted 49.0 MiB/120.1 MiB (32.8 MiB/s) with 1 file(s) remaining  \rCompleted 49.2 MiB/120.1 MiB (32.9 MiB/s) with 1 file(s) remaining  \rCompleted 49.5 MiB/120.1 MiB (32.8 MiB/s) with 1 file(s) remaining  \rCompleted 49.8 MiB/120.1 MiB (32.9 MiB/s) with 1 file(s) remaining  \rCompleted 50.0 MiB/120.1 MiB (33.0 MiB/s) with 1 file(s) remaining  \rCompleted 50.2 MiB/120.1 MiB (33.1 MiB/s) with 1 file(s) remaining  \rCompleted 50.5 MiB/120.1 MiB (33.3 MiB/s) with 1 file(s) remaining  \rCompleted 50.8 MiB/120.1 MiB (33.3 MiB/s) with 1 file(s) remaining  \rCompleted 51.0 MiB/120.1 MiB (33.4 MiB/s) with 1 file(s) remaining  \rCompleted 51.2 MiB/120.1 MiB (33.5 MiB/s) with 1 file(s) remaining  \rCompleted 51.5 MiB/120.1 MiB (33.6 MiB/s) with 1 file(s) remaining  \rCompleted 51.8 MiB/120.1 MiB (33.7 MiB/s) with 1 file(s) remaining  \rCompleted 52.0 MiB/120.1 MiB (33.8 MiB/s) with 1 file(s) remaining  \rCompleted 52.2 MiB/120.1 MiB (33.9 MiB/s) with 1 file(s) remaining  \rCompleted 52.5 MiB/120.1 MiB (34.0 MiB/s) with 1 file(s) remaining  \rCompleted 52.8 MiB/120.1 MiB (34.0 MiB/s) with 1 file(s) remaining  \rCompleted 53.0 MiB/120.1 MiB (34.1 MiB/s) with 1 file(s) remaining  \rCompleted 53.2 MiB/120.1 MiB (34.2 MiB/s) with 1 file(s) remaining  \rCompleted 53.5 MiB/120.1 MiB (34.2 MiB/s) with 1 file(s) remaining  \rCompleted 53.8 MiB/120.1 MiB (34.4 MiB/s) with 1 file(s) remaining  \rCompleted 54.0 MiB/120.1 MiB (34.5 MiB/s) with 1 file(s) remaining  \rCompleted 54.2 MiB/120.1 MiB (34.6 MiB/s) with 1 file(s) remaining  \rCompleted 54.5 MiB/120.1 MiB (34.8 MiB/s) with 1 file(s) remaining  \rCompleted 54.8 MiB/120.1 MiB (34.7 MiB/s) with 1 file(s) remaining  \rCompleted 55.0 MiB/120.1 MiB (34.8 MiB/s) with 1 file(s) remaining  \rCompleted 55.2 MiB/120.1 MiB (34.8 MiB/s) with 1 file(s) remaining  \rCompleted 55.5 MiB/120.1 MiB (34.9 MiB/s) with 1 file(s) remaining  \rCompleted 55.8 MiB/120.1 MiB (35.0 MiB/s) with 1 file(s) remaining  \rCompleted 56.0 MiB/120.1 MiB (35.1 MiB/s) with 1 file(s) remaining  \rCompleted 56.2 MiB/120.1 MiB (35.1 MiB/s) with 1 file(s) remaining  \rCompleted 56.5 MiB/120.1 MiB (35.3 MiB/s) with 1 file(s) remaining  \rCompleted 56.8 MiB/120.1 MiB (35.4 MiB/s) with 1 file(s) remaining  \rCompleted 57.0 MiB/120.1 MiB (35.5 MiB/s) with 1 file(s) remaining  \rCompleted 57.2 MiB/120.1 MiB (35.5 MiB/s) with 1 file(s) remaining  \rCompleted 57.5 MiB/120.1 MiB (35.6 MiB/s) with 1 file(s) remaining  \rCompleted 57.8 MiB/120.1 MiB (35.7 MiB/s) with 1 file(s) remaining  \rCompleted 58.0 MiB/120.1 MiB (35.7 MiB/s) with 1 file(s) remaining  \rCompleted 58.2 MiB/120.1 MiB (35.8 MiB/s) with 1 file(s) remaining  \rCompleted 58.5 MiB/120.1 MiB (36.0 MiB/s) with 1 file(s) remaining  \rCompleted 58.8 MiB/120.1 MiB (36.1 MiB/s) with 1 file(s) remaining  \rCompleted 59.0 MiB/120.1 MiB (36.1 MiB/s) with 1 file(s) remaining  \rCompleted 59.2 MiB/120.1 MiB (36.2 MiB/s) with 1 file(s) remaining  \rCompleted 59.5 MiB/120.1 MiB (36.3 MiB/s) with 1 file(s) remaining  \rCompleted 59.8 MiB/120.1 MiB (36.3 MiB/s) with 1 file(s) remaining  \rCompleted 60.0 MiB/120.1 MiB (36.4 MiB/s) with 1 file(s) remaining  \rCompleted 60.2 MiB/120.1 MiB (36.5 MiB/s) with 1 file(s) remaining  \rCompleted 60.5 MiB/120.1 MiB (36.6 MiB/s) with 1 file(s) remaining  \rCompleted 60.8 MiB/120.1 MiB (36.7 MiB/s) with 1 file(s) remaining  \rCompleted 61.0 MiB/120.1 MiB (36.8 MiB/s) with 1 file(s) remaining  \rCompleted 61.2 MiB/120.1 MiB (36.9 MiB/s) with 1 file(s) remaining  \rCompleted 61.5 MiB/120.1 MiB (36.9 MiB/s) with 1 file(s) remaining  \rCompleted 61.8 MiB/120.1 MiB (37.0 MiB/s) with 1 file(s) remaining  \rCompleted 62.0 MiB/120.1 MiB (37.2 MiB/s) with 1 file(s) remaining  \rCompleted 62.2 MiB/120.1 MiB (37.2 MiB/s) with 1 file(s) remaining  \rCompleted 62.5 MiB/120.1 MiB (37.2 MiB/s) with 1 file(s) remaining  \rCompleted 62.8 MiB/120.1 MiB (37.3 MiB/s) with 1 file(s) remaining  \rCompleted 63.0 MiB/120.1 MiB (37.4 MiB/s) with 1 file(s) remaining  \rCompleted 63.2 MiB/120.1 MiB (37.6 MiB/s) with 1 file(s) remaining  \rCompleted 63.5 MiB/120.1 MiB (37.5 MiB/s) with 1 file(s) remaining  \rCompleted 63.8 MiB/120.1 MiB (37.6 MiB/s) with 1 file(s) remaining  \rCompleted 64.0 MiB/120.1 MiB (37.7 MiB/s) with 1 file(s) remaining  \rCompleted 64.2 MiB/120.1 MiB (37.8 MiB/s) with 1 file(s) remaining  \rCompleted 64.5 MiB/120.1 MiB (37.9 MiB/s) with 1 file(s) remaining  \rCompleted 64.8 MiB/120.1 MiB (38.0 MiB/s) with 1 file(s) remaining  \rCompleted 65.0 MiB/120.1 MiB (38.1 MiB/s) with 1 file(s) remaining  \rCompleted 65.2 MiB/120.1 MiB (38.2 MiB/s) with 1 file(s) remaining  \rCompleted 65.5 MiB/120.1 MiB (38.3 MiB/s) with 1 file(s) remaining  \rCompleted 65.8 MiB/120.1 MiB (38.4 MiB/s) with 1 file(s) remaining  \rCompleted 66.0 MiB/120.1 MiB (38.2 MiB/s) with 1 file(s) remaining  \rCompleted 66.2 MiB/120.1 MiB (38.3 MiB/s) with 1 file(s) remaining  \rCompleted 66.5 MiB/120.1 MiB (38.4 MiB/s) with 1 file(s) remaining  \rCompleted 66.8 MiB/120.1 MiB (38.5 MiB/s) with 1 file(s) remaining  \rCompleted 67.0 MiB/120.1 MiB (38.6 MiB/s) with 1 file(s) remaining  \rCompleted 67.2 MiB/120.1 MiB (38.7 MiB/s) with 1 file(s) remaining  \rCompleted 67.5 MiB/120.1 MiB (38.9 MiB/s) with 1 file(s) remaining  \rCompleted 67.8 MiB/120.1 MiB (39.0 MiB/s) with 1 file(s) remaining  \rCompleted 68.0 MiB/120.1 MiB (39.0 MiB/s) with 1 file(s) remaining  \rCompleted 68.2 MiB/120.1 MiB (39.0 MiB/s) with 1 file(s) remaining  \rCompleted 68.5 MiB/120.1 MiB (39.0 MiB/s) with 1 file(s) remaining  \rCompleted 68.8 MiB/120.1 MiB (39.1 MiB/s) with 1 file(s) remaining  \rCompleted 69.0 MiB/120.1 MiB (39.2 MiB/s) with 1 file(s) remaining  \rCompleted 69.2 MiB/120.1 MiB (39.2 MiB/s) with 1 file(s) remaining  \rCompleted 69.5 MiB/120.1 MiB (39.3 MiB/s) with 1 file(s) remaining  \rCompleted 69.8 MiB/120.1 MiB (39.5 MiB/s) with 1 file(s) remaining  \rCompleted 70.0 MiB/120.1 MiB (39.5 MiB/s) with 1 file(s) remaining  \rCompleted 70.2 MiB/120.1 MiB (39.5 MiB/s) with 1 file(s) remaining  \rCompleted 70.5 MiB/120.1 MiB (39.7 MiB/s) with 1 file(s) remaining  \rCompleted 70.8 MiB/120.1 MiB (39.8 MiB/s) with 1 file(s) remaining  \rCompleted 71.0 MiB/120.1 MiB (39.7 MiB/s) with 1 file(s) remaining  \rCompleted 71.2 MiB/120.1 MiB (39.8 MiB/s) with 1 file(s) remaining  \rCompleted 71.5 MiB/120.1 MiB (39.9 MiB/s) with 1 file(s) remaining  \rCompleted 71.8 MiB/120.1 MiB (40.0 MiB/s) with 1 file(s) remaining  \rCompleted 72.0 MiB/120.1 MiB (40.1 MiB/s) with 1 file(s) remaining  \rCompleted 72.2 MiB/120.1 MiB (40.1 MiB/s) with 1 file(s) remaining  \rCompleted 72.5 MiB/120.1 MiB (40.2 MiB/s) with 1 file(s) remaining  \rCompleted 72.8 MiB/120.1 MiB (40.2 MiB/s) with 1 file(s) remaining  \rCompleted 73.0 MiB/120.1 MiB (40.3 MiB/s) with 1 file(s) remaining  \rCompleted 73.2 MiB/120.1 MiB (40.3 MiB/s) with 1 file(s) remaining  \rCompleted 73.5 MiB/120.1 MiB (40.4 MiB/s) with 1 file(s) remaining  \rCompleted 73.8 MiB/120.1 MiB (40.5 MiB/s) with 1 file(s) remaining  \rCompleted 74.0 MiB/120.1 MiB (40.6 MiB/s) with 1 file(s) remaining  \rCompleted 74.2 MiB/120.1 MiB (40.6 MiB/s) with 1 file(s) remaining  \rCompleted 74.5 MiB/120.1 MiB (40.7 MiB/s) with 1 file(s) remaining  \rCompleted 74.8 MiB/120.1 MiB (40.7 MiB/s) with 1 file(s) remaining  \rCompleted 75.0 MiB/120.1 MiB (40.8 MiB/s) with 1 file(s) remaining  \rCompleted 75.2 MiB/120.1 MiB (40.9 MiB/s) with 1 file(s) remaining  \rCompleted 75.5 MiB/120.1 MiB (41.0 MiB/s) with 1 file(s) remaining  \rCompleted 75.8 MiB/120.1 MiB (41.0 MiB/s) with 1 file(s) remaining  \rCompleted 76.0 MiB/120.1 MiB (41.1 MiB/s) with 1 file(s) remaining  \rCompleted 76.2 MiB/120.1 MiB (41.1 MiB/s) with 1 file(s) remaining  \rCompleted 76.5 MiB/120.1 MiB (41.2 MiB/s) with 1 file(s) remaining  \rCompleted 76.8 MiB/120.1 MiB (41.3 MiB/s) with 1 file(s) remaining  \rCompleted 77.0 MiB/120.1 MiB (41.3 MiB/s) with 1 file(s) remaining  \rCompleted 77.2 MiB/120.1 MiB (41.4 MiB/s) with 1 file(s) remaining  \rCompleted 77.5 MiB/120.1 MiB (41.5 MiB/s) with 1 file(s) remaining  \rCompleted 77.8 MiB/120.1 MiB (41.6 MiB/s) with 1 file(s) remaining  \rCompleted 78.0 MiB/120.1 MiB (41.7 MiB/s) with 1 file(s) remaining  \rCompleted 78.2 MiB/120.1 MiB (41.7 MiB/s) with 1 file(s) remaining  \rCompleted 78.5 MiB/120.1 MiB (41.8 MiB/s) with 1 file(s) remaining  \rCompleted 78.8 MiB/120.1 MiB (41.9 MiB/s) with 1 file(s) remaining  \rCompleted 79.0 MiB/120.1 MiB (41.9 MiB/s) with 1 file(s) remaining  \rCompleted 79.2 MiB/120.1 MiB (41.9 MiB/s) with 1 file(s) remaining  \rCompleted 79.5 MiB/120.1 MiB (41.9 MiB/s) with 1 file(s) remaining  \rCompleted 79.8 MiB/120.1 MiB (42.1 MiB/s) with 1 file(s) remaining  \rCompleted 80.0 MiB/120.1 MiB (42.2 MiB/s) with 1 file(s) remaining  \rCompleted 80.2 MiB/120.1 MiB (42.2 MiB/s) with 1 file(s) remaining  \rCompleted 80.5 MiB/120.1 MiB (42.2 MiB/s) with 1 file(s) remaining  \rCompleted 80.8 MiB/120.1 MiB (42.3 MiB/s) with 1 file(s) remaining  \rCompleted 81.0 MiB/120.1 MiB (42.3 MiB/s) with 1 file(s) remaining  \rCompleted 81.2 MiB/120.1 MiB (42.3 MiB/s) with 1 file(s) remaining  \rCompleted 81.5 MiB/120.1 MiB (42.4 MiB/s) with 1 file(s) remaining  \rCompleted 81.8 MiB/120.1 MiB (42.5 MiB/s) with 1 file(s) remaining  \rCompleted 82.0 MiB/120.1 MiB (42.6 MiB/s) with 1 file(s) remaining  \rCompleted 82.2 MiB/120.1 MiB (42.7 MiB/s) with 1 file(s) remaining  \rCompleted 82.5 MiB/120.1 MiB (42.7 MiB/s) with 1 file(s) remaining  \rCompleted 82.8 MiB/120.1 MiB (42.6 MiB/s) with 1 file(s) remaining  \rCompleted 83.0 MiB/120.1 MiB (42.7 MiB/s) with 1 file(s) remaining  \rCompleted 83.2 MiB/120.1 MiB (42.8 MiB/s) with 1 file(s) remaining  \rCompleted 83.5 MiB/120.1 MiB (42.8 MiB/s) with 1 file(s) remaining  \rCompleted 83.8 MiB/120.1 MiB (42.9 MiB/s) with 1 file(s) remaining  \rCompleted 84.0 MiB/120.1 MiB (42.8 MiB/s) with 1 file(s) remaining  \rCompleted 84.2 MiB/120.1 MiB (42.9 MiB/s) with 1 file(s) remaining  \rCompleted 84.5 MiB/120.1 MiB (42.9 MiB/s) with 1 file(s) remaining  \rCompleted 84.8 MiB/120.1 MiB (43.0 MiB/s) with 1 file(s) remaining  \rCompleted 85.0 MiB/120.1 MiB (42.7 MiB/s) with 1 file(s) remaining  \rCompleted 85.2 MiB/120.1 MiB (42.7 MiB/s) with 1 file(s) remaining  \rCompleted 85.5 MiB/120.1 MiB (42.7 MiB/s) with 1 file(s) remaining  \rCompleted 85.8 MiB/120.1 MiB (42.7 MiB/s) with 1 file(s) remaining  \rCompleted 86.0 MiB/120.1 MiB (42.8 MiB/s) with 1 file(s) remaining  \rCompleted 86.2 MiB/120.1 MiB (42.7 MiB/s) with 1 file(s) remaining  \rCompleted 86.5 MiB/120.1 MiB (42.7 MiB/s) with 1 file(s) remaining  \rCompleted 86.8 MiB/120.1 MiB (42.8 MiB/s) with 1 file(s) remaining  \rCompleted 87.0 MiB/120.1 MiB (42.9 MiB/s) with 1 file(s) remaining  \rCompleted 87.2 MiB/120.1 MiB (42.7 MiB/s) with 1 file(s) remaining  \rCompleted 87.5 MiB/120.1 MiB (42.8 MiB/s) with 1 file(s) remaining  \rCompleted 87.8 MiB/120.1 MiB (42.7 MiB/s) with 1 file(s) remaining  \rCompleted 88.0 MiB/120.1 MiB (42.7 MiB/s) with 1 file(s) remaining  \rCompleted 88.2 MiB/120.1 MiB (42.8 MiB/s) with 1 file(s) remaining  \rCompleted 88.5 MiB/120.1 MiB (42.9 MiB/s) with 1 file(s) remaining  \rCompleted 88.8 MiB/120.1 MiB (42.9 MiB/s) with 1 file(s) remaining  \rCompleted 89.0 MiB/120.1 MiB (42.9 MiB/s) with 1 file(s) remaining  \rCompleted 89.2 MiB/120.1 MiB (43.0 MiB/s) with 1 file(s) remaining  \rCompleted 89.5 MiB/120.1 MiB (43.1 MiB/s) with 1 file(s) remaining  \rCompleted 89.8 MiB/120.1 MiB (43.0 MiB/s) with 1 file(s) remaining  \rCompleted 90.0 MiB/120.1 MiB (43.1 MiB/s) with 1 file(s) remaining  \rCompleted 90.2 MiB/120.1 MiB (43.1 MiB/s) with 1 file(s) remaining  \rCompleted 90.5 MiB/120.1 MiB (43.2 MiB/s) with 1 file(s) remaining  \rCompleted 90.8 MiB/120.1 MiB (43.3 MiB/s) with 1 file(s) remaining  \rCompleted 91.0 MiB/120.1 MiB (43.3 MiB/s) with 1 file(s) remaining  \rCompleted 91.2 MiB/120.1 MiB (43.4 MiB/s) with 1 file(s) remaining  \rCompleted 91.5 MiB/120.1 MiB (43.4 MiB/s) with 1 file(s) remaining  \rCompleted 91.8 MiB/120.1 MiB (43.5 MiB/s) with 1 file(s) remaining  \rCompleted 92.0 MiB/120.1 MiB (43.6 MiB/s) with 1 file(s) remaining  \rCompleted 92.2 MiB/120.1 MiB (43.6 MiB/s) with 1 file(s) remaining  \rCompleted 92.5 MiB/120.1 MiB (43.7 MiB/s) with 1 file(s) remaining  \rCompleted 92.8 MiB/120.1 MiB (43.8 MiB/s) with 1 file(s) remaining  \rCompleted 93.0 MiB/120.1 MiB (43.9 MiB/s) with 1 file(s) remaining  \rCompleted 93.2 MiB/120.1 MiB (43.9 MiB/s) with 1 file(s) remaining  \rCompleted 93.5 MiB/120.1 MiB (44.0 MiB/s) with 1 file(s) remaining  \rCompleted 93.8 MiB/120.1 MiB (44.1 MiB/s) with 1 file(s) remaining  \rCompleted 94.0 MiB/120.1 MiB (44.1 MiB/s) with 1 file(s) remaining  \rCompleted 94.2 MiB/120.1 MiB (44.1 MiB/s) with 1 file(s) remaining  \rCompleted 94.5 MiB/120.1 MiB (44.2 MiB/s) with 1 file(s) remaining  \rCompleted 94.8 MiB/120.1 MiB (44.2 MiB/s) with 1 file(s) remaining  \rCompleted 95.0 MiB/120.1 MiB (44.3 MiB/s) with 1 file(s) remaining  \rCompleted 95.2 MiB/120.1 MiB (44.4 MiB/s) with 1 file(s) remaining  \rCompleted 95.5 MiB/120.1 MiB (44.3 MiB/s) with 1 file(s) remaining  \rCompleted 95.8 MiB/120.1 MiB (44.4 MiB/s) with 1 file(s) remaining  \rCompleted 96.0 MiB/120.1 MiB (44.5 MiB/s) with 1 file(s) remaining  \rCompleted 96.2 MiB/120.1 MiB (44.6 MiB/s) with 1 file(s) remaining  \rCompleted 96.5 MiB/120.1 MiB (44.6 MiB/s) with 1 file(s) remaining  \rCompleted 96.8 MiB/120.1 MiB (44.6 MiB/s) with 1 file(s) remaining  \rCompleted 97.0 MiB/120.1 MiB (44.7 MiB/s) with 1 file(s) remaining  \rCompleted 97.2 MiB/120.1 MiB (44.8 MiB/s) with 1 file(s) remaining  \rCompleted 97.5 MiB/120.1 MiB (44.9 MiB/s) with 1 file(s) remaining  \rCompleted 97.8 MiB/120.1 MiB (44.8 MiB/s) with 1 file(s) remaining  \rCompleted 98.0 MiB/120.1 MiB (44.9 MiB/s) with 1 file(s) remaining  \rCompleted 98.2 MiB/120.1 MiB (45.0 MiB/s) with 1 file(s) remaining  \rCompleted 98.5 MiB/120.1 MiB (45.0 MiB/s) with 1 file(s) remaining  \rCompleted 98.8 MiB/120.1 MiB (45.0 MiB/s) with 1 file(s) remaining  \rCompleted 98.9 MiB/120.1 MiB (45.1 MiB/s) with 1 file(s) remaining  \rCompleted 99.1 MiB/120.1 MiB (45.1 MiB/s) with 1 file(s) remaining  \rCompleted 99.4 MiB/120.1 MiB (45.2 MiB/s) with 1 file(s) remaining  \rCompleted 99.6 MiB/120.1 MiB (45.2 MiB/s) with 1 file(s) remaining  \rCompleted 99.9 MiB/120.1 MiB (45.3 MiB/s) with 1 file(s) remaining  \rCompleted 100.1 MiB/120.1 MiB (45.3 MiB/s) with 1 file(s) remaining \rCompleted 100.4 MiB/120.1 MiB (45.3 MiB/s) with 1 file(s) remaining \rCompleted 100.6 MiB/120.1 MiB (45.4 MiB/s) with 1 file(s) remaining \rCompleted 100.9 MiB/120.1 MiB (45.4 MiB/s) with 1 file(s) remaining \rCompleted 101.1 MiB/120.1 MiB (45.5 MiB/s) with 1 file(s) remaining \rCompleted 101.4 MiB/120.1 MiB (45.5 MiB/s) with 1 file(s) remaining \rCompleted 101.6 MiB/120.1 MiB (45.6 MiB/s) with 1 file(s) remaining \rCompleted 101.9 MiB/120.1 MiB (45.6 MiB/s) with 1 file(s) remaining \rCompleted 102.1 MiB/120.1 MiB (45.7 MiB/s) with 1 file(s) remaining \rCompleted 102.4 MiB/120.1 MiB (45.7 MiB/s) with 1 file(s) remaining \rCompleted 102.6 MiB/120.1 MiB (45.8 MiB/s) with 1 file(s) remaining \rCompleted 102.9 MiB/120.1 MiB (45.8 MiB/s) with 1 file(s) remaining \rCompleted 103.1 MiB/120.1 MiB (45.9 MiB/s) with 1 file(s) remaining \rCompleted 103.4 MiB/120.1 MiB (46.0 MiB/s) with 1 file(s) remaining \rCompleted 103.6 MiB/120.1 MiB (46.0 MiB/s) with 1 file(s) remaining \rCompleted 103.9 MiB/120.1 MiB (46.0 MiB/s) with 1 file(s) remaining \rCompleted 104.1 MiB/120.1 MiB (46.1 MiB/s) with 1 file(s) remaining \rCompleted 104.4 MiB/120.1 MiB (46.2 MiB/s) with 1 file(s) remaining \rCompleted 104.6 MiB/120.1 MiB (46.2 MiB/s) with 1 file(s) remaining \rCompleted 104.9 MiB/120.1 MiB (46.1 MiB/s) with 1 file(s) remaining \rCompleted 105.1 MiB/120.1 MiB (46.2 MiB/s) with 1 file(s) remaining \rCompleted 105.4 MiB/120.1 MiB (46.3 MiB/s) with 1 file(s) remaining \rCompleted 105.6 MiB/120.1 MiB (46.4 MiB/s) with 1 file(s) remaining \rCompleted 105.9 MiB/120.1 MiB (46.2 MiB/s) with 1 file(s) remaining \rCompleted 106.1 MiB/120.1 MiB (46.3 MiB/s) with 1 file(s) remaining \rCompleted 106.4 MiB/120.1 MiB (46.4 MiB/s) with 1 file(s) remaining \rCompleted 106.6 MiB/120.1 MiB (46.5 MiB/s) with 1 file(s) remaining \rCompleted 106.9 MiB/120.1 MiB (46.3 MiB/s) with 1 file(s) remaining \rCompleted 107.1 MiB/120.1 MiB (46.4 MiB/s) with 1 file(s) remaining \rCompleted 107.4 MiB/120.1 MiB (46.5 MiB/s) with 1 file(s) remaining \rCompleted 107.6 MiB/120.1 MiB (46.6 MiB/s) with 1 file(s) remaining \rCompleted 107.9 MiB/120.1 MiB (46.5 MiB/s) with 1 file(s) remaining \rCompleted 108.1 MiB/120.1 MiB (46.6 MiB/s) with 1 file(s) remaining \rCompleted 108.4 MiB/120.1 MiB (46.6 MiB/s) with 1 file(s) remaining \rCompleted 108.6 MiB/120.1 MiB (46.7 MiB/s) with 1 file(s) remaining \rCompleted 108.9 MiB/120.1 MiB (46.6 MiB/s) with 1 file(s) remaining \rCompleted 109.1 MiB/120.1 MiB (46.7 MiB/s) with 1 file(s) remaining \rCompleted 109.4 MiB/120.1 MiB (46.8 MiB/s) with 1 file(s) remaining \rCompleted 109.6 MiB/120.1 MiB (46.8 MiB/s) with 1 file(s) remaining \rCompleted 109.9 MiB/120.1 MiB (46.8 MiB/s) with 1 file(s) remaining \rCompleted 110.1 MiB/120.1 MiB (46.8 MiB/s) with 1 file(s) remaining \rCompleted 110.4 MiB/120.1 MiB (46.9 MiB/s) with 1 file(s) remaining \rCompleted 110.6 MiB/120.1 MiB (46.9 MiB/s) with 1 file(s) remaining \rCompleted 110.9 MiB/120.1 MiB (47.0 MiB/s) with 1 file(s) remaining \rCompleted 111.1 MiB/120.1 MiB (46.9 MiB/s) with 1 file(s) remaining \rCompleted 111.4 MiB/120.1 MiB (47.0 MiB/s) with 1 file(s) remaining \rCompleted 111.6 MiB/120.1 MiB (47.1 MiB/s) with 1 file(s) remaining \rCompleted 111.9 MiB/120.1 MiB (47.2 MiB/s) with 1 file(s) remaining \rCompleted 112.1 MiB/120.1 MiB (47.1 MiB/s) with 1 file(s) remaining \rCompleted 112.4 MiB/120.1 MiB (47.1 MiB/s) with 1 file(s) remaining \rCompleted 112.6 MiB/120.1 MiB (47.2 MiB/s) with 1 file(s) remaining \rCompleted 112.9 MiB/120.1 MiB (47.3 MiB/s) with 1 file(s) remaining \rCompleted 113.1 MiB/120.1 MiB (47.2 MiB/s) with 1 file(s) remaining \rCompleted 113.4 MiB/120.1 MiB (47.3 MiB/s) with 1 file(s) remaining \rCompleted 113.6 MiB/120.1 MiB (47.3 MiB/s) with 1 file(s) remaining \rCompleted 113.9 MiB/120.1 MiB (47.4 MiB/s) with 1 file(s) remaining \rCompleted 114.1 MiB/120.1 MiB (47.4 MiB/s) with 1 file(s) remaining \rCompleted 114.4 MiB/120.1 MiB (47.4 MiB/s) with 1 file(s) remaining \rCompleted 114.6 MiB/120.1 MiB (47.5 MiB/s) with 1 file(s) remaining \rCompleted 114.9 MiB/120.1 MiB (47.6 MiB/s) with 1 file(s) remaining \rCompleted 115.1 MiB/120.1 MiB (47.5 MiB/s) with 1 file(s) remaining \rCompleted 115.4 MiB/120.1 MiB (47.6 MiB/s) with 1 file(s) remaining \rCompleted 115.6 MiB/120.1 MiB (47.7 MiB/s) with 1 file(s) remaining \rCompleted 115.9 MiB/120.1 MiB (47.7 MiB/s) with 1 file(s) remaining \rCompleted 116.1 MiB/120.1 MiB (47.7 MiB/s) with 1 file(s) remaining \rCompleted 116.4 MiB/120.1 MiB (47.7 MiB/s) with 1 file(s) remaining \rCompleted 116.6 MiB/120.1 MiB (47.8 MiB/s) with 1 file(s) remaining \rCompleted 116.9 MiB/120.1 MiB (47.8 MiB/s) with 1 file(s) remaining \rCompleted 117.1 MiB/120.1 MiB (47.9 MiB/s) with 1 file(s) remaining \rCompleted 117.4 MiB/120.1 MiB (48.0 MiB/s) with 1 file(s) remaining \rCompleted 117.6 MiB/120.1 MiB (48.0 MiB/s) with 1 file(s) remaining \rCompleted 117.9 MiB/120.1 MiB (48.1 MiB/s) with 1 file(s) remaining \rCompleted 118.1 MiB/120.1 MiB (48.1 MiB/s) with 1 file(s) remaining \rCompleted 118.4 MiB/120.1 MiB (48.2 MiB/s) with 1 file(s) remaining \rCompleted 118.6 MiB/120.1 MiB (48.2 MiB/s) with 1 file(s) remaining \rCompleted 118.9 MiB/120.1 MiB (48.3 MiB/s) with 1 file(s) remaining \rCompleted 119.1 MiB/120.1 MiB (48.3 MiB/s) with 1 file(s) remaining \rCompleted 119.4 MiB/120.1 MiB (48.4 MiB/s) with 1 file(s) remaining \rCompleted 119.6 MiB/120.1 MiB (48.5 MiB/s) with 1 file(s) remaining \rCompleted 119.9 MiB/120.1 MiB (48.5 MiB/s) with 1 file(s) remaining \rCompleted 120.1 MiB/120.1 MiB (48.5 MiB/s) with 1 file(s) remaining \rupload: ./yellow_tripdata_2021-01.csv to s3://yellow-taxi-ny-983794/yellow_tripdata_2021-01.csv\n",
            "2022-01-08 02:07:06  125981363 yellow_tripdata_2021-01.csv\n"
          ]
        }
      ]
    },
    {
      "cell_type": "markdown",
      "source": [
        "https://www.xerris.com/insights/building-modern-data-warehouses-with-s3-glue-and-athena-part-3/"
      ],
      "metadata": {
        "id": "HeQb3klGMq0x"
      }
    },
    {
      "cell_type": "code",
      "source": [
        "athena_tf_body = \"\"\"\n",
        "\n",
        "resource \"aws_athena_database\" \"yellow_taxi_ny\" {\n",
        "  name   = \"yellow_taxi_ny\"\n",
        "  bucket = aws_s3_bucket.bucket.bucket\n",
        "}\n",
        "\n",
        "resource \"aws_s3_bucket\" \"query_results\" {\n",
        "  bucket = \"${local.query_results_s3_bucket_name}\"\n",
        "  lifecycle_rule {\n",
        "    enabled = true\n",
        "    expiration {\n",
        "      days = 1\n",
        "    }\n",
        "  }\n",
        "}\n",
        "\n",
        "# Ensure no public access is possible\n",
        "resource \"aws_s3_bucket_public_access_block\" \"query_results_bucket_block\" {\n",
        "  bucket = aws_s3_bucket.query_results.id\n",
        "\n",
        "  block_public_acls       = true\n",
        "  block_public_policy     = true\n",
        "  ignore_public_acls      = true\n",
        "  restrict_public_buckets = true\n",
        "}\n",
        "\n",
        "resource \"aws_athena_workgroup\" \"workgroup\" {\n",
        "  name = \"my_workgroup\"\n",
        "  configuration {\n",
        "    enforce_workgroup_configuration    = true\n",
        "    publish_cloudwatch_metrics_enabled = true\n",
        "\n",
        "    result_configuration {\n",
        "      output_location = \"s3://${aws_s3_bucket.query_results.bucket}/output/\"\n",
        "    }\n",
        "  }\n",
        "}\n",
        "\n",
        "resource \"aws_glue_crawler\" \"crawler\" {\n",
        "  database_name = aws_athena_database.yellow_taxi_ny.name\n",
        "  name          = \"yellow_taxi_ny_crawler\"\n",
        "  role          = aws_iam_role.yellow_taxi_nydb_role.arn\n",
        "\n",
        "  s3_target {\n",
        "    path = \"s3://${aws_s3_bucket.bucket.bucket}\"\n",
        "  }\n",
        "}\n",
        "\"\"\"\n",
        "\n",
        "iam_tf_body = \"\"\"\n",
        "\n",
        "resource \"aws_iam_role\" \"yellow_taxi_nydb_role\" {\n",
        "  name               = \"yellow_taxi_nydb_role\"\n",
        "  assume_role_policy = data.aws_iam_policy_document.glue-assume-role-policy.json\n",
        "}\n",
        "\n",
        "data \"aws_iam_policy_document\" \"glue-assume-role-policy\" {\n",
        "  statement {\n",
        "    actions = [\"sts:AssumeRole\"]\n",
        "    principals {\n",
        "      type        = \"Service\"\n",
        "      identifiers = [\"glue.amazonaws.com\"]\n",
        "    }\n",
        "  }\n",
        "}\n",
        "\n",
        "resource \"aws_iam_policy\" \"policy\" {\n",
        "  name        = \"yellow_taxi_nydb\"\n",
        "  description = \"yellow_taxi_nydb\"\n",
        "  policy      = data.aws_iam_policy_document.policy-document.json\n",
        "\n",
        "}\n",
        "\n",
        "data \"aws_iam_policy_document\" \"policy-document\" {\n",
        "  statement {\n",
        "    actions = [\n",
        "    \"s3:GetBucketLocation\", \"s3:ListBucket\", \"s3:ListAllMyBuckets\", \n",
        "    \"s3:GetBucketAcl\", \"s3:GetObject\"]\n",
        "    resources = [\n",
        "      \"arn:aws:s3:::yellow-taxi-ny-983794\",\n",
        "      \"arn:aws:s3:::yellow-taxi-ny-983794/*\"\n",
        "    ]\n",
        "  }\n",
        "}\n",
        "\n",
        "resource \"aws_iam_role_policy_attachment\" \"policy-attachment\" {\n",
        "  role       = aws_iam_role.yellow_taxi_nydb_role.name\n",
        "  policy_arn = aws_iam_policy.policy.arn\n",
        "}\n",
        "\n",
        "resource \"aws_iam_role_policy_attachment\" \"glue-service-role-attachment\" {\n",
        "  role       = aws_iam_role.yellow_taxi_nydb_role.name\n",
        "  policy_arn = data.aws_iam_policy.AWSGlueServiceRole.arn\n",
        "}\n",
        "\n",
        "data \"aws_iam_policy\" \"AWSGlueServiceRole\" {\n",
        "  arn = \"arn:aws:iam::aws:policy/service-role/AWSGlueServiceRole\"\n",
        "}\n",
        "\n",
        "\"\"\"\n",
        "\n",
        "with open(\"athena.tf\",\"w\") as athena_tf:\n",
        "  athena_tf.writelines(athena_tf_body)\n",
        "\n",
        "with open(\"iam.tf\",\"w\") as iam_tf:\n",
        "  iam_tf.writelines(iam_tf_body)"
      ],
      "metadata": {
        "id": "SGlu5JJo_cWF"
      },
      "execution_count": 42,
      "outputs": []
    },
    {
      "cell_type": "code",
      "source": [
        "%%bash\n",
        "#terraform plan\n",
        "terraform apply -auto-approve"
      ],
      "metadata": {
        "colab": {
          "base_uri": "https://localhost:8080/"
        },
        "id": "4kx0W-PWDmoZ",
        "outputId": "7d5f540f-1e30-4812-dd13-c3c49e8fdf77"
      },
      "execution_count": 43,
      "outputs": [
        {
          "output_type": "stream",
          "name": "stdout",
          "text": [
            "\u001b[0m\u001b[1maws_s3_bucket.query_results: Refreshing state... [id=yellow-taxi-ny-983794-workgroup-query-results]\u001b[0m\n",
            "\u001b[0m\u001b[1maws_s3_bucket.bucket: Refreshing state... [id=yellow-taxi-ny-983794]\u001b[0m\n",
            "\u001b[0m\u001b[1maws_iam_role.yellow_taxi_nydb_role: Refreshing state... [id=yellow_taxi_nydb_role]\u001b[0m\n",
            "\u001b[0m\u001b[1maws_iam_policy.policy: Refreshing state... [id=arn:aws:iam::736682772784:policy/yellow_taxi_nydb]\u001b[0m\n",
            "\u001b[0m\u001b[1maws_iam_role_policy_attachment.policy-attachment: Refreshing state... [id=yellow_taxi_nydb_role-20220108021055016300000002]\u001b[0m\n",
            "\u001b[0m\u001b[1maws_iam_role_policy_attachment.glue-service-role-attachment: Refreshing state... [id=yellow_taxi_nydb_role-20220108021055025600000003]\u001b[0m\n",
            "\u001b[0m\u001b[1maws_s3_bucket_public_access_block.bucket: Refreshing state... [id=yellow-taxi-ny-983794]\u001b[0m\n",
            "\u001b[0m\u001b[1maws_athena_database.yellow_taxi_ny: Refreshing state... [id=yellow_taxi_ny]\u001b[0m\n",
            "\u001b[0m\u001b[1maws_athena_workgroup.workgroup: Refreshing state... [id=my_workgroup]\u001b[0m\n",
            "\u001b[0m\u001b[1maws_s3_bucket_public_access_block.query_results_bucket_block: Refreshing state... [id=yellow-taxi-ny-983794-workgroup-query-results]\u001b[0m\n",
            "\u001b[0m\u001b[1maws_glue_crawler.crawler: Refreshing state... [id=yellow_taxi_ny_crawler]\u001b[0m\n",
            "\u001b[0m\n",
            "\u001b[1m\u001b[36mNote:\u001b[0m\u001b[1m Objects have changed outside of Terraform\u001b[0m\n",
            "\n",
            "\u001b[0mTerraform detected the following changes made outside of Terraform since the\n",
            "last \"terraform apply\":\n",
            "\n",
            "\u001b[1m  # aws_athena_workgroup.workgroup\u001b[0m has changed\u001b[0m\u001b[0m\n",
            "\u001b[0m  \u001b[33m~\u001b[0m\u001b[0m resource \"aws_athena_workgroup\" \"workgroup\" {\n",
            "        \u001b[1m\u001b[0mid\u001b[0m\u001b[0m            = \"my_workgroup\"\n",
            "        \u001b[1m\u001b[0mname\u001b[0m\u001b[0m          = \"my_workgroup\"\n",
            "      \u001b[32m+\u001b[0m \u001b[0m\u001b[1m\u001b[0mtags\u001b[0m\u001b[0m          = {}\n",
            "        \u001b[90m# (4 unchanged attributes hidden)\u001b[0m\u001b[0m\n",
            "\n",
            "        \u001b[90m# (1 unchanged block hidden)\u001b[0m\u001b[0m\n",
            "    }\n",
            "\n",
            "\u001b[1m  # aws_glue_crawler.crawler\u001b[0m has changed\u001b[0m\u001b[0m\n",
            "\u001b[0m  \u001b[33m~\u001b[0m\u001b[0m resource \"aws_glue_crawler\" \"crawler\" {\n",
            "      \u001b[32m+\u001b[0m \u001b[0m\u001b[1m\u001b[0mclassifiers\u001b[0m\u001b[0m   = []\n",
            "        \u001b[1m\u001b[0mid\u001b[0m\u001b[0m            = \"yellow_taxi_ny_crawler\"\n",
            "        \u001b[1m\u001b[0mname\u001b[0m\u001b[0m          = \"yellow_taxi_ny_crawler\"\n",
            "      \u001b[32m+\u001b[0m \u001b[0m\u001b[1m\u001b[0mtags\u001b[0m\u001b[0m          = {}\n",
            "        \u001b[90m# (4 unchanged attributes hidden)\u001b[0m\u001b[0m\n",
            "\n",
            "\n",
            "\n",
            "      \u001b[33m~\u001b[0m \u001b[0ms3_target {\n",
            "          \u001b[32m+\u001b[0m \u001b[0m\u001b[1m\u001b[0mexclusions\u001b[0m\u001b[0m  = []\n",
            "            \u001b[90m# (2 unchanged attributes hidden)\u001b[0m\u001b[0m\n",
            "        }\n",
            "\n",
            "        \u001b[90m# (3 unchanged blocks hidden)\u001b[0m\u001b[0m\n",
            "    }\n",
            "\n",
            "\u001b[1m  # aws_iam_policy.policy\u001b[0m has changed\u001b[0m\u001b[0m\n",
            "\u001b[0m  \u001b[33m~\u001b[0m\u001b[0m resource \"aws_iam_policy\" \"policy\" {\n",
            "        \u001b[1m\u001b[0mid\u001b[0m\u001b[0m          = \"arn:aws:iam::736682772784:policy/yellow_taxi_nydb\"\n",
            "        \u001b[1m\u001b[0mname\u001b[0m\u001b[0m        = \"yellow_taxi_nydb\"\n",
            "      \u001b[32m+\u001b[0m \u001b[0m\u001b[1m\u001b[0mtags\u001b[0m\u001b[0m        = {}\n",
            "        \u001b[90m# (6 unchanged attributes hidden)\u001b[0m\u001b[0m\n",
            "    }\n",
            "\n",
            "\u001b[1m  # aws_iam_role.yellow_taxi_nydb_role\u001b[0m has changed\u001b[0m\u001b[0m\n",
            "\u001b[0m  \u001b[33m~\u001b[0m\u001b[0m resource \"aws_iam_role\" \"yellow_taxi_nydb_role\" {\n",
            "        \u001b[1m\u001b[0mid\u001b[0m\u001b[0m                    = \"yellow_taxi_nydb_role\"\n",
            "      \u001b[33m~\u001b[0m \u001b[0m\u001b[1m\u001b[0mmanaged_policy_arns\u001b[0m\u001b[0m   = [\n",
            "          \u001b[32m+\u001b[0m \u001b[0m\"arn:aws:iam::736682772784:policy/yellow_taxi_nydb\",\n",
            "          \u001b[32m+\u001b[0m \u001b[0m\"arn:aws:iam::aws:policy/service-role/AWSGlueServiceRole\",\n",
            "        ]\n",
            "        \u001b[1m\u001b[0mname\u001b[0m\u001b[0m                  = \"yellow_taxi_nydb_role\"\n",
            "      \u001b[32m+\u001b[0m \u001b[0m\u001b[1m\u001b[0mtags\u001b[0m\u001b[0m                  = {}\n",
            "        \u001b[90m# (8 unchanged attributes hidden)\u001b[0m\u001b[0m\n",
            "\n",
            "        \u001b[90m# (1 unchanged block hidden)\u001b[0m\u001b[0m\n",
            "    }\n",
            "\n",
            "\u001b[1m  # aws_s3_bucket.query_results\u001b[0m has changed\u001b[0m\u001b[0m\n",
            "\u001b[0m  \u001b[33m~\u001b[0m\u001b[0m resource \"aws_s3_bucket\" \"query_results\" {\n",
            "        \u001b[1m\u001b[0mid\u001b[0m\u001b[0m                          = \"yellow-taxi-ny-983794-workgroup-query-results\"\n",
            "      \u001b[32m+\u001b[0m \u001b[0m\u001b[1m\u001b[0mtags\u001b[0m\u001b[0m                        = {}\n",
            "        \u001b[90m# (10 unchanged attributes hidden)\u001b[0m\u001b[0m\n",
            "\n",
            "      \u001b[33m~\u001b[0m \u001b[0mlifecycle_rule {\n",
            "            \u001b[1m\u001b[0mid\u001b[0m\u001b[0m                                     = \"tf-s3-lifecycle-20220108021054644700000001\"\n",
            "          \u001b[32m+\u001b[0m \u001b[0m\u001b[1m\u001b[0mtags\u001b[0m\u001b[0m                                   = {}\n",
            "            \u001b[90m# (2 unchanged attributes hidden)\u001b[0m\u001b[0m\n",
            "\n",
            "            \u001b[90m# (1 unchanged block hidden)\u001b[0m\u001b[0m\n",
            "        }\n",
            "\n",
            "        \u001b[90m# (1 unchanged block hidden)\u001b[0m\u001b[0m\n",
            "    }\n",
            "\n",
            "\n",
            "Unless you have made equivalent changes to your configuration, or ignored the\n",
            "relevant attributes using ignore_changes, the following plan may include\n",
            "actions to undo or respond to these changes.\n",
            "\u001b[90m\n",
            "─────────────────────────────────────────────────────────────────────────────\u001b[0m\n",
            "\n",
            "Terraform used the selected providers to generate the following execution\n",
            "plan. Resource actions are indicated with the following symbols:\n",
            "  \u001b[33m~\u001b[0m update in-place\n",
            "\u001b[0m\n",
            "Terraform will perform the following actions:\n",
            "\n",
            "\u001b[1m  # aws_iam_policy.policy\u001b[0m will be updated in-place\u001b[0m\u001b[0m\n",
            "\u001b[0m  \u001b[33m~\u001b[0m\u001b[0m resource \"aws_iam_policy\" \"policy\" {\n",
            "        \u001b[1m\u001b[0mid\u001b[0m\u001b[0m          = \"arn:aws:iam::736682772784:policy/yellow_taxi_nydb\"\n",
            "        \u001b[1m\u001b[0mname\u001b[0m\u001b[0m        = \"yellow_taxi_nydb\"\n",
            "      \u001b[33m~\u001b[0m \u001b[0m\u001b[1m\u001b[0mpolicy\u001b[0m\u001b[0m      = jsonencode(\n",
            "          \u001b[33m~\u001b[0m \u001b[0m{\n",
            "              \u001b[33m~\u001b[0m \u001b[0mStatement = [\n",
            "                  \u001b[33m~\u001b[0m \u001b[0m{\n",
            "                      \u001b[33m~\u001b[0m \u001b[0mResource = [\n",
            "                          \u001b[31m-\u001b[0m \u001b[0m\"arn:aws:s3:::terraform-aws-google-colab-tutorial/*\",\n",
            "                          \u001b[31m-\u001b[0m \u001b[0m\"arn:aws:s3:::terraform-aws-google-colab-tutorial\",\n",
            "                          \u001b[32m+\u001b[0m \u001b[0m\"arn:aws:s3:::yellow-taxi-ny-983794/*\",\n",
            "                          \u001b[32m+\u001b[0m \u001b[0m\"arn:aws:s3:::yellow-taxi-ny-983794\",\n",
            "                        ]\n",
            "                        \u001b[90m# (3 unchanged elements hidden)\u001b[0m\u001b[0m\n",
            "                    },\n",
            "                ]\n",
            "                \u001b[90m# (1 unchanged element hidden)\u001b[0m\u001b[0m\n",
            "            }\n",
            "        )\n",
            "        \u001b[1m\u001b[0mtags\u001b[0m\u001b[0m        = {}\n",
            "        \u001b[90m# (5 unchanged attributes hidden)\u001b[0m\u001b[0m\n",
            "    }\n",
            "\n",
            "\u001b[0m\u001b[1mPlan:\u001b[0m 0 to add, 1 to change, 0 to destroy.\n",
            "\u001b[0m\u001b[0m\u001b[1maws_iam_policy.policy: Modifying... [id=arn:aws:iam::736682772784:policy/yellow_taxi_nydb]\u001b[0m\u001b[0m\n",
            "\u001b[0m\u001b[1maws_iam_policy.policy: Modifications complete after 0s [id=arn:aws:iam::736682772784:policy/yellow_taxi_nydb]\u001b[0m\n",
            "\u001b[0m\u001b[1m\u001b[32m\n",
            "Apply complete! Resources: 0 added, 1 changed, 0 destroyed.\n",
            "\u001b[0m"
          ]
        }
      ]
    },
    {
      "cell_type": "code",
      "source": [
        "%%bash\n",
        "aws glue start-crawler --name yellow_taxi_ny_crawler"
      ],
      "metadata": {
        "id": "4ac9JAhMLdcF"
      },
      "execution_count": 44,
      "outputs": []
    },
    {
      "cell_type": "code",
      "source": [
        "# install a json string processor (jq)\n",
        "#!sudo apt install jq >> /dev/null"
      ],
      "metadata": {
        "colab": {
          "base_uri": "https://localhost:8080/"
        },
        "id": "kJFZyr3FdqqQ",
        "outputId": "19df0281-2e25-4f83-aa7f-6762fe8dae7f"
      },
      "execution_count": 25,
      "outputs": [
        {
          "output_type": "stream",
          "name": "stdout",
          "text": [
            "\n",
            "WARNING: apt does not have a stable CLI interface. Use with caution in scripts.\n",
            "\n"
          ]
        }
      ]
    },
    {
      "cell_type": "code",
      "source": [
        "%%bash\n",
        "aws glue get-crawler --name yellow_taxi_ny_crawler"
      ],
      "metadata": {
        "colab": {
          "base_uri": "https://localhost:8080/"
        },
        "id": "b2A3dqQze1sk",
        "outputId": "abbdf3da-5be7-4032-9fbd-5e0421b88ced"
      },
      "execution_count": 45,
      "outputs": [
        {
          "output_type": "stream",
          "name": "stdout",
          "text": [
            "{\n",
            "    \"Crawler\": {\n",
            "        \"Name\": \"yellow_taxi_ny_crawler\",\n",
            "        \"Role\": \"yellow_taxi_nydb_role\",\n",
            "        \"Targets\": {\n",
            "            \"S3Targets\": [\n",
            "                {\n",
            "                    \"Path\": \"s3://yellow-taxi-ny-983794\",\n",
            "                    \"Exclusions\": []\n",
            "                }\n",
            "            ],\n",
            "            \"JdbcTargets\": [],\n",
            "            \"MongoDBTargets\": [],\n",
            "            \"DynamoDBTargets\": [],\n",
            "            \"CatalogTargets\": []\n",
            "        },\n",
            "        \"DatabaseName\": \"yellow_taxi_ny\",\n",
            "        \"Classifiers\": [],\n",
            "        \"RecrawlPolicy\": {\n",
            "            \"RecrawlBehavior\": \"CRAWL_EVERYTHING\"\n",
            "        },\n",
            "        \"SchemaChangePolicy\": {\n",
            "            \"UpdateBehavior\": \"UPDATE_IN_DATABASE\",\n",
            "            \"DeleteBehavior\": \"DEPRECATE_IN_DATABASE\"\n",
            "        },\n",
            "        \"LineageConfiguration\": {\n",
            "            \"CrawlerLineageSettings\": \"DISABLE\"\n",
            "        },\n",
            "        \"State\": \"RUNNING\",\n",
            "        \"CrawlElapsedTime\": 32451,\n",
            "        \"CreationTime\": \"2022-01-08T02:11:01+00:00\",\n",
            "        \"LastUpdated\": \"2022-01-08T02:11:01+00:00\",\n",
            "        \"LastCrawl\": {\n",
            "            \"Status\": \"SUCCEEDED\",\n",
            "            \"LogGroup\": \"/aws-glue/crawlers\",\n",
            "            \"LogStream\": \"yellow_taxi_ny_crawler\",\n",
            "            \"MessagePrefix\": \"569cab19-d724-4d14-b877-bf12cdf0f25e\",\n",
            "            \"StartTime\": \"2022-01-08T02:12:43+00:00\"\n",
            "        },\n",
            "        \"Version\": 1\n",
            "    }\n",
            "}\n"
          ]
        }
      ]
    },
    {
      "cell_type": "code",
      "source": [
        "%%bash\n",
        "crawler_details=$(aws glue get-crawler --name yellow_taxi_ny_crawler)\n",
        "#aws glue get-tables --database-name yellow_taxi_ny\n",
        "#echo $crawler_details\n",
        "status=$(jq .Crawler.State <<< $crawler_details)\n",
        "echo $status"
      ],
      "metadata": {
        "colab": {
          "base_uri": "https://localhost:8080/"
        },
        "id": "-jAQgW47L_OV",
        "outputId": "609581a3-cbc5-4220-8cbe-09e95281f08e"
      },
      "execution_count": 46,
      "outputs": [
        {
          "output_type": "stream",
          "name": "stdout",
          "text": [
            "\"STOPPING\"\n"
          ]
        }
      ]
    },
    {
      "cell_type": "code",
      "source": [
        "%%bash\n",
        "#aws glue list-databases\n",
        "aws glue get-tables --database-name 'yellow_taxi_ny'"
      ],
      "metadata": {
        "colab": {
          "base_uri": "https://localhost:8080/"
        },
        "id": "hrmMtoQvd0F5",
        "outputId": "67156932-b83a-4461-eed5-9ec83b3cd5c0"
      },
      "execution_count": 49,
      "outputs": [
        {
          "output_type": "stream",
          "name": "stdout",
          "text": [
            "{\n",
            "    \"TableList\": [\n",
            "        {\n",
            "            \"Name\": \"yellow_taxi_ny_983794\",\n",
            "            \"DatabaseName\": \"yellow_taxi_ny\",\n",
            "            \"Owner\": \"owner\",\n",
            "            \"CreateTime\": \"2022-01-08T02:23:52+00:00\",\n",
            "            \"UpdateTime\": \"2022-01-08T02:23:52+00:00\",\n",
            "            \"LastAccessTime\": \"2022-01-08T02:23:52+00:00\",\n",
            "            \"Retention\": 0,\n",
            "            \"StorageDescriptor\": {\n",
            "                \"Columns\": [\n",
            "                    {\n",
            "                        \"Name\": \"vendorid\",\n",
            "                        \"Type\": \"bigint\"\n",
            "                    },\n",
            "                    {\n",
            "                        \"Name\": \"tpep_pickup_datetime\",\n",
            "                        \"Type\": \"string\"\n",
            "                    },\n",
            "                    {\n",
            "                        \"Name\": \"tpep_dropoff_datetime\",\n",
            "                        \"Type\": \"string\"\n",
            "                    },\n",
            "                    {\n",
            "                        \"Name\": \"passenger_count\",\n",
            "                        \"Type\": \"bigint\"\n",
            "                    },\n",
            "                    {\n",
            "                        \"Name\": \"trip_distance\",\n",
            "                        \"Type\": \"double\"\n",
            "                    },\n",
            "                    {\n",
            "                        \"Name\": \"ratecodeid\",\n",
            "                        \"Type\": \"bigint\"\n",
            "                    },\n",
            "                    {\n",
            "                        \"Name\": \"store_and_fwd_flag\",\n",
            "                        \"Type\": \"string\"\n",
            "                    },\n",
            "                    {\n",
            "                        \"Name\": \"pulocationid\",\n",
            "                        \"Type\": \"bigint\"\n",
            "                    },\n",
            "                    {\n",
            "                        \"Name\": \"dolocationid\",\n",
            "                        \"Type\": \"bigint\"\n",
            "                    },\n",
            "                    {\n",
            "                        \"Name\": \"payment_type\",\n",
            "                        \"Type\": \"bigint\"\n",
            "                    },\n",
            "                    {\n",
            "                        \"Name\": \"fare_amount\",\n",
            "                        \"Type\": \"double\"\n",
            "                    },\n",
            "                    {\n",
            "                        \"Name\": \"extra\",\n",
            "                        \"Type\": \"double\"\n",
            "                    },\n",
            "                    {\n",
            "                        \"Name\": \"mta_tax\",\n",
            "                        \"Type\": \"double\"\n",
            "                    },\n",
            "                    {\n",
            "                        \"Name\": \"tip_amount\",\n",
            "                        \"Type\": \"double\"\n",
            "                    },\n",
            "                    {\n",
            "                        \"Name\": \"tolls_amount\",\n",
            "                        \"Type\": \"double\"\n",
            "                    },\n",
            "                    {\n",
            "                        \"Name\": \"improvement_surcharge\",\n",
            "                        \"Type\": \"double\"\n",
            "                    },\n",
            "                    {\n",
            "                        \"Name\": \"total_amount\",\n",
            "                        \"Type\": \"double\"\n",
            "                    },\n",
            "                    {\n",
            "                        \"Name\": \"congestion_surcharge\",\n",
            "                        \"Type\": \"double\"\n",
            "                    }\n",
            "                ],\n",
            "                \"Location\": \"s3://yellow-taxi-ny-983794/\",\n",
            "                \"InputFormat\": \"org.apache.hadoop.mapred.TextInputFormat\",\n",
            "                \"OutputFormat\": \"org.apache.hadoop.hive.ql.io.HiveIgnoreKeyTextOutputFormat\",\n",
            "                \"Compressed\": false,\n",
            "                \"NumberOfBuckets\": -1,\n",
            "                \"SerdeInfo\": {\n",
            "                    \"SerializationLibrary\": \"org.apache.hadoop.hive.serde2.lazy.LazySimpleSerDe\",\n",
            "                    \"Parameters\": {\n",
            "                        \"field.delim\": \",\"\n",
            "                    }\n",
            "                },\n",
            "                \"BucketColumns\": [],\n",
            "                \"SortColumns\": [],\n",
            "                \"Parameters\": {\n",
            "                    \"CrawlerSchemaDeserializerVersion\": \"1.0\",\n",
            "                    \"CrawlerSchemaSerializerVersion\": \"1.0\",\n",
            "                    \"UPDATED_BY_CRAWLER\": \"yellow_taxi_ny_crawler\",\n",
            "                    \"areColumnsQuoted\": \"false\",\n",
            "                    \"averageRecordSize\": \"142\",\n",
            "                    \"classification\": \"csv\",\n",
            "                    \"columnsOrdered\": \"true\",\n",
            "                    \"compressionType\": \"none\",\n",
            "                    \"delimiter\": \",\",\n",
            "                    \"objectCount\": \"2\",\n",
            "                    \"recordCount\": \"887192\",\n",
            "                    \"sizeKey\": \"125981363\",\n",
            "                    \"skip.header.line.count\": \"1\",\n",
            "                    \"typeOfData\": \"file\"\n",
            "                },\n",
            "                \"StoredAsSubDirectories\": false\n",
            "            },\n",
            "            \"PartitionKeys\": [],\n",
            "            \"TableType\": \"EXTERNAL_TABLE\",\n",
            "            \"Parameters\": {\n",
            "                \"CrawlerSchemaDeserializerVersion\": \"1.0\",\n",
            "                \"CrawlerSchemaSerializerVersion\": \"1.0\",\n",
            "                \"UPDATED_BY_CRAWLER\": \"yellow_taxi_ny_crawler\",\n",
            "                \"areColumnsQuoted\": \"false\",\n",
            "                \"averageRecordSize\": \"142\",\n",
            "                \"classification\": \"csv\",\n",
            "                \"columnsOrdered\": \"true\",\n",
            "                \"compressionType\": \"none\",\n",
            "                \"delimiter\": \",\",\n",
            "                \"objectCount\": \"2\",\n",
            "                \"recordCount\": \"887192\",\n",
            "                \"sizeKey\": \"125981363\",\n",
            "                \"skip.header.line.count\": \"1\",\n",
            "                \"typeOfData\": \"file\"\n",
            "            },\n",
            "            \"CreatedBy\": \"arn:aws:sts::736682772784:assumed-role/yellow_taxi_nydb_role/AWS-Crawler\",\n",
            "            \"IsRegisteredWithLakeFormation\": false,\n",
            "            \"CatalogId\": \"736682772784\"\n",
            "        }\n",
            "    ]\n",
            "}\n"
          ]
        }
      ]
    },
    {
      "cell_type": "code",
      "source": [
        "%%bash\n",
        "query_execution_id=$(jq .QueryExecutionId <<< $(aws athena start-query-execution --work-group my_workgroup --query-string \"SELECT * FROM yellow_taxi_ny.yellow_taxi_ny_983794 limit 100;\"))\n",
        "echo $query_execution_id"
      ],
      "metadata": {
        "colab": {
          "base_uri": "https://localhost:8080/"
        },
        "id": "TX5U3BCpEFyp",
        "outputId": "1499e773-5589-4272-a396-bb15730fd2b1"
      },
      "execution_count": 61,
      "outputs": [
        {
          "output_type": "stream",
          "name": "stdout",
          "text": [
            "\"d2736a78-5fa5-4372-bf17-2b579dfdfaec\"\n"
          ]
        }
      ]
    },
    {
      "cell_type": "code",
      "source": [
        "%%bash\n",
        "query_execution_json=$(aws athena get-query-execution --query-execution-id d2736a78-5fa5-4372-bf17-2b579dfdfaec)\n",
        "jq .QueryExecution.Status <<< $query_execution_json"
      ],
      "metadata": {
        "colab": {
          "base_uri": "https://localhost:8080/"
        },
        "id": "9dUPa36Nlj_k",
        "outputId": "57e57a01-2200-42f9-efe1-550bd89fb5ea"
      },
      "execution_count": 71,
      "outputs": [
        {
          "output_type": "stream",
          "name": "stdout",
          "text": [
            "{\n",
            "  \"State\": \"SUCCEEDED\",\n",
            "  \"SubmissionDateTime\": \"2022-01-08T02:45:25.521000+00:00\",\n",
            "  \"CompletionDateTime\": \"2022-01-08T02:45:26.265000+00:00\"\n",
            "}\n"
          ]
        }
      ]
    },
    {
      "cell_type": "code",
      "source": [
        "#!aws athena get-query-results --query-execution-id c561bb4d-d75c-4586-8e9b-e3cd9347bcf3\n",
        "%%bash\n",
        "aws s3 mv s3://yellow-taxi-ny-983794-workgroup-query-results/output/d2736a78-5fa5-4372-bf17-2b579dfdfaec.csv /content/results.csv\n",
        "cat /content/results.csv"
      ],
      "metadata": {
        "colab": {
          "base_uri": "https://localhost:8080/"
        },
        "id": "h1VpgpnXNcjY",
        "outputId": "2232d60a-f112-46e0-93dc-3a1463e838e7"
      },
      "execution_count": 63,
      "outputs": [
        {
          "output_type": "stream",
          "name": "stdout",
          "text": [
            "Completed 13.2 KiB/13.2 KiB (51.6 KiB/s) with 1 file(s) remaining\rmove: s3://yellow-taxi-ny-983794-workgroup-query-results/output/d2736a78-5fa5-4372-bf17-2b579dfdfaec.csv to ../results.csv\n",
            "\"vendorid\",\"tpep_pickup_datetime\",\"tpep_dropoff_datetime\",\"passenger_count\",\"trip_distance\",\"ratecodeid\",\"store_and_fwd_flag\",\"pulocationid\",\"dolocationid\",\"payment_type\",\"fare_amount\",\"extra\",\"mta_tax\",\"tip_amount\",\"tolls_amount\",\"improvement_surcharge\",\"total_amount\",\"congestion_surcharge\"\n",
            "\"2\",\"2021-01-10 19:05:32\",\"2021-01-10 19:14:31\",\"2\",\"2.05\",\"1\",\"N\",\"161\",\"246\",\"1\",\"9.0\",\"0.0\",\"0.5\",\"3.69\",\"0.0\",\"0.3\",\"15.99\",\"2.5\"\n",
            "\"2\",\"2021-01-10 19:03:03\",\"2021-01-10 19:08:49\",\"1\",\"1.03\",\"1\",\"N\",\"237\",\"262\",\"1\",\"6.0\",\"0.0\",\"0.5\",\"1.0\",\"0.0\",\"0.3\",\"10.3\",\"2.5\"\n",
            "\"2\",\"2021-01-10 19:17:12\",\"2021-01-10 19:29:53\",\"1\",\"2.78\",\"1\",\"N\",\"236\",\"166\",\"1\",\"11.5\",\"0.0\",\"0.5\",\"2.96\",\"0.0\",\"0.3\",\"17.76\",\"2.5\"\n",
            "\"2\",\"2021-01-10 19:33:13\",\"2021-01-10 19:45:07\",\"1\",\"1.78\",\"1\",\"N\",\"166\",\"75\",\"2\",\"10.0\",\"0.0\",\"0.5\",\"0.0\",\"0.0\",\"0.3\",\"10.8\",\"0.0\"\n",
            "\"2\",\"2021-01-10 19:52:14\",\"2021-01-10 19:56:17\",\"1\",\"1.16\",\"1\",\"N\",\"263\",\"140\",\"1\",\"5.5\",\"0.0\",\"0.5\",\"1.76\",\"0.0\",\"0.3\",\"10.56\",\"2.5\"\n",
            "\"2\",\"2021-01-10 19:28:22\",\"2021-01-10 19:30:11\",\"5\",\"0.76\",\"1\",\"N\",\"75\",\"263\",\"1\",\"4.0\",\"0.0\",\"0.5\",\"0.7\",\"0.0\",\"0.3\",\"8.0\",\"2.5\"\n",
            "\"2\",\"2021-01-10 19:45:44\",\"2021-01-10 19:49:34\",\"5\",\"0.82\",\"1\",\"N\",\"164\",\"90\",\"1\",\"5.0\",\"0.0\",\"0.5\",\"1.66\",\"0.0\",\"0.3\",\"9.96\",\"2.5\"\n",
            "\"2\",\"2021-01-10 19:04:42\",\"2021-01-10 19:11:39\",\"1\",\"1.5\",\"1\",\"N\",\"237\",\"143\",\"1\",\"7.0\",\"0.0\",\"0.5\",\"1.03\",\"0.0\",\"0.3\",\"11.33\",\"2.5\"\n",
            "\"2\",\"2021-01-10 19:15:42\",\"2021-01-10 19:17:03\",\"1\",\"0.59\",\"1\",\"N\",\"48\",\"142\",\"1\",\"3.5\",\"0.0\",\"0.5\",\"1.36\",\"0.0\",\"0.3\",\"8.16\",\"2.5\"\n",
            "\"2\",\"2021-01-10 18:49:22\",\"2021-01-10 18:51:31\",\"1\",\"0.4\",\"1\",\"N\",\"262\",\"263\",\"2\",\"3.5\",\"0.0\",\"0.5\",\"0.0\",\"0.0\",\"0.3\",\"6.8\",\"2.5\"\n",
            "\"2\",\"2021-01-10 19:09:31\",\"2021-01-10 19:23:03\",\"1\",\"7.16\",\"1\",\"N\",\"237\",\"88\",\"1\",\"21.0\",\"0.0\",\"0.5\",\"1.0\",\"0.0\",\"0.3\",\"25.3\",\"2.5\"\n",
            "\"2\",\"2021-01-10 19:44:54\",\"2021-01-10 19:53:09\",\"1\",\"2.47\",\"1\",\"N\",\"170\",\"140\",\"1\",\"9.0\",\"0.0\",\"0.5\",\"3.08\",\"0.0\",\"0.3\",\"15.38\",\"2.5\"\n",
            "\"2\",\"2021-01-10 19:55:46\",\"2021-01-10 19:59:45\",\"1\",\"0.58\",\"1\",\"N\",\"164\",\"137\",\"1\",\"5.0\",\"0.0\",\"0.5\",\"1.66\",\"0.0\",\"0.3\",\"9.96\",\"2.5\"\n",
            "\"2\",\"2021-01-10 19:06:59\",\"2021-01-10 19:12:46\",\"1\",\"1.59\",\"1\",\"N\",\"237\",\"263\",\"1\",\"7.0\",\"0.0\",\"0.5\",\"2.06\",\"0.0\",\"0.3\",\"12.36\",\"2.5\"\n",
            "\"1\",\"2021-01-10 19:30:24\",\"2021-01-10 19:42:14\",\"1\",\"2.1\",\"1\",\"N\",\"186\",\"79\",\"1\",\"9.5\",\"3.5\",\"0.5\",\"2.75\",\"0.0\",\"0.3\",\"16.55\",\"2.5\"\n",
            "\"2\",\"2021-01-10 19:28:04\",\"2021-01-10 19:35:25\",\"5\",\"1.02\",\"1\",\"N\",\"246\",\"186\",\"2\",\"6.5\",\"0.0\",\"0.5\",\"0.0\",\"0.0\",\"0.3\",\"9.8\",\"2.5\"\n",
            "\"2\",\"2021-01-10 19:01:15\",\"2021-01-10 19:06:30\",\"1\",\"1.03\",\"1\",\"N\",\"211\",\"249\",\"1\",\"6.0\",\"0.0\",\"0.5\",\"1.86\",\"0.0\",\"0.3\",\"11.16\",\"2.5\"\n",
            "\"2\",\"2021-01-10 19:37:27\",\"2021-01-10 19:41:10\",\"1\",\"0.78\",\"1\",\"N\",\"249\",\"158\",\"1\",\"4.5\",\"0.0\",\"0.5\",\"1.95\",\"0.0\",\"0.3\",\"9.75\",\"2.5\"\n",
            "\"2\",\"2021-01-10 19:47:56\",\"2021-01-10 19:55:54\",\"1\",\"1.27\",\"1\",\"N\",\"186\",\"233\",\"1\",\"7.0\",\"0.0\",\"0.5\",\"1.0\",\"0.0\",\"0.3\",\"11.3\",\"2.5\"\n",
            "\"2\",\"2021-01-10 18:59:43\",\"2021-01-10 19:14:34\",\"2\",\"4.29\",\"1\",\"N\",\"88\",\"246\",\"2\",\"15.5\",\"0.0\",\"0.5\",\"0.0\",\"0.0\",\"0.3\",\"18.8\",\"2.5\"\n",
            "\"2\",\"2021-01-10 19:35:24\",\"2021-01-10 19:46:03\",\"1\",\"2.96\",\"1\",\"N\",\"170\",\"236\",\"1\",\"11.0\",\"0.0\",\"0.5\",\"2.86\",\"0.0\",\"0.3\",\"17.16\",\"2.5\"\n",
            "\"2\",\"2021-01-10 19:50:44\",\"2021-01-10 19:54:16\",\"1\",\"0.62\",\"1\",\"N\",\"237\",\"237\",\"1\",\"4.5\",\"0.0\",\"0.5\",\"1.95\",\"0.0\",\"0.3\",\"9.75\",\"2.5\"\n",
            "\"2\",\"2021-01-10 19:05:02\",\"2021-01-10 19:12:14\",\"5\",\"1.32\",\"1\",\"N\",\"163\",\"50\",\"2\",\"6.5\",\"0.0\",\"0.5\",\"0.0\",\"0.0\",\"0.3\",\"9.8\",\"2.5\"\n",
            "\"2\",\"2021-01-10 19:19:04\",\"2021-01-10 19:24:03\",\"5\",\"1.02\",\"1\",\"N\",\"246\",\"90\",\"1\",\"5.5\",\"0.0\",\"0.5\",\"1.5\",\"0.0\",\"0.3\",\"10.3\",\"2.5\"\n",
            "\"2\",\"2021-01-10 19:44:09\",\"2021-01-10 19:47:39\",\"5\",\"0.61\",\"1\",\"N\",\"230\",\"164\",\"2\",\"4.0\",\"0.0\",\"0.5\",\"0.0\",\"0.0\",\"0.3\",\"7.3\",\"2.5\"\n",
            "\"1\",\"2021-01-10 19:25:42\",\"2021-01-10 19:39:12\",\"1\",\"3.1\",\"1\",\"N\",\"239\",\"41\",\"1\",\"12.5\",\"2.5\",\"0.5\",\"3.15\",\"0.0\",\"0.3\",\"18.95\",\"2.5\"\n",
            "\"1\",\"2021-01-10 19:49:29\",\"2021-01-10 19:58:25\",\"1\",\"5.0\",\"1\",\"N\",\"238\",\"244\",\"1\",\"15.5\",\"2.5\",\"0.5\",\"5.6\",\"0.0\",\"0.3\",\"24.4\",\"2.5\"\n",
            "\"2\",\"2021-01-10 19:05:30\",\"2021-01-10 19:11:12\",\"1\",\"1.28\",\"1\",\"N\",\"263\",\"141\",\"1\",\"6.5\",\"0.0\",\"0.5\",\"1.2\",\"0.0\",\"0.3\",\"11.0\",\"2.5\"\n",
            "\"2\",\"2021-01-10 19:53:42\",\"2021-01-10 20:00:58\",\"1\",\"1.44\",\"1\",\"N\",\"75\",\"140\",\"1\",\"7.5\",\"0.0\",\"0.5\",\"2.16\",\"0.0\",\"0.3\",\"12.96\",\"2.5\"\n",
            "\"2\",\"2021-01-10 19:15:30\",\"2021-01-10 19:16:41\",\"2\",\"0.36\",\"1\",\"N\",\"263\",\"262\",\"1\",\"3.0\",\"0.0\",\"0.5\",\"1.0\",\"0.0\",\"0.3\",\"7.3\",\"2.5\"\n",
            "\"2\",\"2021-01-10 19:31:13\",\"2021-01-10 19:45:40\",\"2\",\"3.92\",\"1\",\"N\",\"236\",\"107\",\"2\",\"14.5\",\"0.0\",\"0.5\",\"0.0\",\"0.0\",\"0.3\",\"17.8\",\"2.5\"\n",
            "\"2\",\"2021-01-10 19:00:12\",\"2021-01-10 19:08:24\",\"1\",\"1.72\",\"1\",\"N\",\"48\",\"68\",\"1\",\"8.0\",\"0.0\",\"0.5\",\"3.0\",\"0.0\",\"0.3\",\"14.3\",\"2.5\"\n",
            "\"2\",\"2021-01-10 19:42:15\",\"2021-01-10 19:47:26\",\"1\",\"1.45\",\"1\",\"N\",\"239\",\"151\",\"1\",\"6.5\",\"0.0\",\"0.5\",\"1.47\",\"0.0\",\"0.3\",\"11.27\",\"2.5\"\n",
            "\"2\",\"2021-01-10 19:55:50\",\"2021-01-10 20:01:00\",\"1\",\"0.93\",\"1\",\"N\",\"238\",\"24\",\"1\",\"6.0\",\"0.0\",\"0.5\",\"2.79\",\"0.0\",\"0.3\",\"12.09\",\"2.5\"\n",
            "\"2\",\"2021-01-10 19:41:29\",\"2021-01-10 19:50:46\",\"3\",\"2.51\",\"1\",\"N\",\"70\",\"173\",\"1\",\"10.5\",\"0.0\",\"0.5\",\"2.26\",\"0.0\",\"0.3\",\"13.56\",\"0.0\"\n",
            "\"2\",\"2021-01-10 19:42:24\",\"2021-01-10 19:54:52\",\"6\",\"1.74\",\"1\",\"N\",\"186\",\"233\",\"1\",\"9.5\",\"0.0\",\"0.5\",\"2.56\",\"0.0\",\"0.3\",\"15.36\",\"2.5\"\n",
            "\"2\",\"2021-01-10 19:09:37\",\"2021-01-10 19:37:42\",\"1\",\"17.6\",\"2\",\"N\",\"132\",\"79\",\"1\",\"52.0\",\"0.0\",\"0.5\",\"11.78\",\"6.12\",\"0.3\",\"70.7\",\"0.0\"\n",
            "\"2\",\"2021-01-10 19:43:25\",\"2021-01-10 19:47:33\",\"1\",\"0.77\",\"1\",\"N\",\"137\",\"170\",\"2\",\"5.0\",\"0.0\",\"0.5\",\"0.0\",\"0.0\",\"0.3\",\"8.3\",\"2.5\"\n",
            "\"2\",\"2021-01-10 19:52:51\",\"2021-01-10 19:54:57\",\"1\",\"0.68\",\"1\",\"N\",\"237\",\"141\",\"2\",\"4.0\",\"0.0\",\"0.5\",\"0.0\",\"0.0\",\"0.3\",\"7.3\",\"2.5\"\n",
            "\"2\",\"2021-01-10 19:38:48\",\"2021-01-10 19:43:20\",\"1\",\"1.13\",\"1\",\"N\",\"162\",\"137\",\"1\",\"5.5\",\"0.0\",\"0.5\",\"1.76\",\"0.0\",\"0.3\",\"10.56\",\"2.5\"\n",
            "\"1\",\"2021-01-10 19:29:46\",\"2021-01-10 19:44:15\",\"1\",\"3.6\",\"1\",\"N\",\"82\",\"179\",\"1\",\"14.0\",\"0.0\",\"0.5\",\"2.95\",\"0.0\",\"0.3\",\"17.75\",\"0.0\"\n",
            "\"2\",\"2021-01-10 19:40:16\",\"2021-01-10 19:52:40\",\"2\",\"3.26\",\"1\",\"N\",\"186\",\"140\",\"1\",\"12.0\",\"0.0\",\"0.5\",\"3.83\",\"0.0\",\"0.3\",\"19.13\",\"2.5\"\n",
            "\"2\",\"2021-01-10 19:15:00\",\"2021-01-10 19:32:00\",\"1\",\"3.77\",\"1\",\"N\",\"239\",\"249\",\"2\",\"14.5\",\"0.0\",\"0.5\",\"0.0\",\"0.0\",\"0.3\",\"17.8\",\"2.5\"\n",
            "\"2\",\"2021-01-10 19:01:06\",\"2021-01-10 19:08:10\",\"5\",\"1.89\",\"1\",\"N\",\"238\",\"48\",\"2\",\"8.0\",\"0.0\",\"0.5\",\"0.0\",\"0.0\",\"0.3\",\"11.3\",\"2.5\"\n",
            "\"2\",\"2021-01-10 19:25:01\",\"2021-01-10 19:27:28\",\"4\",\"0.8\",\"1\",\"N\",\"238\",\"142\",\"1\",\"4.5\",\"0.0\",\"0.5\",\"1.56\",\"0.0\",\"0.3\",\"9.36\",\"2.5\"\n",
            "\"2\",\"2021-01-10 19:30:57\",\"2021-01-10 19:35:36\",\"5\",\"1.42\",\"1\",\"N\",\"142\",\"151\",\"1\",\"6.0\",\"0.0\",\"0.5\",\"0.0\",\"0.0\",\"0.3\",\"9.3\",\"2.5\"\n",
            "\"2\",\"2021-01-10 19:10:29\",\"2021-01-10 19:18:57\",\"1\",\"2.88\",\"1\",\"N\",\"194\",\"74\",\"1\",\"10.0\",\"0.0\",\"0.5\",\"0.09\",\"6.12\",\"0.3\",\"17.01\",\"0.0\"\n",
            "\"2\",\"2021-01-10 19:04:20\",\"2021-01-10 19:19:07\",\"3\",\"6.54\",\"1\",\"N\",\"70\",\"145\",\"1\",\"20.0\",\"0.0\",\"0.5\",\"6.24\",\"0.0\",\"0.3\",\"27.04\",\"0.0\"\n",
            "\"2\",\"2021-01-10 19:53:38\",\"2021-01-10 20:11:53\",\"3\",\"5.36\",\"1\",\"N\",\"68\",\"41\",\"1\",\"18.5\",\"0.0\",\"0.5\",\"0.0\",\"0.0\",\"0.3\",\"21.8\",\"2.5\"\n",
            "\"1\",\"2021-01-10 19:13:20\",\"2021-01-10 19:20:19\",\"1\",\"1.3\",\"1\",\"N\",\"79\",\"164\",\"1\",\"7.0\",\"2.5\",\"0.5\",\"1.0\",\"0.0\",\"0.3\",\"11.3\",\"2.5\"\n",
            "\"1\",\"2021-01-10 19:31:21\",\"2021-01-10 19:35:19\",\"1\",\"0.4\",\"1\",\"N\",\"163\",\"142\",\"1\",\"4.5\",\"2.5\",\"0.5\",\"1.5\",\"0.0\",\"0.3\",\"9.3\",\"2.5\"\n",
            "\"2\",\"2021-01-10 19:39:05\",\"2021-01-10 19:45:50\",\"1\",\"1.73\",\"1\",\"N\",\"162\",\"141\",\"1\",\"7.5\",\"0.0\",\"0.5\",\"2.16\",\"0.0\",\"0.3\",\"12.96\",\"2.5\"\n",
            "\"2\",\"2021-01-10 19:48:25\",\"2021-01-10 19:54:42\",\"1\",\"1.28\",\"1\",\"N\",\"141\",\"163\",\"1\",\"6.5\",\"0.0\",\"0.5\",\"1.96\",\"0.0\",\"0.3\",\"11.76\",\"2.5\"\n",
            "\"2\",\"2021-01-10 20:04:30\",\"2021-01-10 20:32:59\",\"1\",\"16.14\",\"1\",\"N\",\"132\",\"146\",\"2\",\"44.5\",\"0.0\",\"0.5\",\"0.0\",\"0.0\",\"0.3\",\"45.3\",\"0.0\"\n",
            "\"1\",\"2021-01-10 19:07:52\",\"2021-01-10 19:25:53\",\"1\",\"3.4\",\"1\",\"N\",\"48\",\"79\",\"1\",\"14.0\",\"2.5\",\"0.5\",\"3.0\",\"0.0\",\"0.3\",\"20.3\",\"2.5\"\n",
            "\"1\",\"2021-01-10 19:34:11\",\"2021-01-10 19:47:08\",\"2\",\"2.7\",\"1\",\"N\",\"148\",\"68\",\"1\",\"11.0\",\"2.5\",\"0.5\",\"2.15\",\"0.0\",\"0.3\",\"16.45\",\"2.5\"\n",
            "\"1\",\"2021-01-10 19:15:09\",\"2021-01-10 19:28:45\",\"3\",\"3.2\",\"1\",\"N\",\"239\",\"170\",\"1\",\"12.5\",\"2.5\",\"0.5\",\"3.16\",\"0.0\",\"0.3\",\"18.96\",\"2.5\"\n",
            "\"1\",\"2021-01-10 19:30:06\",\"2021-01-10 19:45:49\",\"1\",\"2.9\",\"1\",\"N\",\"170\",\"143\",\"1\",\"13.0\",\"2.5\",\"0.5\",\"1.0\",\"0.0\",\"0.3\",\"17.3\",\"2.5\"\n",
            "\"1\",\"2021-01-10 19:47:26\",\"2021-01-10 20:00:24\",\"2\",\"2.7\",\"1\",\"Y\",\"143\",\"262\",\"1\",\"11.5\",\"2.5\",\"0.5\",\"2.0\",\"0.0\",\"0.3\",\"16.8\",\"2.5\"\n",
            "\"2\",\"2021-01-10 19:06:46\",\"2021-01-10 19:27:03\",\"1\",\"7.1\",\"1\",\"N\",\"70\",\"198\",\"2\",\"22.0\",\"0.0\",\"0.5\",\"0.0\",\"0.0\",\"0.3\",\"22.8\",\"0.0\"\n",
            "\"2\",\"2021-01-10 19:52:04\",\"2021-01-10 19:59:20\",\"1\",\"1.88\",\"1\",\"N\",\"237\",\"75\",\"2\",\"8.0\",\"0.0\",\"0.5\",\"0.0\",\"0.0\",\"0.3\",\"11.3\",\"2.5\"\n",
            "\"1\",\"2021-01-10 19:05:00\",\"2021-01-10 19:20:49\",\"2\",\"6.5\",\"1\",\"N\",\"75\",\"235\",\"2\",\"20.0\",\"0.0\",\"0.5\",\"0.0\",\"0.0\",\"0.3\",\"20.8\",\"0.0\"\n",
            "\"2\",\"2021-01-10 19:16:27\",\"2021-01-10 19:25:25\",\"1\",\"2.05\",\"1\",\"N\",\"141\",\"239\",\"1\",\"9.0\",\"0.0\",\"0.5\",\"3.08\",\"0.0\",\"0.3\",\"15.38\",\"2.5\"\n",
            "\"2\",\"2021-01-10 19:25:24\",\"2021-01-10 19:29:12\",\"1\",\"0.53\",\"1\",\"N\",\"140\",\"140\",\"1\",\"4.5\",\"0.0\",\"0.5\",\"1.95\",\"0.0\",\"0.3\",\"9.75\",\"2.5\"\n",
            "\"2\",\"2021-01-10 19:35:25\",\"2021-01-10 19:44:38\",\"1\",\"3.24\",\"1\",\"N\",\"140\",\"224\",\"1\",\"11.5\",\"0.0\",\"0.5\",\"2.96\",\"0.0\",\"0.3\",\"17.76\",\"2.5\"\n",
            "\"1\",\"2021-01-10 19:03:59\",\"2021-01-10 19:11:31\",\"2\",\"1.2\",\"1\",\"N\",\"238\",\"236\",\"1\",\"7.0\",\"2.5\",\"0.5\",\"2.05\",\"0.0\",\"0.3\",\"12.35\",\"2.5\"\n",
            "\"1\",\"2021-01-10 19:47:33\",\"2021-01-10 19:54:17\",\"1\",\"2.2\",\"1\",\"Y\",\"137\",\"140\",\"1\",\"8.0\",\"2.5\",\"0.5\",\"2.25\",\"0.0\",\"0.3\",\"13.55\",\"2.5\"\n",
            "\"2\",\"2021-01-10 19:23:52\",\"2021-01-10 19:26:54\",\"1\",\"0.67\",\"1\",\"N\",\"164\",\"170\",\"2\",\"4.5\",\"0.0\",\"0.5\",\"0.0\",\"0.0\",\"0.3\",\"7.8\",\"2.5\"\n",
            "\"1\",\"2021-01-10 19:04:34\",\"2021-01-10 19:07:07\",\"1\",\"0.5\",\"1\",\"N\",\"141\",\"262\",\"1\",\"4.0\",\"2.5\",\"0.5\",\"1.45\",\"0.0\",\"0.3\",\"8.75\",\"2.5\"\n",
            "\"1\",\"2021-01-10 19:11:18\",\"2021-01-10 19:31:20\",\"1\",\"4.7\",\"1\",\"Y\",\"262\",\"7\",\"2\",\"17.5\",\"2.5\",\"0.5\",\"0.0\",\"0.0\",\"0.3\",\"20.8\",\"2.5\"\n",
            "\"2\",\"2021-01-10 19:50:09\",\"2021-01-10 19:59:19\",\"1\",\"3.12\",\"1\",\"N\",\"68\",\"239\",\"1\",\"11.5\",\"0.0\",\"0.5\",\"2.96\",\"0.0\",\"0.3\",\"17.76\",\"2.5\"\n",
            "\"2\",\"2021-01-10 19:39:17\",\"2021-01-10 19:42:20\",\"1\",\"0.91\",\"1\",\"N\",\"236\",\"239\",\"1\",\"5.0\",\"0.0\",\"0.5\",\"1.0\",\"0.0\",\"0.3\",\"9.3\",\"2.5\"\n",
            "\"2\",\"2021-01-10 19:44:26\",\"2021-01-10 19:47:18\",\"1\",\"1.06\",\"1\",\"N\",\"239\",\"43\",\"1\",\"5.0\",\"0.0\",\"0.5\",\"1.66\",\"0.0\",\"0.3\",\"9.96\",\"2.5\"\n",
            "\"2\",\"2021-01-10 19:30:25\",\"2021-01-10 19:42:23\",\"1\",\"3.8\",\"1\",\"N\",\"249\",\"229\",\"2\",\"12.5\",\"0.0\",\"0.5\",\"0.0\",\"0.0\",\"0.3\",\"15.8\",\"2.5\"\n",
            "\"2\",\"2021-01-10 19:44:47\",\"2021-01-10 19:46:31\",\"1\",\"0.7\",\"1\",\"N\",\"229\",\"140\",\"2\",\"4.0\",\"0.0\",\"0.5\",\"0.0\",\"0.0\",\"0.3\",\"7.3\",\"2.5\"\n",
            "\"2\",\"2021-01-10 19:54:23\",\"2021-01-10 19:57:49\",\"1\",\"0.6\",\"1\",\"N\",\"263\",\"236\",\"2\",\"4.5\",\"0.0\",\"0.5\",\"0.0\",\"0.0\",\"0.3\",\"7.8\",\"2.5\"\n",
            "\"1\",\"2021-01-10 19:50:35\",\"2021-01-10 20:04:38\",\"2\",\"10.3\",\"1\",\"N\",\"138\",\"145\",\"1\",\"28.5\",\"1.0\",\"0.5\",\"6.05\",\"0.0\",\"0.3\",\"36.35\",\"0.0\"\n",
            "\"2\",\"2021-01-10 19:14:31\",\"2021-01-10 19:24:14\",\"1\",\"2.04\",\"1\",\"N\",\"161\",\"238\",\"1\",\"9.5\",\"0.0\",\"0.5\",\"0.0\",\"0.0\",\"0.3\",\"12.8\",\"2.5\"\n",
            "\"2\",\"2021-01-10 19:38:48\",\"2021-01-10 19:46:10\",\"1\",\"0.96\",\"1\",\"N\",\"239\",\"142\",\"1\",\"6.5\",\"0.0\",\"0.5\",\"1.96\",\"0.0\",\"0.3\",\"11.76\",\"2.5\"\n",
            "\"1\",\"2021-01-10 19:09:57\",\"2021-01-10 19:17:09\",\"1\",\"1.6\",\"1\",\"N\",\"264\",\"264\",\"1\",\"7.5\",\"0.0\",\"0.5\",\"1.65\",\"0.0\",\"0.3\",\"9.95\",\"0.0\"\n",
            "\"1\",\"2021-01-10 19:39:00\",\"2021-01-10 19:44:14\",\"2\",\"1.4\",\"1\",\"N\",\"125\",\"234\",\"1\",\"6.5\",\"2.5\",\"0.5\",\"2.45\",\"0.0\",\"0.3\",\"12.25\",\"2.5\"\n",
            "\"1\",\"2021-01-10 19:59:12\",\"2021-01-10 20:09:57\",\"2\",\"2.5\",\"1\",\"N\",\"100\",\"141\",\"1\",\"10.5\",\"3.0\",\"0.5\",\"2.0\",\"0.0\",\"0.3\",\"16.3\",\"2.5\"\n",
            "\"2\",\"2021-01-10 19:00:37\",\"2021-01-10 19:14:57\",\"1\",\"3.78\",\"1\",\"N\",\"100\",\"151\",\"1\",\"14.0\",\"0.0\",\"0.5\",\"5.0\",\"0.0\",\"0.3\",\"22.3\",\"2.5\"\n",
            "\"2\",\"2021-01-10 19:48:41\",\"2021-01-10 20:01:11\",\"1\",\"2.99\",\"1\",\"N\",\"90\",\"87\",\"1\",\"11.0\",\"0.0\",\"0.5\",\"2.0\",\"0.0\",\"0.3\",\"16.3\",\"2.5\"\n",
            "\"2\",\"2021-01-10 19:26:57\",\"2021-01-10 19:29:09\",\"1\",\"0.57\",\"1\",\"N\",\"68\",\"48\",\"1\",\"4.0\",\"0.0\",\"0.5\",\"0.02\",\"0.0\",\"0.3\",\"7.32\",\"2.5\"\n",
            "\"2\",\"2021-01-10 19:31:10\",\"2021-01-10 19:33:28\",\"1\",\"0.6\",\"1\",\"N\",\"48\",\"48\",\"1\",\"4.0\",\"0.0\",\"0.5\",\"1.46\",\"0.0\",\"0.3\",\"8.76\",\"2.5\"\n",
            "\"2\",\"2021-01-10 19:39:41\",\"2021-01-10 19:49:43\",\"1\",\"2.97\",\"1\",\"N\",\"43\",\"246\",\"2\",\"10.5\",\"0.0\",\"0.5\",\"0.0\",\"0.0\",\"0.3\",\"13.8\",\"2.5\"\n",
            "\"2\",\"2021-01-10 19:39:41\",\"2021-01-10 19:50:31\",\"1\",\"0.0\",\"5\",\"N\",\"43\",\"246\",\"1\",\"13.8\",\"0.0\",\"0.0\",\"4.08\",\"0.0\",\"0.0\",\"20.38\",\"2.5\"\n",
            "\"2\",\"2021-01-10 19:53:25\",\"2021-01-10 19:56:34\",\"1\",\"0.81\",\"1\",\"N\",\"68\",\"50\",\"1\",\"4.5\",\"0.0\",\"0.5\",\"1.56\",\"0.0\",\"0.3\",\"9.36\",\"2.5\"\n",
            "\"2\",\"2021-01-10 19:32:42\",\"2021-01-10 19:35:06\",\"1\",\"0.55\",\"1\",\"N\",\"106\",\"181\",\"1\",\"4.0\",\"0.0\",\"0.5\",\"1.44\",\"0.0\",\"0.3\",\"6.24\",\"0.0\"\n",
            "\"2\",\"2021-01-10 19:10:34\",\"2021-01-10 19:25:12\",\"2\",\"2.78\",\"1\",\"N\",\"137\",\"48\",\"1\",\"12.5\",\"0.0\",\"0.5\",\"3.16\",\"0.0\",\"0.3\",\"18.96\",\"2.5\"\n",
            "\"2\",\"2021-01-10 19:36:19\",\"2021-01-10 19:38:44\",\"2\",\"0.71\",\"1\",\"N\",\"68\",\"48\",\"1\",\"4.0\",\"0.0\",\"0.5\",\"1.46\",\"0.0\",\"0.3\",\"8.76\",\"2.5\"\n",
            "\"2\",\"2021-01-10 19:50:20\",\"2021-01-10 19:57:29\",\"1\",\"2.17\",\"1\",\"N\",\"256\",\"144\",\"1\",\"9.0\",\"0.0\",\"0.5\",\"2.0\",\"0.0\",\"0.3\",\"14.3\",\"2.5\"\n",
            "\"2\",\"2021-01-10 19:59:30\",\"2021-01-10 20:09:28\",\"1\",\"2.62\",\"1\",\"N\",\"144\",\"256\",\"1\",\"11.0\",\"0.0\",\"0.5\",\"2.86\",\"0.0\",\"0.3\",\"17.16\",\"2.5\"\n",
            "\"2\",\"2021-01-10 19:30:33\",\"2021-01-10 19:48:12\",\"2\",\"3.94\",\"1\",\"N\",\"239\",\"116\",\"2\",\"15.0\",\"0.0\",\"0.5\",\"0.0\",\"0.0\",\"0.3\",\"18.3\",\"2.5\"\n",
            "\"1\",\"2021-01-10 19:14:48\",\"2021-01-10 19:14:51\",\"1\",\"0.0\",\"1\",\"N\",\"132\",\"132\",\"2\",\"2.5\",\"0.0\",\"0.5\",\"0.0\",\"0.0\",\"0.3\",\"3.3\",\"0.0\"\n",
            "\"1\",\"2021-01-10 19:15:28\",\"2021-01-10 19:50:37\",\"1\",\"17.7\",\"2\",\"N\",\"132\",\"239\",\"1\",\"52.0\",\"2.5\",\"0.5\",\"20.0\",\"0.0\",\"0.3\",\"75.3\",\"2.5\"\n",
            "\"2\",\"2021-01-10 19:03:34\",\"2021-01-10 19:14:15\",\"1\",\"2.7\",\"1\",\"N\",\"144\",\"256\",\"1\",\"11.0\",\"0.0\",\"0.5\",\"2.14\",\"0.0\",\"0.3\",\"16.44\",\"2.5\"\n",
            "\"2\",\"2021-01-10 19:58:20\",\"2021-01-10 20:10:06\",\"1\",\"3.44\",\"1\",\"N\",\"186\",\"45\",\"1\",\"11.5\",\"0.0\",\"0.5\",\"2.0\",\"0.0\",\"0.3\",\"16.8\",\"2.5\"\n",
            "\"2\",\"2021-01-10 19:31:21\",\"2021-01-10 19:34:53\",\"1\",\"1.01\",\"1\",\"N\",\"137\",\"107\",\"2\",\"5.0\",\"0.0\",\"0.5\",\"0.0\",\"0.0\",\"0.3\",\"8.3\",\"2.5\"\n"
          ]
        }
      ]
    },
    {
      "cell_type": "code",
      "source": [
        ""
      ],
      "metadata": {
        "id": "udWaP6eXhidT"
      },
      "execution_count": null,
      "outputs": []
    }
  ]
}