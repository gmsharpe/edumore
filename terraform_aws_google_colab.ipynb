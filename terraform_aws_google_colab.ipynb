{
  "nbformat": 4,
  "nbformat_minor": 0,
  "metadata": {
    "colab": {
      "name": "terraform_aws_google_colab.ipynb",
      "provenance": [],
      "authorship_tag": "ABX9TyMrtNi6cmAFdJnUNtjmsYZC",
      "include_colab_link": true
    },
    "kernelspec": {
      "name": "python3",
      "display_name": "Python 3"
    },
    "language_info": {
      "name": "python"
    }
  },
  "cells": [
    {
      "cell_type": "markdown",
      "metadata": {
        "id": "view-in-github",
        "colab_type": "text"
      },
      "source": [
        "<a href=\"https://colab.research.google.com/github/gmsharpe/edumore/blob/master/terraform_aws_google_colab.ipynb\" target=\"_parent\"><img src=\"https://colab.research.google.com/assets/colab-badge.svg\" alt=\"Open In Colab\"/></a>"
      ]
    },
    {
      "cell_type": "markdown",
      "source": [
        "# Terraform, AWS Athena & Google Colab\n",
        "\n",
        "## Download and Install Terraform"
      ],
      "metadata": {
        "id": "I7Fm8yNYa4XZ"
      }
    },
    {
      "cell_type": "code",
      "execution_count": null,
      "metadata": {
        "id": "O_LFdsKDuh0n"
      },
      "outputs": [],
      "source": [
        "%%bash\n",
        "# instructions from https://learn.hashicorp.com/tutorials/terraform/install-cli?in=terraform/aws-get-started\n",
        "sudo apt-get update && sudo apt-get install -y gnupg software-properties-common curl\n",
        "curl -fsSL https://apt.releases.hashicorp.com/gpg | sudo apt-key add -\n",
        "sudo apt-add-repository \"deb [arch=amd64] https://apt.releases.hashicorp.com $(lsb_release -cs) main\"\n",
        "sudo apt-get update && sudo apt-get install terraform"
      ]
    },
    {
      "cell_type": "markdown",
      "source": [
        "## Download and Install the AWS CLI"
      ],
      "metadata": {
        "id": "Ws80iCC3Q5Ek"
      }
    },
    {
      "cell_type": "code",
      "source": [
        "%%bash\n",
        "\n",
        "# download the installation file\n",
        "curl \"https://awscli.amazonaws.com/awscli-exe-linux-x86_64.zip\" -o \"awscliv2.zip\"\n",
        "\n",
        "unzip -q awscliv2.zip\n",
        "\n",
        "sudo ./aws/install\n"
      ],
      "metadata": {
        "colab": {
          "base_uri": "https://localhost:8080/"
        },
        "id": "Rfd1GgRGwY1C",
        "outputId": "e27b5014-3e89-49b2-c96b-c57e6dbd69a2"
      },
      "execution_count": null,
      "outputs": [
        {
          "output_type": "stream",
          "name": "stdout",
          "text": [
            "You can now run: /usr/local/bin/aws --version\n"
          ]
        },
        {
          "output_type": "stream",
          "name": "stderr",
          "text": [
            "  % Total    % Received % Xferd  Average Speed   Time    Time     Time  Current\n",
            "                                 Dload  Upload   Total   Spent    Left  Speed\n",
            "\r  0     0    0     0    0     0      0      0 --:--:-- --:--:-- --:--:--     0\r 34 43.4M   34 15.0M    0     0  19.8M      0  0:00:02 --:--:--  0:00:02 19.8M\r 91 43.4M   91 39.7M    0     0  22.6M      0  0:00:01  0:00:01 --:--:-- 22.6M\r100 43.4M  100 43.4M    0     0  23.1M      0  0:00:01  0:00:01 --:--:-- 23.0M\n"
          ]
        }
      ]
    },
    {
      "cell_type": "markdown",
      "source": [
        "\n",
        "## Verify the Installation of the AWS CLI"
      ],
      "metadata": {
        "id": "TUGgCi1Yxvfm"
      }
    },
    {
      "cell_type": "code",
      "source": [
        "%%bash\n",
        "aws -version"
      ],
      "metadata": {
        "colab": {
          "base_uri": "https://localhost:8080/"
        },
        "id": "gC7LDeCVxUYu",
        "outputId": "cd07de88-4608-4e9c-ff90-2acae6a2d542"
      },
      "execution_count": null,
      "outputs": [
        {
          "output_type": "stream",
          "name": "stderr",
          "text": [
            "\n",
            "usage: aws [options] <command> <subcommand> [<subcommand> ...] [parameters]\n",
            "To see help text, you can run:\n",
            "\n",
            "  aws help\n",
            "  aws <command> help\n",
            "  aws <command> <subcommand> help\n",
            "\n",
            "aws: error: the following arguments are required: command\n",
            "\n"
          ]
        }
      ]
    },
    {
      "cell_type": "markdown",
      "source": [
        "## Configure the AWS Client with your Credentials\n",
        "\n",
        "Using `aws configure`, you next need to set your credentials and defaults for the AWS CLI.\n",
        "\n",
        "For more detailed instructions, see [Quick configuration with aws configure](https://docs.aws.amazon.com/cli/latest/userguide/cli-configure-quickstart.html)."
      ],
      "metadata": {
        "id": "4A7etJ2VHJmQ"
      }
    },
    {
      "cell_type": "code",
      "source": [
        "# importing os module\n",
        "import os\n",
        "  \n",
        "path = \"/content/terraform_tutorial\"\n",
        "  \n",
        "if not os.path.exists(path):\n",
        "  os.mkdir(path)\n",
        "\n",
        "os.chdir(path)\n",
        "main_tf = open(\"main.tf\",\"w\")\n",
        "variables_tf = open(\"variables.tf\",\"w\")\n",
        "\n",
        "variables = \"\"\"\n",
        "locals {\n",
        "  database_s3_bucket_name = \"yellow-taxi-ny-983700\"\n",
        "  query_results_s3_bucket_name = \"yellow-taxi-ny-983700-workgroup-query-results\"\n",
        "}\n",
        "\"\"\"\n",
        "\n",
        "main_body = \"\"\"\n",
        "terraform {\n",
        "  required_providers {\n",
        "    aws = {\n",
        "      source  = \"hashicorp/aws\"\n",
        "      version = \"~> 3.27\"\n",
        "    }\n",
        "  }\n",
        "  required_version = \">= 0.14.9\"\n",
        "}\n",
        "\n",
        "provider \"aws\" {\n",
        "  profile = \"default\"\n",
        "  region  = \"us-west-1\"\n",
        "}\n",
        "\n",
        "resource \"aws_s3_bucket\" \"bucket\" {\n",
        "  bucket = \"${local.database_s3_bucket_name}\"\n",
        "}\n",
        "\n",
        "# Ensure no public access is possible\n",
        "resource \"aws_s3_bucket_public_access_block\" \"bucket\" {\n",
        "  bucket = aws_s3_bucket.bucket.id\n",
        "\n",
        "  block_public_acls       = true\n",
        "  block_public_policy     = true\n",
        "  ignore_public_acls      = true\n",
        "  restrict_public_buckets = true\n",
        "}\n",
        "\"\"\"\n",
        "\n",
        "main_tf.write(main_body)\n",
        "main_tf.close()\n",
        "variables_tf.write(variables)\n",
        "variables_tf.close()"
      ],
      "metadata": {
        "id": "DlP6dumGzP9k"
      },
      "execution_count": null,
      "outputs": []
    },
    {
      "cell_type": "code",
      "source": [
        "%%bash\n",
        "terraform init "
      ],
      "metadata": {
        "colab": {
          "base_uri": "https://localhost:8080/"
        },
        "id": "RWNjNEp8273j",
        "outputId": "d567e0fe-7b87-43f7-b557-0486d3326426"
      },
      "execution_count": null,
      "outputs": [
        {
          "output_type": "stream",
          "name": "stdout",
          "text": [
            "\n",
            "\u001b[0m\u001b[1mInitializing the backend...\u001b[0m\n",
            "\n",
            "\u001b[0m\u001b[1mInitializing provider plugins...\u001b[0m\n",
            "- Finding hashicorp/aws versions matching \"~> 3.27\"...\n",
            "- Installing hashicorp/aws v3.71.0...\n",
            "- Installed hashicorp/aws v3.71.0 (signed by HashiCorp)\n",
            "\n",
            "Terraform has created a lock file \u001b[1m.terraform.lock.hcl\u001b[0m to record the provider\n",
            "selections it made above. Include this file in your version control repository\n",
            "so that Terraform can guarantee to make the same selections by default when\n",
            "you run \"terraform init\" in the future.\u001b[0m\n",
            "\n",
            "\u001b[0m\u001b[1m\u001b[32mTerraform has been successfully initialized!\u001b[0m\u001b[32m\u001b[0m\n",
            "\u001b[0m\u001b[32m\n",
            "You may now begin working with Terraform. Try running \"terraform plan\" to see\n",
            "any changes that are required for your infrastructure. All Terraform commands\n",
            "should now work.\n",
            "\n",
            "If you ever set or change modules or backend configuration for Terraform,\n",
            "rerun this command to reinitialize your working directory. If you forget, other\n",
            "commands will detect it and remind you to do so if necessary.\u001b[0m\n"
          ]
        }
      ]
    },
    {
      "cell_type": "code",
      "source": [
        "%%bash\n",
        "cd terraform_tutorial\n",
        "terraform plan"
      ],
      "metadata": {
        "id": "6d2RotBY5VyP"
      },
      "execution_count": null,
      "outputs": []
    },
    {
      "cell_type": "code",
      "source": [
        "%%bash\n",
        "terraform apply -auto-approve"
      ],
      "metadata": {
        "id": "vyL5WbYQURw5"
      },
      "execution_count": null,
      "outputs": []
    },
    {
      "cell_type": "code",
      "source": [
        "%%bash\n",
        "wget https://s3.amazonaws.com/nyc-tlc/trip+data/yellow_tripdata_2021-01.csv -o /dev/null"
      ],
      "metadata": {
        "id": "7RiB1d0J5a7w"
      },
      "execution_count": null,
      "outputs": []
    },
    {
      "cell_type": "code",
      "source": [
        "%%bash\n",
        "aws s3 cp /content/terraform_tutorial/yellow_tripdata_2021-01.csv s3://yellow-taxi-ny-983700\n",
        "aws s3 ls s3://yellow-taxi-ny-983700/"
      ],
      "metadata": {
        "colab": {
          "base_uri": "https://localhost:8080/"
        },
        "id": "dbAWJwg49FoZ",
        "outputId": "4ea9bac2-7513-48cb-cff4-6a35323e9d9c"
      },
      "execution_count": null,
      "outputs": [
        {
          "output_type": "stream",
          "name": "stdout",
          "text": [
            "Completed 256.0 KiB/120.1 MiB (290.6 KiB/s) with 1 file(s) remaining\rCompleted 512.0 KiB/120.1 MiB (539.4 KiB/s) with 1 file(s) remaining\rCompleted 768.0 KiB/120.1 MiB (770.9 KiB/s) with 1 file(s) remaining\rCompleted 1.0 MiB/120.1 MiB (1.0 MiB/s) with 1 file(s) remaining    \rCompleted 1.2 MiB/120.1 MiB (1.2 MiB/s) with 1 file(s) remaining    \rCompleted 1.5 MiB/120.1 MiB (1.5 MiB/s) with 1 file(s) remaining    \rCompleted 1.8 MiB/120.1 MiB (1.7 MiB/s) with 1 file(s) remaining    \rCompleted 2.0 MiB/120.1 MiB (1.9 MiB/s) with 1 file(s) remaining    \rCompleted 2.2 MiB/120.1 MiB (2.1 MiB/s) with 1 file(s) remaining    \rCompleted 2.5 MiB/120.1 MiB (2.3 MiB/s) with 1 file(s) remaining    \rCompleted 2.8 MiB/120.1 MiB (2.5 MiB/s) with 1 file(s) remaining    \rCompleted 3.0 MiB/120.1 MiB (2.8 MiB/s) with 1 file(s) remaining    \rCompleted 3.2 MiB/120.1 MiB (3.0 MiB/s) with 1 file(s) remaining    \rCompleted 3.5 MiB/120.1 MiB (3.2 MiB/s) with 1 file(s) remaining    \rCompleted 3.8 MiB/120.1 MiB (3.4 MiB/s) with 1 file(s) remaining    \rCompleted 4.0 MiB/120.1 MiB (3.5 MiB/s) with 1 file(s) remaining    \rCompleted 4.2 MiB/120.1 MiB (3.7 MiB/s) with 1 file(s) remaining    \rCompleted 4.5 MiB/120.1 MiB (4.0 MiB/s) with 1 file(s) remaining    \rCompleted 4.8 MiB/120.1 MiB (4.1 MiB/s) with 1 file(s) remaining    \rCompleted 5.0 MiB/120.1 MiB (4.3 MiB/s) with 1 file(s) remaining    \rCompleted 5.2 MiB/120.1 MiB (4.5 MiB/s) with 1 file(s) remaining    \rCompleted 5.5 MiB/120.1 MiB (4.8 MiB/s) with 1 file(s) remaining    \rCompleted 5.8 MiB/120.1 MiB (5.0 MiB/s) with 1 file(s) remaining    \rCompleted 6.0 MiB/120.1 MiB (5.2 MiB/s) with 1 file(s) remaining    \rCompleted 6.2 MiB/120.1 MiB (5.4 MiB/s) with 1 file(s) remaining    \rCompleted 6.5 MiB/120.1 MiB (5.6 MiB/s) with 1 file(s) remaining    \rCompleted 6.8 MiB/120.1 MiB (5.8 MiB/s) with 1 file(s) remaining    \rCompleted 7.0 MiB/120.1 MiB (6.0 MiB/s) with 1 file(s) remaining    \rCompleted 7.2 MiB/120.1 MiB (6.2 MiB/s) with 1 file(s) remaining    \rCompleted 7.5 MiB/120.1 MiB (6.4 MiB/s) with 1 file(s) remaining    \rCompleted 7.8 MiB/120.1 MiB (6.4 MiB/s) with 1 file(s) remaining    \rCompleted 8.0 MiB/120.1 MiB (6.6 MiB/s) with 1 file(s) remaining    \rCompleted 8.2 MiB/120.1 MiB (6.8 MiB/s) with 1 file(s) remaining    \rCompleted 8.5 MiB/120.1 MiB (7.0 MiB/s) with 1 file(s) remaining    \rCompleted 8.8 MiB/120.1 MiB (7.2 MiB/s) with 1 file(s) remaining    \rCompleted 9.0 MiB/120.1 MiB (7.4 MiB/s) with 1 file(s) remaining    \rCompleted 9.2 MiB/120.1 MiB (7.5 MiB/s) with 1 file(s) remaining    \rCompleted 9.5 MiB/120.1 MiB (7.7 MiB/s) with 1 file(s) remaining    \rCompleted 9.8 MiB/120.1 MiB (7.9 MiB/s) with 1 file(s) remaining    \rCompleted 10.0 MiB/120.1 MiB (8.1 MiB/s) with 1 file(s) remaining   \rCompleted 10.2 MiB/120.1 MiB (8.3 MiB/s) with 1 file(s) remaining   \rCompleted 10.5 MiB/120.1 MiB (8.5 MiB/s) with 1 file(s) remaining   \rCompleted 10.8 MiB/120.1 MiB (8.7 MiB/s) with 1 file(s) remaining   \rCompleted 11.0 MiB/120.1 MiB (8.9 MiB/s) with 1 file(s) remaining   \rCompleted 11.2 MiB/120.1 MiB (9.1 MiB/s) with 1 file(s) remaining   \rCompleted 11.5 MiB/120.1 MiB (9.2 MiB/s) with 1 file(s) remaining   \rCompleted 11.8 MiB/120.1 MiB (9.4 MiB/s) with 1 file(s) remaining   \rCompleted 12.0 MiB/120.1 MiB (9.6 MiB/s) with 1 file(s) remaining   \rCompleted 12.2 MiB/120.1 MiB (9.8 MiB/s) with 1 file(s) remaining   \rCompleted 12.5 MiB/120.1 MiB (9.8 MiB/s) with 1 file(s) remaining   \rCompleted 12.8 MiB/120.1 MiB (10.0 MiB/s) with 1 file(s) remaining  \rCompleted 13.0 MiB/120.1 MiB (10.2 MiB/s) with 1 file(s) remaining  \rCompleted 13.2 MiB/120.1 MiB (10.4 MiB/s) with 1 file(s) remaining  \rCompleted 13.5 MiB/120.1 MiB (10.6 MiB/s) with 1 file(s) remaining  \rCompleted 13.8 MiB/120.1 MiB (10.8 MiB/s) with 1 file(s) remaining  \rCompleted 14.0 MiB/120.1 MiB (10.9 MiB/s) with 1 file(s) remaining  \rCompleted 14.2 MiB/120.1 MiB (11.1 MiB/s) with 1 file(s) remaining  \rCompleted 14.5 MiB/120.1 MiB (11.3 MiB/s) with 1 file(s) remaining  \rCompleted 14.8 MiB/120.1 MiB (11.4 MiB/s) with 1 file(s) remaining  \rCompleted 15.0 MiB/120.1 MiB (11.6 MiB/s) with 1 file(s) remaining  \rCompleted 15.2 MiB/120.1 MiB (11.8 MiB/s) with 1 file(s) remaining  \rCompleted 15.5 MiB/120.1 MiB (11.9 MiB/s) with 1 file(s) remaining  \rCompleted 15.8 MiB/120.1 MiB (12.1 MiB/s) with 1 file(s) remaining  \rCompleted 16.0 MiB/120.1 MiB (12.3 MiB/s) with 1 file(s) remaining  \rCompleted 16.2 MiB/120.1 MiB (12.4 MiB/s) with 1 file(s) remaining  \rCompleted 16.5 MiB/120.1 MiB (12.6 MiB/s) with 1 file(s) remaining  \rCompleted 16.8 MiB/120.1 MiB (12.8 MiB/s) with 1 file(s) remaining  \rCompleted 17.0 MiB/120.1 MiB (12.9 MiB/s) with 1 file(s) remaining  \rCompleted 17.2 MiB/120.1 MiB (13.0 MiB/s) with 1 file(s) remaining  \rCompleted 17.5 MiB/120.1 MiB (13.2 MiB/s) with 1 file(s) remaining  \rCompleted 17.8 MiB/120.1 MiB (13.3 MiB/s) with 1 file(s) remaining  \rCompleted 18.0 MiB/120.1 MiB (13.4 MiB/s) with 1 file(s) remaining  \rCompleted 18.2 MiB/120.1 MiB (13.6 MiB/s) with 1 file(s) remaining  \rCompleted 18.5 MiB/120.1 MiB (13.8 MiB/s) with 1 file(s) remaining  \rCompleted 18.8 MiB/120.1 MiB (13.9 MiB/s) with 1 file(s) remaining  \rCompleted 19.0 MiB/120.1 MiB (14.1 MiB/s) with 1 file(s) remaining  \rCompleted 19.2 MiB/120.1 MiB (14.3 MiB/s) with 1 file(s) remaining  \rCompleted 19.5 MiB/120.1 MiB (14.4 MiB/s) with 1 file(s) remaining  \rCompleted 19.8 MiB/120.1 MiB (14.6 MiB/s) with 1 file(s) remaining  \rCompleted 20.0 MiB/120.1 MiB (14.7 MiB/s) with 1 file(s) remaining  \rCompleted 20.2 MiB/120.1 MiB (14.9 MiB/s) with 1 file(s) remaining  \rCompleted 20.5 MiB/120.1 MiB (15.1 MiB/s) with 1 file(s) remaining  \rCompleted 20.8 MiB/120.1 MiB (15.2 MiB/s) with 1 file(s) remaining  \rCompleted 21.0 MiB/120.1 MiB (15.3 MiB/s) with 1 file(s) remaining  \rCompleted 21.2 MiB/120.1 MiB (15.5 MiB/s) with 1 file(s) remaining  \rCompleted 21.5 MiB/120.1 MiB (15.7 MiB/s) with 1 file(s) remaining  \rCompleted 21.8 MiB/120.1 MiB (15.8 MiB/s) with 1 file(s) remaining  \rCompleted 22.0 MiB/120.1 MiB (16.0 MiB/s) with 1 file(s) remaining  \rCompleted 22.2 MiB/120.1 MiB (16.1 MiB/s) with 1 file(s) remaining  \rCompleted 22.5 MiB/120.1 MiB (16.3 MiB/s) with 1 file(s) remaining  \rCompleted 22.8 MiB/120.1 MiB (16.4 MiB/s) with 1 file(s) remaining  \rCompleted 23.0 MiB/120.1 MiB (16.5 MiB/s) with 1 file(s) remaining  \rCompleted 23.2 MiB/120.1 MiB (16.7 MiB/s) with 1 file(s) remaining  \rCompleted 23.5 MiB/120.1 MiB (16.8 MiB/s) with 1 file(s) remaining  \rCompleted 23.8 MiB/120.1 MiB (16.9 MiB/s) with 1 file(s) remaining  \rCompleted 24.0 MiB/120.1 MiB (17.1 MiB/s) with 1 file(s) remaining  \rCompleted 24.2 MiB/120.1 MiB (17.2 MiB/s) with 1 file(s) remaining  \rCompleted 24.5 MiB/120.1 MiB (17.4 MiB/s) with 1 file(s) remaining  \rCompleted 24.8 MiB/120.1 MiB (17.5 MiB/s) with 1 file(s) remaining  \rCompleted 25.0 MiB/120.1 MiB (17.6 MiB/s) with 1 file(s) remaining  \rCompleted 25.2 MiB/120.1 MiB (17.8 MiB/s) with 1 file(s) remaining  \rCompleted 25.5 MiB/120.1 MiB (17.9 MiB/s) with 1 file(s) remaining  \rCompleted 25.8 MiB/120.1 MiB (18.0 MiB/s) with 1 file(s) remaining  \rCompleted 26.0 MiB/120.1 MiB (18.2 MiB/s) with 1 file(s) remaining  \rCompleted 26.2 MiB/120.1 MiB (18.3 MiB/s) with 1 file(s) remaining  \rCompleted 26.5 MiB/120.1 MiB (18.5 MiB/s) with 1 file(s) remaining  \rCompleted 26.8 MiB/120.1 MiB (18.6 MiB/s) with 1 file(s) remaining  \rCompleted 27.0 MiB/120.1 MiB (18.7 MiB/s) with 1 file(s) remaining  \rCompleted 27.2 MiB/120.1 MiB (18.9 MiB/s) with 1 file(s) remaining  \rCompleted 27.5 MiB/120.1 MiB (19.0 MiB/s) with 1 file(s) remaining  \rCompleted 27.8 MiB/120.1 MiB (19.1 MiB/s) with 1 file(s) remaining  \rCompleted 28.0 MiB/120.1 MiB (19.3 MiB/s) with 1 file(s) remaining  \rCompleted 28.2 MiB/120.1 MiB (19.4 MiB/s) with 1 file(s) remaining  \rCompleted 28.5 MiB/120.1 MiB (19.6 MiB/s) with 1 file(s) remaining  \rCompleted 28.8 MiB/120.1 MiB (19.7 MiB/s) with 1 file(s) remaining  \rCompleted 29.0 MiB/120.1 MiB (19.7 MiB/s) with 1 file(s) remaining  \rCompleted 29.2 MiB/120.1 MiB (19.8 MiB/s) with 1 file(s) remaining  \rCompleted 29.5 MiB/120.1 MiB (19.9 MiB/s) with 1 file(s) remaining  \rCompleted 29.8 MiB/120.1 MiB (20.0 MiB/s) with 1 file(s) remaining  \rCompleted 30.0 MiB/120.1 MiB (20.2 MiB/s) with 1 file(s) remaining  \rCompleted 30.2 MiB/120.1 MiB (20.3 MiB/s) with 1 file(s) remaining  \rCompleted 30.5 MiB/120.1 MiB (20.4 MiB/s) with 1 file(s) remaining  \rCompleted 30.8 MiB/120.1 MiB (20.6 MiB/s) with 1 file(s) remaining  \rCompleted 31.0 MiB/120.1 MiB (20.7 MiB/s) with 1 file(s) remaining  \rCompleted 31.2 MiB/120.1 MiB (20.8 MiB/s) with 1 file(s) remaining  \rCompleted 31.5 MiB/120.1 MiB (21.0 MiB/s) with 1 file(s) remaining  \rCompleted 31.8 MiB/120.1 MiB (21.1 MiB/s) with 1 file(s) remaining  \rCompleted 32.0 MiB/120.1 MiB (21.2 MiB/s) with 1 file(s) remaining  \rCompleted 32.2 MiB/120.1 MiB (21.3 MiB/s) with 1 file(s) remaining  \rCompleted 32.5 MiB/120.1 MiB (21.5 MiB/s) with 1 file(s) remaining  \rCompleted 32.8 MiB/120.1 MiB (21.6 MiB/s) with 1 file(s) remaining  \rCompleted 33.0 MiB/120.1 MiB (21.7 MiB/s) with 1 file(s) remaining  \rCompleted 33.2 MiB/120.1 MiB (21.8 MiB/s) with 1 file(s) remaining  \rCompleted 33.5 MiB/120.1 MiB (22.0 MiB/s) with 1 file(s) remaining  \rCompleted 33.8 MiB/120.1 MiB (22.1 MiB/s) with 1 file(s) remaining  \rCompleted 34.0 MiB/120.1 MiB (22.2 MiB/s) with 1 file(s) remaining  \rCompleted 34.2 MiB/120.1 MiB (22.3 MiB/s) with 1 file(s) remaining  \rCompleted 34.5 MiB/120.1 MiB (22.4 MiB/s) with 1 file(s) remaining  \rCompleted 34.8 MiB/120.1 MiB (22.5 MiB/s) with 1 file(s) remaining  \rCompleted 35.0 MiB/120.1 MiB (22.7 MiB/s) with 1 file(s) remaining  \rCompleted 35.2 MiB/120.1 MiB (22.8 MiB/s) with 1 file(s) remaining  \rCompleted 35.5 MiB/120.1 MiB (23.0 MiB/s) with 1 file(s) remaining  \rCompleted 35.8 MiB/120.1 MiB (23.0 MiB/s) with 1 file(s) remaining  \rCompleted 36.0 MiB/120.1 MiB (23.1 MiB/s) with 1 file(s) remaining  \rCompleted 36.2 MiB/120.1 MiB (23.2 MiB/s) with 1 file(s) remaining  \rCompleted 36.5 MiB/120.1 MiB (23.3 MiB/s) with 1 file(s) remaining  \rCompleted 36.8 MiB/120.1 MiB (23.4 MiB/s) with 1 file(s) remaining  \rCompleted 37.0 MiB/120.1 MiB (23.6 MiB/s) with 1 file(s) remaining  \rCompleted 37.2 MiB/120.1 MiB (23.7 MiB/s) with 1 file(s) remaining  \rCompleted 37.5 MiB/120.1 MiB (23.8 MiB/s) with 1 file(s) remaining  \rCompleted 37.8 MiB/120.1 MiB (23.9 MiB/s) with 1 file(s) remaining  \rCompleted 38.0 MiB/120.1 MiB (24.0 MiB/s) with 1 file(s) remaining  \rCompleted 38.2 MiB/120.1 MiB (24.2 MiB/s) with 1 file(s) remaining  \rCompleted 38.5 MiB/120.1 MiB (24.3 MiB/s) with 1 file(s) remaining  \rCompleted 38.8 MiB/120.1 MiB (24.4 MiB/s) with 1 file(s) remaining  \rCompleted 39.0 MiB/120.1 MiB (24.4 MiB/s) with 1 file(s) remaining  \rCompleted 39.2 MiB/120.1 MiB (24.5 MiB/s) with 1 file(s) remaining  \rCompleted 39.5 MiB/120.1 MiB (24.6 MiB/s) with 1 file(s) remaining  \rCompleted 39.8 MiB/120.1 MiB (24.8 MiB/s) with 1 file(s) remaining  \rCompleted 40.0 MiB/120.1 MiB (24.9 MiB/s) with 1 file(s) remaining  \rCompleted 40.2 MiB/120.1 MiB (25.0 MiB/s) with 1 file(s) remaining  \rCompleted 40.5 MiB/120.1 MiB (25.2 MiB/s) with 1 file(s) remaining  \rCompleted 40.8 MiB/120.1 MiB (25.3 MiB/s) with 1 file(s) remaining  \rCompleted 41.0 MiB/120.1 MiB (25.4 MiB/s) with 1 file(s) remaining  \rCompleted 41.2 MiB/120.1 MiB (25.5 MiB/s) with 1 file(s) remaining  \rCompleted 41.5 MiB/120.1 MiB (25.6 MiB/s) with 1 file(s) remaining  \rCompleted 41.8 MiB/120.1 MiB (25.7 MiB/s) with 1 file(s) remaining  \rCompleted 42.0 MiB/120.1 MiB (25.8 MiB/s) with 1 file(s) remaining  \rCompleted 42.2 MiB/120.1 MiB (25.9 MiB/s) with 1 file(s) remaining  \rCompleted 42.5 MiB/120.1 MiB (26.0 MiB/s) with 1 file(s) remaining  \rCompleted 42.8 MiB/120.1 MiB (26.1 MiB/s) with 1 file(s) remaining  \rCompleted 43.0 MiB/120.1 MiB (26.2 MiB/s) with 1 file(s) remaining  \rCompleted 43.2 MiB/120.1 MiB (26.3 MiB/s) with 1 file(s) remaining  \rCompleted 43.5 MiB/120.1 MiB (26.4 MiB/s) with 1 file(s) remaining  \rCompleted 43.8 MiB/120.1 MiB (26.5 MiB/s) with 1 file(s) remaining  \rCompleted 44.0 MiB/120.1 MiB (26.5 MiB/s) with 1 file(s) remaining  \rCompleted 44.2 MiB/120.1 MiB (26.6 MiB/s) with 1 file(s) remaining  \rCompleted 44.5 MiB/120.1 MiB (26.7 MiB/s) with 1 file(s) remaining  \rCompleted 44.8 MiB/120.1 MiB (26.8 MiB/s) with 1 file(s) remaining  \rCompleted 45.0 MiB/120.1 MiB (26.9 MiB/s) with 1 file(s) remaining  \rCompleted 45.2 MiB/120.1 MiB (27.0 MiB/s) with 1 file(s) remaining  \rCompleted 45.5 MiB/120.1 MiB (27.2 MiB/s) with 1 file(s) remaining  \rCompleted 45.8 MiB/120.1 MiB (27.3 MiB/s) with 1 file(s) remaining  \rCompleted 46.0 MiB/120.1 MiB (27.4 MiB/s) with 1 file(s) remaining  \rCompleted 46.2 MiB/120.1 MiB (27.5 MiB/s) with 1 file(s) remaining  \rCompleted 46.5 MiB/120.1 MiB (27.5 MiB/s) with 1 file(s) remaining  \rCompleted 46.8 MiB/120.1 MiB (27.6 MiB/s) with 1 file(s) remaining  \rCompleted 47.0 MiB/120.1 MiB (27.7 MiB/s) with 1 file(s) remaining  \rCompleted 47.2 MiB/120.1 MiB (27.8 MiB/s) with 1 file(s) remaining  \rCompleted 47.5 MiB/120.1 MiB (27.9 MiB/s) with 1 file(s) remaining  \rCompleted 47.8 MiB/120.1 MiB (28.0 MiB/s) with 1 file(s) remaining  \rCompleted 48.0 MiB/120.1 MiB (28.1 MiB/s) with 1 file(s) remaining  \rCompleted 48.2 MiB/120.1 MiB (28.2 MiB/s) with 1 file(s) remaining  \rCompleted 48.5 MiB/120.1 MiB (28.3 MiB/s) with 1 file(s) remaining  \rCompleted 48.8 MiB/120.1 MiB (28.3 MiB/s) with 1 file(s) remaining  \rCompleted 49.0 MiB/120.1 MiB (28.4 MiB/s) with 1 file(s) remaining  \rCompleted 49.2 MiB/120.1 MiB (28.5 MiB/s) with 1 file(s) remaining  \rCompleted 49.5 MiB/120.1 MiB (28.5 MiB/s) with 1 file(s) remaining  \rCompleted 49.8 MiB/120.1 MiB (28.7 MiB/s) with 1 file(s) remaining  \rCompleted 50.0 MiB/120.1 MiB (28.8 MiB/s) with 1 file(s) remaining  \rCompleted 50.2 MiB/120.1 MiB (28.9 MiB/s) with 1 file(s) remaining  \rCompleted 50.5 MiB/120.1 MiB (28.9 MiB/s) with 1 file(s) remaining  \rCompleted 50.8 MiB/120.1 MiB (29.1 MiB/s) with 1 file(s) remaining  \rCompleted 51.0 MiB/120.1 MiB (29.1 MiB/s) with 1 file(s) remaining  \rCompleted 51.2 MiB/120.1 MiB (29.2 MiB/s) with 1 file(s) remaining  \rCompleted 51.5 MiB/120.1 MiB (29.3 MiB/s) with 1 file(s) remaining  \rCompleted 51.8 MiB/120.1 MiB (29.3 MiB/s) with 1 file(s) remaining  \rCompleted 52.0 MiB/120.1 MiB (29.5 MiB/s) with 1 file(s) remaining  \rCompleted 52.2 MiB/120.1 MiB (29.6 MiB/s) with 1 file(s) remaining  \rCompleted 52.5 MiB/120.1 MiB (29.7 MiB/s) with 1 file(s) remaining  \rCompleted 52.8 MiB/120.1 MiB (29.8 MiB/s) with 1 file(s) remaining  \rCompleted 53.0 MiB/120.1 MiB (29.9 MiB/s) with 1 file(s) remaining  \rCompleted 53.2 MiB/120.1 MiB (30.0 MiB/s) with 1 file(s) remaining  \rCompleted 53.5 MiB/120.1 MiB (30.0 MiB/s) with 1 file(s) remaining  \rCompleted 53.8 MiB/120.1 MiB (30.1 MiB/s) with 1 file(s) remaining  \rCompleted 54.0 MiB/120.1 MiB (30.2 MiB/s) with 1 file(s) remaining  \rCompleted 54.2 MiB/120.1 MiB (30.3 MiB/s) with 1 file(s) remaining  \rCompleted 54.5 MiB/120.1 MiB (30.4 MiB/s) with 1 file(s) remaining  \rCompleted 54.8 MiB/120.1 MiB (30.5 MiB/s) with 1 file(s) remaining  \rCompleted 55.0 MiB/120.1 MiB (30.6 MiB/s) with 1 file(s) remaining  \rCompleted 55.2 MiB/120.1 MiB (30.6 MiB/s) with 1 file(s) remaining  \rCompleted 55.5 MiB/120.1 MiB (30.7 MiB/s) with 1 file(s) remaining  \rCompleted 55.8 MiB/120.1 MiB (30.8 MiB/s) with 1 file(s) remaining  \rCompleted 56.0 MiB/120.1 MiB (30.9 MiB/s) with 1 file(s) remaining  \rCompleted 56.2 MiB/120.1 MiB (30.9 MiB/s) with 1 file(s) remaining  \rCompleted 56.5 MiB/120.1 MiB (31.1 MiB/s) with 1 file(s) remaining  \rCompleted 56.8 MiB/120.1 MiB (31.2 MiB/s) with 1 file(s) remaining  \rCompleted 57.0 MiB/120.1 MiB (31.3 MiB/s) with 1 file(s) remaining  \rCompleted 57.2 MiB/120.1 MiB (31.4 MiB/s) with 1 file(s) remaining  \rCompleted 57.5 MiB/120.1 MiB (31.5 MiB/s) with 1 file(s) remaining  \rCompleted 57.8 MiB/120.1 MiB (31.7 MiB/s) with 1 file(s) remaining  \rCompleted 58.0 MiB/120.1 MiB (31.6 MiB/s) with 1 file(s) remaining  \rCompleted 58.2 MiB/120.1 MiB (31.7 MiB/s) with 1 file(s) remaining  \rCompleted 58.5 MiB/120.1 MiB (31.8 MiB/s) with 1 file(s) remaining  \rCompleted 58.8 MiB/120.1 MiB (31.9 MiB/s) with 1 file(s) remaining  \rCompleted 59.0 MiB/120.1 MiB (32.0 MiB/s) with 1 file(s) remaining  \rCompleted 59.2 MiB/120.1 MiB (32.1 MiB/s) with 1 file(s) remaining  \rCompleted 59.5 MiB/120.1 MiB (32.3 MiB/s) with 1 file(s) remaining  \rCompleted 59.8 MiB/120.1 MiB (32.2 MiB/s) with 1 file(s) remaining  \rCompleted 60.0 MiB/120.1 MiB (32.3 MiB/s) with 1 file(s) remaining  \rCompleted 60.2 MiB/120.1 MiB (32.4 MiB/s) with 1 file(s) remaining  \rCompleted 60.5 MiB/120.1 MiB (32.5 MiB/s) with 1 file(s) remaining  \rCompleted 60.8 MiB/120.1 MiB (32.6 MiB/s) with 1 file(s) remaining  \rCompleted 61.0 MiB/120.1 MiB (32.7 MiB/s) with 1 file(s) remaining  \rCompleted 61.2 MiB/120.1 MiB (32.9 MiB/s) with 1 file(s) remaining  \rCompleted 61.5 MiB/120.1 MiB (33.0 MiB/s) with 1 file(s) remaining  \rCompleted 61.8 MiB/120.1 MiB (33.0 MiB/s) with 1 file(s) remaining  \rCompleted 62.0 MiB/120.1 MiB (33.0 MiB/s) with 1 file(s) remaining  \rCompleted 62.2 MiB/120.1 MiB (33.1 MiB/s) with 1 file(s) remaining  \rCompleted 62.5 MiB/120.1 MiB (33.2 MiB/s) with 1 file(s) remaining  \rCompleted 62.8 MiB/120.1 MiB (33.3 MiB/s) with 1 file(s) remaining  \rCompleted 63.0 MiB/120.1 MiB (33.3 MiB/s) with 1 file(s) remaining  \rCompleted 63.2 MiB/120.1 MiB (33.5 MiB/s) with 1 file(s) remaining  \rCompleted 63.5 MiB/120.1 MiB (33.6 MiB/s) with 1 file(s) remaining  \rCompleted 63.8 MiB/120.1 MiB (33.6 MiB/s) with 1 file(s) remaining  \rCompleted 64.0 MiB/120.1 MiB (33.7 MiB/s) with 1 file(s) remaining  \rCompleted 64.2 MiB/120.1 MiB (33.8 MiB/s) with 1 file(s) remaining  \rCompleted 64.5 MiB/120.1 MiB (33.8 MiB/s) with 1 file(s) remaining  \rCompleted 64.8 MiB/120.1 MiB (33.9 MiB/s) with 1 file(s) remaining  \rCompleted 65.0 MiB/120.1 MiB (34.1 MiB/s) with 1 file(s) remaining  \rCompleted 65.2 MiB/120.1 MiB (34.2 MiB/s) with 1 file(s) remaining  \rCompleted 65.5 MiB/120.1 MiB (34.2 MiB/s) with 1 file(s) remaining  \rCompleted 65.8 MiB/120.1 MiB (34.3 MiB/s) with 1 file(s) remaining  \rCompleted 66.0 MiB/120.1 MiB (34.3 MiB/s) with 1 file(s) remaining  \rCompleted 66.2 MiB/120.1 MiB (34.5 MiB/s) with 1 file(s) remaining  \rCompleted 66.5 MiB/120.1 MiB (34.5 MiB/s) with 1 file(s) remaining  \rCompleted 66.8 MiB/120.1 MiB (34.7 MiB/s) with 1 file(s) remaining  \rCompleted 67.0 MiB/120.1 MiB (34.7 MiB/s) with 1 file(s) remaining  \rCompleted 67.2 MiB/120.1 MiB (34.8 MiB/s) with 1 file(s) remaining  \rCompleted 67.5 MiB/120.1 MiB (34.9 MiB/s) with 1 file(s) remaining  \rCompleted 67.8 MiB/120.1 MiB (35.0 MiB/s) with 1 file(s) remaining  \rCompleted 68.0 MiB/120.1 MiB (35.0 MiB/s) with 1 file(s) remaining  \rCompleted 68.2 MiB/120.1 MiB (35.1 MiB/s) with 1 file(s) remaining  \rCompleted 68.5 MiB/120.1 MiB (35.2 MiB/s) with 1 file(s) remaining  \rCompleted 68.8 MiB/120.1 MiB (35.2 MiB/s) with 1 file(s) remaining  \rCompleted 69.0 MiB/120.1 MiB (35.2 MiB/s) with 1 file(s) remaining  \rCompleted 69.2 MiB/120.1 MiB (35.3 MiB/s) with 1 file(s) remaining  \rCompleted 69.5 MiB/120.1 MiB (35.4 MiB/s) with 1 file(s) remaining  \rCompleted 69.8 MiB/120.1 MiB (35.5 MiB/s) with 1 file(s) remaining  \rCompleted 70.0 MiB/120.1 MiB (35.5 MiB/s) with 1 file(s) remaining  \rCompleted 70.2 MiB/120.1 MiB (35.6 MiB/s) with 1 file(s) remaining  \rCompleted 70.5 MiB/120.1 MiB (35.7 MiB/s) with 1 file(s) remaining  \rCompleted 70.8 MiB/120.1 MiB (35.8 MiB/s) with 1 file(s) remaining  \rCompleted 71.0 MiB/120.1 MiB (35.8 MiB/s) with 1 file(s) remaining  \rCompleted 71.2 MiB/120.1 MiB (35.9 MiB/s) with 1 file(s) remaining  \rCompleted 71.5 MiB/120.1 MiB (36.0 MiB/s) with 1 file(s) remaining  \rCompleted 71.8 MiB/120.1 MiB (36.1 MiB/s) with 1 file(s) remaining  \rCompleted 72.0 MiB/120.1 MiB (36.2 MiB/s) with 1 file(s) remaining  \rCompleted 72.2 MiB/120.1 MiB (36.3 MiB/s) with 1 file(s) remaining  \rCompleted 72.5 MiB/120.1 MiB (36.4 MiB/s) with 1 file(s) remaining  \rCompleted 72.8 MiB/120.1 MiB (36.3 MiB/s) with 1 file(s) remaining  \rCompleted 73.0 MiB/120.1 MiB (36.5 MiB/s) with 1 file(s) remaining  \rCompleted 73.2 MiB/120.1 MiB (36.5 MiB/s) with 1 file(s) remaining  \rCompleted 73.5 MiB/120.1 MiB (36.6 MiB/s) with 1 file(s) remaining  \rCompleted 73.8 MiB/120.1 MiB (36.6 MiB/s) with 1 file(s) remaining  \rCompleted 74.0 MiB/120.1 MiB (36.7 MiB/s) with 1 file(s) remaining  \rCompleted 74.2 MiB/120.1 MiB (36.7 MiB/s) with 1 file(s) remaining  \rCompleted 74.5 MiB/120.1 MiB (36.6 MiB/s) with 1 file(s) remaining  \rCompleted 74.8 MiB/120.1 MiB (36.5 MiB/s) with 1 file(s) remaining  \rCompleted 75.0 MiB/120.1 MiB (36.5 MiB/s) with 1 file(s) remaining  \rCompleted 75.2 MiB/120.1 MiB (36.4 MiB/s) with 1 file(s) remaining  \rCompleted 75.5 MiB/120.1 MiB (36.5 MiB/s) with 1 file(s) remaining  \rCompleted 75.8 MiB/120.1 MiB (36.5 MiB/s) with 1 file(s) remaining  \rCompleted 76.0 MiB/120.1 MiB (36.6 MiB/s) with 1 file(s) remaining  \rCompleted 76.2 MiB/120.1 MiB (36.7 MiB/s) with 1 file(s) remaining  \rCompleted 76.5 MiB/120.1 MiB (36.7 MiB/s) with 1 file(s) remaining  \rCompleted 76.8 MiB/120.1 MiB (36.7 MiB/s) with 1 file(s) remaining  \rCompleted 77.0 MiB/120.1 MiB (36.0 MiB/s) with 1 file(s) remaining  \rCompleted 77.2 MiB/120.1 MiB (36.0 MiB/s) with 1 file(s) remaining  \rCompleted 77.5 MiB/120.1 MiB (36.1 MiB/s) with 1 file(s) remaining  \rCompleted 77.8 MiB/120.1 MiB (36.2 MiB/s) with 1 file(s) remaining  \rCompleted 78.0 MiB/120.1 MiB (36.2 MiB/s) with 1 file(s) remaining  \rCompleted 78.2 MiB/120.1 MiB (36.3 MiB/s) with 1 file(s) remaining  \rCompleted 78.5 MiB/120.1 MiB (36.4 MiB/s) with 1 file(s) remaining  \rCompleted 78.8 MiB/120.1 MiB (36.4 MiB/s) with 1 file(s) remaining  \rCompleted 79.0 MiB/120.1 MiB (36.5 MiB/s) with 1 file(s) remaining  \rCompleted 79.2 MiB/120.1 MiB (36.6 MiB/s) with 1 file(s) remaining  \rCompleted 79.5 MiB/120.1 MiB (36.7 MiB/s) with 1 file(s) remaining  \rCompleted 79.8 MiB/120.1 MiB (36.8 MiB/s) with 1 file(s) remaining  \rCompleted 80.0 MiB/120.1 MiB (36.9 MiB/s) with 1 file(s) remaining  \rCompleted 80.2 MiB/120.1 MiB (36.9 MiB/s) with 1 file(s) remaining  \rCompleted 80.5 MiB/120.1 MiB (37.0 MiB/s) with 1 file(s) remaining  \rCompleted 80.8 MiB/120.1 MiB (37.1 MiB/s) with 1 file(s) remaining  \rCompleted 81.0 MiB/120.1 MiB (37.2 MiB/s) with 1 file(s) remaining  \rCompleted 81.2 MiB/120.1 MiB (37.3 MiB/s) with 1 file(s) remaining  \rCompleted 81.5 MiB/120.1 MiB (37.4 MiB/s) with 1 file(s) remaining  \rCompleted 81.8 MiB/120.1 MiB (37.5 MiB/s) with 1 file(s) remaining  \rCompleted 82.0 MiB/120.1 MiB (37.6 MiB/s) with 1 file(s) remaining  \rCompleted 82.2 MiB/120.1 MiB (37.6 MiB/s) with 1 file(s) remaining  \rCompleted 82.5 MiB/120.1 MiB (37.7 MiB/s) with 1 file(s) remaining  \rCompleted 82.8 MiB/120.1 MiB (37.5 MiB/s) with 1 file(s) remaining  \rCompleted 83.0 MiB/120.1 MiB (37.6 MiB/s) with 1 file(s) remaining  \rCompleted 83.2 MiB/120.1 MiB (37.7 MiB/s) with 1 file(s) remaining  \rCompleted 83.5 MiB/120.1 MiB (37.7 MiB/s) with 1 file(s) remaining  \rCompleted 83.8 MiB/120.1 MiB (37.7 MiB/s) with 1 file(s) remaining  \rCompleted 84.0 MiB/120.1 MiB (37.8 MiB/s) with 1 file(s) remaining  \rCompleted 84.2 MiB/120.1 MiB (37.8 MiB/s) with 1 file(s) remaining  \rCompleted 84.5 MiB/120.1 MiB (37.9 MiB/s) with 1 file(s) remaining  \rCompleted 84.8 MiB/120.1 MiB (38.0 MiB/s) with 1 file(s) remaining  \rCompleted 85.0 MiB/120.1 MiB (38.1 MiB/s) with 1 file(s) remaining  \rCompleted 85.2 MiB/120.1 MiB (38.2 MiB/s) with 1 file(s) remaining  \rCompleted 85.5 MiB/120.1 MiB (38.2 MiB/s) with 1 file(s) remaining  \rCompleted 85.8 MiB/120.1 MiB (38.3 MiB/s) with 1 file(s) remaining  \rCompleted 86.0 MiB/120.1 MiB (38.4 MiB/s) with 1 file(s) remaining  \rCompleted 86.2 MiB/120.1 MiB (38.4 MiB/s) with 1 file(s) remaining  \rCompleted 86.5 MiB/120.1 MiB (38.5 MiB/s) with 1 file(s) remaining  \rCompleted 86.8 MiB/120.1 MiB (38.5 MiB/s) with 1 file(s) remaining  \rCompleted 87.0 MiB/120.1 MiB (38.6 MiB/s) with 1 file(s) remaining  \rCompleted 87.2 MiB/120.1 MiB (38.7 MiB/s) with 1 file(s) remaining  \rCompleted 87.5 MiB/120.1 MiB (38.8 MiB/s) with 1 file(s) remaining  \rCompleted 87.8 MiB/120.1 MiB (38.7 MiB/s) with 1 file(s) remaining  \rCompleted 88.0 MiB/120.1 MiB (38.8 MiB/s) with 1 file(s) remaining  \rCompleted 88.2 MiB/120.1 MiB (38.9 MiB/s) with 1 file(s) remaining  \rCompleted 88.5 MiB/120.1 MiB (39.0 MiB/s) with 1 file(s) remaining  \rCompleted 88.8 MiB/120.1 MiB (39.0 MiB/s) with 1 file(s) remaining  \rCompleted 89.0 MiB/120.1 MiB (39.1 MiB/s) with 1 file(s) remaining  \rCompleted 89.2 MiB/120.1 MiB (39.2 MiB/s) with 1 file(s) remaining  \rCompleted 89.5 MiB/120.1 MiB (39.3 MiB/s) with 1 file(s) remaining  \rCompleted 89.8 MiB/120.1 MiB (39.3 MiB/s) with 1 file(s) remaining  \rCompleted 90.0 MiB/120.1 MiB (39.3 MiB/s) with 1 file(s) remaining  \rCompleted 90.2 MiB/120.1 MiB (39.4 MiB/s) with 1 file(s) remaining  \rCompleted 90.5 MiB/120.1 MiB (39.5 MiB/s) with 1 file(s) remaining  \rCompleted 90.8 MiB/120.1 MiB (39.5 MiB/s) with 1 file(s) remaining  \rCompleted 91.0 MiB/120.1 MiB (39.6 MiB/s) with 1 file(s) remaining  \rCompleted 91.2 MiB/120.1 MiB (39.7 MiB/s) with 1 file(s) remaining  \rCompleted 91.5 MiB/120.1 MiB (39.7 MiB/s) with 1 file(s) remaining  \rCompleted 91.8 MiB/120.1 MiB (39.8 MiB/s) with 1 file(s) remaining  \rCompleted 92.0 MiB/120.1 MiB (39.8 MiB/s) with 1 file(s) remaining  \rCompleted 92.2 MiB/120.1 MiB (39.9 MiB/s) with 1 file(s) remaining  \rCompleted 92.5 MiB/120.1 MiB (40.0 MiB/s) with 1 file(s) remaining  \rCompleted 92.8 MiB/120.1 MiB (40.0 MiB/s) with 1 file(s) remaining  \rCompleted 93.0 MiB/120.1 MiB (40.1 MiB/s) with 1 file(s) remaining  \rCompleted 93.2 MiB/120.1 MiB (40.2 MiB/s) with 1 file(s) remaining  \rCompleted 93.5 MiB/120.1 MiB (40.2 MiB/s) with 1 file(s) remaining  \rCompleted 93.8 MiB/120.1 MiB (40.3 MiB/s) with 1 file(s) remaining  \rCompleted 94.0 MiB/120.1 MiB (40.4 MiB/s) with 1 file(s) remaining  \rCompleted 94.2 MiB/120.1 MiB (40.4 MiB/s) with 1 file(s) remaining  \rCompleted 94.4 MiB/120.1 MiB (40.3 MiB/s) with 1 file(s) remaining  \rCompleted 94.6 MiB/120.1 MiB (40.4 MiB/s) with 1 file(s) remaining  \rCompleted 94.9 MiB/120.1 MiB (40.5 MiB/s) with 1 file(s) remaining  \rCompleted 95.1 MiB/120.1 MiB (40.6 MiB/s) with 1 file(s) remaining  \rCompleted 95.4 MiB/120.1 MiB (40.7 MiB/s) with 1 file(s) remaining  \rCompleted 95.6 MiB/120.1 MiB (40.7 MiB/s) with 1 file(s) remaining  \rCompleted 95.9 MiB/120.1 MiB (40.8 MiB/s) with 1 file(s) remaining  \rCompleted 96.1 MiB/120.1 MiB (40.7 MiB/s) with 1 file(s) remaining  \rCompleted 96.4 MiB/120.1 MiB (40.7 MiB/s) with 1 file(s) remaining  \rCompleted 96.6 MiB/120.1 MiB (40.8 MiB/s) with 1 file(s) remaining  \rCompleted 96.9 MiB/120.1 MiB (40.9 MiB/s) with 1 file(s) remaining  \rCompleted 97.1 MiB/120.1 MiB (41.0 MiB/s) with 1 file(s) remaining  \rCompleted 97.4 MiB/120.1 MiB (41.1 MiB/s) with 1 file(s) remaining  \rCompleted 97.6 MiB/120.1 MiB (41.2 MiB/s) with 1 file(s) remaining  \rCompleted 97.9 MiB/120.1 MiB (41.3 MiB/s) with 1 file(s) remaining  \rCompleted 98.1 MiB/120.1 MiB (41.2 MiB/s) with 1 file(s) remaining  \rCompleted 98.4 MiB/120.1 MiB (41.3 MiB/s) with 1 file(s) remaining  \rCompleted 98.6 MiB/120.1 MiB (41.4 MiB/s) with 1 file(s) remaining  \rCompleted 98.9 MiB/120.1 MiB (41.5 MiB/s) with 1 file(s) remaining  \rCompleted 99.1 MiB/120.1 MiB (41.5 MiB/s) with 1 file(s) remaining  \rCompleted 99.4 MiB/120.1 MiB (41.5 MiB/s) with 1 file(s) remaining  \rCompleted 99.6 MiB/120.1 MiB (41.5 MiB/s) with 1 file(s) remaining  \rCompleted 99.9 MiB/120.1 MiB (41.6 MiB/s) with 1 file(s) remaining  \rCompleted 100.1 MiB/120.1 MiB (41.7 MiB/s) with 1 file(s) remaining \rCompleted 100.4 MiB/120.1 MiB (41.7 MiB/s) with 1 file(s) remaining \rCompleted 100.6 MiB/120.1 MiB (41.8 MiB/s) with 1 file(s) remaining \rCompleted 100.9 MiB/120.1 MiB (41.9 MiB/s) with 1 file(s) remaining \rCompleted 101.1 MiB/120.1 MiB (41.9 MiB/s) with 1 file(s) remaining \rCompleted 101.4 MiB/120.1 MiB (41.9 MiB/s) with 1 file(s) remaining \rCompleted 101.6 MiB/120.1 MiB (42.0 MiB/s) with 1 file(s) remaining \rCompleted 101.9 MiB/120.1 MiB (42.0 MiB/s) with 1 file(s) remaining \rCompleted 102.1 MiB/120.1 MiB (42.1 MiB/s) with 1 file(s) remaining \rCompleted 102.4 MiB/120.1 MiB (42.2 MiB/s) with 1 file(s) remaining \rCompleted 102.6 MiB/120.1 MiB (42.2 MiB/s) with 1 file(s) remaining \rCompleted 102.9 MiB/120.1 MiB (42.3 MiB/s) with 1 file(s) remaining \rCompleted 103.1 MiB/120.1 MiB (42.3 MiB/s) with 1 file(s) remaining \rCompleted 103.4 MiB/120.1 MiB (42.4 MiB/s) with 1 file(s) remaining \rCompleted 103.6 MiB/120.1 MiB (42.4 MiB/s) with 1 file(s) remaining \rCompleted 103.9 MiB/120.1 MiB (42.5 MiB/s) with 1 file(s) remaining \rCompleted 104.1 MiB/120.1 MiB (42.5 MiB/s) with 1 file(s) remaining \rCompleted 104.4 MiB/120.1 MiB (42.6 MiB/s) with 1 file(s) remaining \rCompleted 104.6 MiB/120.1 MiB (42.7 MiB/s) with 1 file(s) remaining \rCompleted 104.9 MiB/120.1 MiB (42.7 MiB/s) with 1 file(s) remaining \rCompleted 105.1 MiB/120.1 MiB (42.8 MiB/s) with 1 file(s) remaining \rCompleted 105.4 MiB/120.1 MiB (42.8 MiB/s) with 1 file(s) remaining \rCompleted 105.6 MiB/120.1 MiB (42.9 MiB/s) with 1 file(s) remaining \rCompleted 105.9 MiB/120.1 MiB (42.9 MiB/s) with 1 file(s) remaining \rCompleted 106.1 MiB/120.1 MiB (43.0 MiB/s) with 1 file(s) remaining \rCompleted 106.4 MiB/120.1 MiB (43.0 MiB/s) with 1 file(s) remaining \rCompleted 106.6 MiB/120.1 MiB (43.1 MiB/s) with 1 file(s) remaining \rCompleted 106.9 MiB/120.1 MiB (43.1 MiB/s) with 1 file(s) remaining \rCompleted 107.1 MiB/120.1 MiB (43.2 MiB/s) with 1 file(s) remaining \rCompleted 107.4 MiB/120.1 MiB (43.2 MiB/s) with 1 file(s) remaining \rCompleted 107.6 MiB/120.1 MiB (43.3 MiB/s) with 1 file(s) remaining \rCompleted 107.9 MiB/120.1 MiB (43.3 MiB/s) with 1 file(s) remaining \rCompleted 108.1 MiB/120.1 MiB (43.4 MiB/s) with 1 file(s) remaining \rCompleted 108.4 MiB/120.1 MiB (43.4 MiB/s) with 1 file(s) remaining \rCompleted 108.6 MiB/120.1 MiB (43.5 MiB/s) with 1 file(s) remaining \rCompleted 108.9 MiB/120.1 MiB (43.6 MiB/s) with 1 file(s) remaining \rCompleted 109.1 MiB/120.1 MiB (43.5 MiB/s) with 1 file(s) remaining \rCompleted 109.4 MiB/120.1 MiB (43.6 MiB/s) with 1 file(s) remaining \rCompleted 109.6 MiB/120.1 MiB (43.7 MiB/s) with 1 file(s) remaining \rCompleted 109.9 MiB/120.1 MiB (43.8 MiB/s) with 1 file(s) remaining \rCompleted 110.1 MiB/120.1 MiB (43.8 MiB/s) with 1 file(s) remaining \rCompleted 110.4 MiB/120.1 MiB (43.8 MiB/s) with 1 file(s) remaining \rCompleted 110.6 MiB/120.1 MiB (43.9 MiB/s) with 1 file(s) remaining \rCompleted 110.9 MiB/120.1 MiB (44.0 MiB/s) with 1 file(s) remaining \rCompleted 111.1 MiB/120.1 MiB (44.0 MiB/s) with 1 file(s) remaining \rCompleted 111.4 MiB/120.1 MiB (44.0 MiB/s) with 1 file(s) remaining \rCompleted 111.6 MiB/120.1 MiB (44.1 MiB/s) with 1 file(s) remaining \rCompleted 111.9 MiB/120.1 MiB (44.2 MiB/s) with 1 file(s) remaining \rCompleted 112.1 MiB/120.1 MiB (44.2 MiB/s) with 1 file(s) remaining \rCompleted 112.4 MiB/120.1 MiB (44.3 MiB/s) with 1 file(s) remaining \rCompleted 112.6 MiB/120.1 MiB (44.3 MiB/s) with 1 file(s) remaining \rCompleted 112.9 MiB/120.1 MiB (44.4 MiB/s) with 1 file(s) remaining \rCompleted 113.1 MiB/120.1 MiB (44.4 MiB/s) with 1 file(s) remaining \rCompleted 113.4 MiB/120.1 MiB (44.5 MiB/s) with 1 file(s) remaining \rCompleted 113.6 MiB/120.1 MiB (44.6 MiB/s) with 1 file(s) remaining \rCompleted 113.9 MiB/120.1 MiB (44.6 MiB/s) with 1 file(s) remaining \rCompleted 114.1 MiB/120.1 MiB (44.7 MiB/s) with 1 file(s) remaining \rCompleted 114.4 MiB/120.1 MiB (44.7 MiB/s) with 1 file(s) remaining \rCompleted 114.6 MiB/120.1 MiB (44.8 MiB/s) with 1 file(s) remaining \rCompleted 114.9 MiB/120.1 MiB (44.9 MiB/s) with 1 file(s) remaining \rCompleted 115.1 MiB/120.1 MiB (44.9 MiB/s) with 1 file(s) remaining \rCompleted 115.4 MiB/120.1 MiB (44.9 MiB/s) with 1 file(s) remaining \rCompleted 115.6 MiB/120.1 MiB (45.0 MiB/s) with 1 file(s) remaining \rCompleted 115.9 MiB/120.1 MiB (45.0 MiB/s) with 1 file(s) remaining \rCompleted 116.1 MiB/120.1 MiB (45.1 MiB/s) with 1 file(s) remaining \rCompleted 116.4 MiB/120.1 MiB (45.1 MiB/s) with 1 file(s) remaining \rCompleted 116.6 MiB/120.1 MiB (45.2 MiB/s) with 1 file(s) remaining \rCompleted 116.9 MiB/120.1 MiB (45.2 MiB/s) with 1 file(s) remaining \rCompleted 117.1 MiB/120.1 MiB (45.3 MiB/s) with 1 file(s) remaining \rCompleted 117.4 MiB/120.1 MiB (45.4 MiB/s) with 1 file(s) remaining \rCompleted 117.6 MiB/120.1 MiB (45.4 MiB/s) with 1 file(s) remaining \rCompleted 117.9 MiB/120.1 MiB (45.5 MiB/s) with 1 file(s) remaining \rCompleted 118.1 MiB/120.1 MiB (45.6 MiB/s) with 1 file(s) remaining \rCompleted 118.4 MiB/120.1 MiB (45.6 MiB/s) with 1 file(s) remaining \rCompleted 118.6 MiB/120.1 MiB (45.7 MiB/s) with 1 file(s) remaining \rCompleted 118.9 MiB/120.1 MiB (45.7 MiB/s) with 1 file(s) remaining \rCompleted 119.1 MiB/120.1 MiB (45.7 MiB/s) with 1 file(s) remaining \rCompleted 119.4 MiB/120.1 MiB (45.6 MiB/s) with 1 file(s) remaining \rCompleted 119.6 MiB/120.1 MiB (45.6 MiB/s) with 1 file(s) remaining \rCompleted 119.9 MiB/120.1 MiB (45.5 MiB/s) with 1 file(s) remaining \rCompleted 120.1 MiB/120.1 MiB (45.5 MiB/s) with 1 file(s) remaining \rupload: ./yellow_tripdata_2021-01.csv to s3://yellow-taxi-ny-983794/yellow_tripdata_2021-01.csv\n",
            "2022-01-08 02:10:55          0 cb7da54e-d080-456f-bedd-4787eb3124a6.txt\n",
            "2022-01-09 00:03:25  125981363 yellow_tripdata_2021-01.csv\n"
          ]
        }
      ]
    }
  ]
}